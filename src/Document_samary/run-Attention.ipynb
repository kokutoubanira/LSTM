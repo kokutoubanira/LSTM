{
 "cells": [
  {
   "cell_type": "code",
   "execution_count": 1,
   "metadata": {},
   "outputs": [
    {
     "data": {
      "text/plain": [
       "'\\n'"
      ]
     },
     "execution_count": 1,
     "metadata": {},
     "output_type": "execute_result"
    }
   ],
   "source": [
    "import torch \n",
    "from torch import nn,optim\n",
    "from torch.utils.data import(Dataset, DataLoader, TensorDataset)\n",
    "import tqdm\n",
    "import re \n",
    "import collections\n",
    "import itertools\n",
    "import MeCab\n",
    "import neologdn\n",
    "import emoji\n",
    "#Mecab　path 確認コマンド\n",
    "#echo `mecab-config --dicdir`\"/mecab-ipadic-neologd\"\n",
    "mecab = MeCab.Tagger('-Owakati -d /usr/lib/x86_64-linux-gnu/mecab/dic/mecab-ipadic-neologd')\n",
    "mecab.parse('')  # バグ対処"
   ]
  },
  {
   "cell_type": "markdown",
   "metadata": {},
   "source": [
    "# 補助関数の作成"
   ]
  },
  {
   "cell_type": "code",
   "execution_count": 2,
   "metadata": {},
   "outputs": [],
   "source": [
    "remove_marks_regex = re.compile(\"[\\,\\(\\)\\[\\]\\*:;]|<.*?>\")\n",
    "shift_marks_regex = re.compile(\"([?!\\.])\")\n",
    "\n",
    "\n",
    "\n",
    "unk = 0\n",
    "sos = 1\n",
    "eos = 2\n",
    "\n",
    "def normalize(text):\n",
    "    text = text.lower()\n",
    "#     #不要な文字を削除\n",
    "#     text = remove_marks_regex.sub(\"\", text)\n",
    "    #?!.と単語の間に空白を挿入\n",
    "    text = shift_marks_regex.sub(r\"\\1\", text)\n",
    "    #重ね表現の削除\n",
    "    text = neologdn.normalize(text)\n",
    "    #url削除\n",
    "    text = re.sub(r'https?://[\\w/:%#\\$&\\?\\(\\)~\\.=\\+\\-]+', '', text)\n",
    "    #絵文字削除\n",
    "    text = ''.join(['' if c in emoji.UNICODE_EMOJI else c for c in text])\n",
    "    #桁区切りの削除\n",
    "    text = re.sub(r'(\\d)([,.])(\\d+)', r'\\1\\3', text)\n",
    "    text = re.sub(r'\\d+', '0', text)\n",
    "    # 半角記号の置換\n",
    "    text = re.sub(r'[!-/:-@[-`{-~]', r' ', text)\n",
    "    # 全角記号の置換 (ここでは0x25A0 - 0x266Fのブロックのみを除去)\n",
    "    text = re.sub(u'[■-♯]', ' ', text)\n",
    "    text = text.replace(\"【\", \" \").replace(\"】\", \" \").replace(\"『\",\" \").replace(\"』\", \" \").replace(\"、\", \" \").replace(\"。\", \" \").replace(\"”\", \" \").replace('\"', \" \")\n",
    "    return text\n",
    "\n",
    "def parse_line(line):\n",
    "    src,trg = line.split(\"\\t\")[:2]\n",
    "    #翻訳元と翻訳先それぞれのトークンリストを作成する\n",
    "    src = mecab.parse(str(src))\n",
    "    trg = mecab.parse(str(trg))\n",
    "    src_tokens = src.strip().split()\n",
    "    trg_tokens = trg.strip().split()\n",
    "    return src_tokens, trg_tokens\n",
    "\n",
    "def build_vocab(tokens):\n",
    "    #ファイル中のすべての文章でのトークン数を数える\n",
    "    counts = collections.Counter(tokens)\n",
    "    #トークンの出現数の多い順に並べる\n",
    "    sorted_counts = sorted(counts.items(), key=lambda c: c[1], reverse=True)\n",
    "    #3つのタグを追加して正引きリストと逆引き用辞書を作る\n",
    "    word_list = [\"<UNK>\", \"<SOS>\", \"<EOS>\"] \\\n",
    "    + [x[0] for x in sorted_counts]\n",
    "    word_dict = dict((w, i) for i, w in enumerate(word_list))\n",
    "    return word_list, word_dict\n",
    "\n",
    "def words2tensor(words, word_dict, max_len, padding=0):\n",
    "    #末尾に終了タグをつける\n",
    "    words = words + [\"<EOS>\"]\n",
    "    #辞書を利用して数値のリストに変換する\n",
    "    words = [word_dict.get(w,0) for w in words]\n",
    "    seq_len = len(words)\n",
    "    #長さがmax_len以下の場合はパディングする\n",
    "    if seq_len < max_len + 1:\n",
    "        words = words + [padding] * (max_len + 1 - seq_len)\n",
    "    #Tensorに変換して返す\n",
    "    return torch.tensor(words, dtype=torch.int64), seq_len"
   ]
  },
  {
   "cell_type": "markdown",
   "metadata": {},
   "source": [
    "# TranslationPairDatasetクラスの作成"
   ]
  },
  {
   "cell_type": "code",
   "execution_count": 3,
   "metadata": {},
   "outputs": [],
   "source": [
    "class TranslationPairDataset(Dataset):\n",
    "    def __init__(self, path, max_len=15):\n",
    "        #単語数が多い文書をフィルタリングする関数\n",
    "        def filter_pair(p):\n",
    "            return not(len(p[0]) > max_len or len(p[1]) > max_len)\n",
    "        #ファイルを開き、パース/フィルタリングする\n",
    "        with open(path)as fp:\n",
    "            pairs = map(parse_line, fp)\n",
    "#             pairs = filter(filter_pair, pairs)\n",
    "            pairs = list(pairs)\n",
    "        #文書のペアをソースとターゲットに分ける\n",
    "        src = [p[0][0:70] for p in pairs]\n",
    "        trg = [p[1][0:35] for p in pairs]\n",
    "\n",
    "        #それぞれの語彙集を作成する\n",
    "        self.src_word_list, self.src_word_dict = build_vocab(itertools.chain.from_iterable(src))\n",
    "        self.trg_word_list, self.trg_word_dict = build_vocab(itertools.chain.from_iterable(trg))\n",
    "        #語彙集を使用してTensorに変換する\n",
    "        self.src_data = [words2tensor(words, self.src_word_dict, max_len) for words in src]\n",
    "        self.trg_data = [words2tensor(words, self.trg_word_dict, 35, -100) for words in trg]\n",
    "        \n",
    "    def __len__(self):\n",
    "        return len(self.src_data)\n",
    "    \n",
    "    def __getitem__(self, idx):\n",
    "        src, Isrc = self.src_data[idx]\n",
    "        trg, Itrg = self.trg_data[idx]\n",
    "\n",
    "        return src, Isrc, trg, Itrg"
   ]
  },
  {
   "cell_type": "markdown",
   "metadata": {},
   "source": [
    "# Encoderの作成"
   ]
  },
  {
   "cell_type": "code",
   "execution_count": 4,
   "metadata": {},
   "outputs": [],
   "source": [
    "class Encoder(nn.Module):\n",
    "    def __init__(self, num_embeddings, embedding_dim=128, hidden_size=256, num_layers=4, dropout=0.2):\n",
    "        super().__init__()\n",
    "        self.emb = nn.Embedding(num_embeddings, embedding_dim, padding_idx=0)\n",
    "        self.lstm = nn.LSTM(embedding_dim, hidden_size, num_layers, batch_first=True, dropout=dropout)\n",
    "\n",
    "    def forward(self, x, h0=None,l=None):\n",
    "        x = self.emb(x)\n",
    "        if l is not None:\n",
    "            x = nn.utils.rnn.pack_padded_sequence(x, l, batch_first=True)\n",
    "        x, h = self.lstm(x, h0)\n",
    "\n",
    "        return x, h"
   ]
  },
  {
   "cell_type": "markdown",
   "metadata": {},
   "source": [
    "# Decoderの作成"
   ]
  },
  {
   "cell_type": "code",
   "execution_count": 5,
   "metadata": {},
   "outputs": [],
   "source": [
    "class Decoder(nn.Module):\n",
    "    def __init__(self, num_embeddings, embedding_dim=128, hidden_size=256, num_layers=4, dropout=0.2):\n",
    "        super().__init__()\n",
    "        self.emb = nn.Embedding(num_embeddings, embedding_dim, padding_idx=0)\n",
    "        self.lstm = nn.LSTM(embedding_dim, hidden_size, num_layers, batch_first=True, dropout=dropout)\n",
    "        self.linear = nn.Linear(hidden_size * 2, num_embeddings)\n",
    "        self.softmax = nn.Softmax(dim=1)\n",
    "        self.hidden_size = hidden_size\n",
    "        \n",
    "\n",
    "    def forward(self, x, h, l=None, hs=None):\n",
    "        x = self.emb(x)\n",
    "        if l is not None:\n",
    "            x = nn.utils.rnn.pack_padded_sequence(x, l, batch_first=True)\n",
    "        x, h = self.lstm(x, h)\n",
    "\n",
    "        if l is not None:\n",
    "            x =nn.utils.rnn.pad_packed_sequence(x, batch_first=True, padding_value=0)[0]\n",
    "        t_output = torch.transpose(x, 1, 2)\n",
    "        hs = nn.utils.rnn.pad_packed_sequence(hs, batch_first=True, padding_value=0)[0]\n",
    "        s = torch.bmm(hs, t_output)\n",
    "        attention_weight = self.softmax(s)\n",
    "        c = torch.zeros(hs.size()[0], 1, self.hidden_size, device=\"cuda:0\")\n",
    "        for i in range(attention_weight.size()[2]):\n",
    "            unsq_weight = attention_weight[:,:,i].unsqueeze(2)\n",
    "            weighted_hs = hs * unsq_weight\n",
    "            weight_sum = torch.sum(weighted_hs, axis=1).unsqueeze(1)\n",
    "            \n",
    "            c = torch.cat([c, weight_sum], dim=1)\n",
    "        c = c[:,1:,:]\n",
    "\n",
    "        output = torch.cat([x, c], dim=2) # output.size() = ([100, 10, 256])\n",
    "        output = self.linear(output)\n",
    "        return output, h"
   ]
  },
  {
   "cell_type": "markdown",
   "metadata": {},
   "source": [
    "# Attention"
   ]
  },
  {
   "cell_type": "code",
   "execution_count": null,
   "metadata": {},
   "outputs": [],
   "source": []
  },
  {
   "cell_type": "markdown",
   "metadata": {},
   "source": [
    "# Translate"
   ]
  },
  {
   "cell_type": "code",
   "execution_count": 6,
   "metadata": {},
   "outputs": [],
   "source": [
    "def translate(input_str, enc, dec, max_len=15, device=\"cpu\"):\n",
    "    words = normalize(input_str)\n",
    "    words = mecab.parse(words)\n",
    "    words = words.strip().split()\n",
    "    input_tensor, seq_len = words2tensor(words[0:70], ds.src_word_dict, max_len=max_len)\n",
    "    input_tensor = input_tensor.unsqueeze(0)\n",
    "    #Encoderで使用するので入力の長さもリストにしておく\n",
    "    seq_len = [seq_len]\n",
    "    #開始トークン準備\n",
    "    sos_inputs = torch.tensor(sos, dtype=torch.int64)\n",
    "    input_tensor = input_tensor.to(device)\n",
    "    sos_inputs = sos_inputs.to(device)\n",
    "    #入力文字配列をEncoderに入れてコンテキストを得る\n",
    "    x , ctx = enc(input_tensor, l=seq_len)\n",
    "    #開始トークンとコンテキストをDecoderの初期値にセット\n",
    "    z = sos_inputs\n",
    "    h = ctx\n",
    "    results = []\n",
    "    for i in range(max_len):\n",
    "        #Decoderで次の単語を予測\n",
    "        o,h = dec(z.view(1,1), h, hs=x)\n",
    "        #線形層の出力が最も大きい場所が次の単語のID\n",
    "        wi = o.detach().view(-1).max(0)[1]\n",
    "        if wi.item() == eos:\n",
    "            break\n",
    "        results.append(wi.item())\n",
    "        #次の入力は今回の出力のIDを使用する\n",
    "        z = wi\n",
    "    #記録しておいた出力のIDを文字列に変換\n",
    "    return \" \".join(ds.trg_word_list[i] for i in results)"
   ]
  },
  {
   "cell_type": "code",
   "execution_count": 7,
   "metadata": {},
   "outputs": [],
   "source": [
    "batch_size = 35\n",
    "max_len = 70\n",
    "path = \"train_data/Text.tsv\"\n",
    "ds = TranslationPairDataset(path, max_len=max_len)\n",
    "loder = DataLoader(ds, batch_size=batch_size, shuffle=True, num_workers=0)\n"
   ]
  },
  {
   "cell_type": "markdown",
   "metadata": {},
   "source": [
    "## 単語数確認"
   ]
  },
  {
   "cell_type": "code",
   "execution_count": 8,
   "metadata": {},
   "outputs": [
    {
     "name": "stdout",
     "output_type": "stream",
     "text": [
      "36299\n",
      "17642\n"
     ]
    }
   ],
   "source": [
    "print(len(ds.src_word_list))\n",
    "print(len(ds.trg_word_list))"
   ]
  },
  {
   "cell_type": "code",
   "execution_count": 9,
   "metadata": {},
   "outputs": [],
   "source": [
    "# サンプルテキスト\n",
    "text1 = \"もうすぐジューン・ブライドと呼ばれる６月。独女の中には自分の式はまだなのに呼ばれてばかり……という「お祝い貧乏」状態の人も多いのではないだろうか？　さらに出席回数を重ねていくと、こんなお願いごとをされることも少なくない。\\\n",
    "「お願いがあるんだけど……友人代表のスピーチ、やってくれないかな？」さてそんなとき、独女はどう対応したらいいか？ \\\n",
    "最近だとインターネット等で検索すれば友人代表スピーチ用の例文サイトがたくさん出てくるので、それらを参考にすれば、無難なものは誰でも作成できる。しかし由利さん（33歳）はネットを参考にして作成したものの「これで本当にいいのか不安でした。一人暮らしなので聞かせて感想をいってくれる人もいないし、かといって他の友人にわざわざ聞かせるのもどうかと思うし……」ということで活用したのが、なんとインターネットの悩み相談サイトに。\\\n",
    "そこに作成したスピーチ文を掲載し「これで大丈夫か添削してください」とメッセージを送ったというのである。「一晩で3人位の人が添削してくれましたよ。ちなみに自分以外にもそういう人はたくさんいて、\\\n",
    "その相談サイトには同じように添削をお願いする投稿がいっぱいありました」（由利さん）。ためしに教えてもらったそのサイトをみてみると、確かに「結婚式のスピーチの添削お願いします」という投稿が1000件を超えるくらいあった。めでたい結婚式の影でこんなネットコミュニティがあったとは知らなかった。しかし「事前にお願いされるスピーチなら準備ができるしまだいいですよ。\\\n",
    "一番嫌なのは何といってもサプライズスピーチ！」と語るのは昨年だけで10万以上お祝いにかかったというお祝い貧乏独女の薫さん（35歳）\\\n",
    "「私は基本的に人前で話すのが苦手なんですよ。だからいきなり指名されるとしどろもどろになって何もいえなくなる。そうすると自己嫌悪に陥って終わった後でもまったく楽しめなくなりますね」\"\n",
    "text2 = \"　今回配信されるのは、ドラマ『モテキ』でCMに切り替わる際、主人公・森山未來が神輿に担がれるシーンにて使用されていた、「好きよ！抱いて！」のフレーズでお馴染みの映画バージョンの着信ボイス。\\\n",
    "その他にもレコチョクでは、映画『モテキ』のオープニングテーマ曲のフジファブリック「夜明けのBEAT」や、メインテーマ曲の女王蜂「デスコ」など関連曲の着うた(R)、着うたフル(R)などを配信中。後日、\\\n",
    "出演者の長澤まさみ動画コメント配信や、ポラロイド写真のプレゼントも実施予定となっている。\\\n",
    "モテキ関連楽曲 映画「モテキ」オープニングテーマ：フジファブリック「夜明けのBEAT」映画「モテキ」メインテーマ：女王蜂「デスコ」 \\\n",
    "Half-Life「J-POP」大江千里「格好悪いふられ方」TM NETWORK 「SELF CONTROL」N'夙川BOYS「物語はちと?不安定」Fishmans 「いかれたBaby」Perfume「Baby cruising Love」 \\\n",
    "ももいろクローバー「走れ!」三木道三 「Lifetime　Respect」ACO 「悦びに咲く花」橘いずみ「失格」加藤 ミリヤ×清水 翔太「Love Forever」JUDY AND MARY 「LOVER SOUL」くるり「東京」・モテキ - 公開情報・ドコモマーケット MUSICストア\""
   ]
  },
  {
   "cell_type": "markdown",
   "metadata": {},
   "source": [
    "## 動作確認"
   ]
  },
  {
   "cell_type": "markdown",
   "metadata": {},
   "source": [
    "## モデルの学習"
   ]
  },
  {
   "cell_type": "code",
   "execution_count": 10,
   "metadata": {},
   "outputs": [],
   "source": [
    "enc = Encoder(len(ds.src_word_list))\n",
    "dec = Decoder(len(ds.trg_word_list))\n",
    "enc.to(\"cuda:0\")\n",
    "dec.to(\"cuda:0\")\n",
    "opt_enc = optim.Adam(enc.parameters(), 0.001)\n",
    "opt_dec = optim.Adam(dec.parameters(), 0.001)\n",
    "loss_f =  nn.CrossEntropyLoss()"
   ]
  },
  {
   "cell_type": "markdown",
   "metadata": {},
   "source": [
    "# BLEU"
   ]
  },
  {
   "cell_type": "code",
   "execution_count": 11,
   "metadata": {},
   "outputs": [
    {
     "name": "stdout",
     "output_type": "stream",
     "text": [
      "['The brown fox jumps over the dog 笑'] ['The quick brown fox jumps over the lazy dog 笑']\n"
     ]
    },
    {
     "data": {
      "text/plain": [
       "47.88"
      ]
     },
     "execution_count": 11,
     "metadata": {},
     "output_type": "execute_result"
    }
   ],
   "source": [
    "import torchnlp.metrics.bleu as bleu\n",
    "hypotheses = [\"The brown fox jumps over the dog 笑\"]\n",
    "references = [\"The quick brown fox jumps over the lazy dog 笑\"]\n",
    "print(hypotheses, references)\n",
    "bleu.get_moses_multi_bleu(hypotheses, references, lowercase=True)"
   ]
  },
  {
   "cell_type": "code",
   "execution_count": 12,
   "metadata": {},
   "outputs": [],
   "source": [
    "from collections import defaultdict\n",
    "import torchnlp.metrics.bleu as bleu\n",
    "\n",
    "def evalute_bleu(X, y):\n",
    "    X = mecab.parse(X)\n",
    "    y = mecab.parse(y)\n",
    "    score = bleu.get_moses_multi_bleu(X, y, lowercase=True)\n",
    "    if score == None:\n",
    "        score = 0.0\n",
    "    return float(score)"
   ]
  },
  {
   "cell_type": "code",
   "execution_count": 13,
   "metadata": {},
   "outputs": [
    {
     "name": "stdout",
     "output_type": "stream",
     "text": [
      "思ったより所持率の低いスマホ　—　関心は高いが利用者は実は約１割【話題】\n",
      "会議室から教室まで！　価格で汎用性の高い3D対応プロジェクターDELLから新発売【売れ筋チェック】\n",
      "肌を輝かせる食べ物とは／高カロリーな食べ物TOP10など−【ビューティー】週間ランキング\n"
     ]
    }
   ],
   "source": [
    "import pandas as pd\n",
    "test = pd.read_csv(\"train_data/Text.tsv\",  delimiter='\\t', header=None)\n",
    "for i in test.sample(n=3).values:\n",
    "    print(i[1])"
   ]
  },
  {
   "cell_type": "markdown",
   "metadata": {},
   "source": [
    "## モデルの学習部分作成"
   ]
  },
  {
   "cell_type": "code",
   "execution_count": 14,
   "metadata": {},
   "outputs": [
    {
     "name": "stderr",
     "output_type": "stream",
     "text": [
      "100%|██████████| 211/211 [00:17<00:00, 12.33it/s]\n",
      "  1%|          | 2/211 [00:00<00:16, 12.70it/s]"
     ]
    },
    {
     "name": "stdout",
     "output_type": "stream",
     "text": [
      "0 4.2918374052544905\n",
      "ソフトバンク・ウィルコム、2012年夏新商品発表会を5月29日（火）11時から開催\n",
      "、 の の ！ に 「 「 に\n"
     ]
    },
    {
     "name": "stderr",
     "output_type": "stream",
     "text": [
      "100%|██████████| 211/211 [00:17<00:00, 12.19it/s]\n",
      "  1%|          | 2/211 [00:00<00:19, 10.84it/s]"
     ]
    },
    {
     "name": "stdout",
     "output_type": "stream",
     "text": [
      "1 3.7642191326448704\n",
      "海外移住を検討する山本太郎夫妻に「何のための反原発だったの？」\n",
      "の の の の の の の の の\n"
     ]
    },
    {
     "name": "stderr",
     "output_type": "stream",
     "text": [
      "100%|██████████| 211/211 [00:17<00:00, 12.16it/s]\n",
      "  1%|          | 2/211 [00:00<00:17, 11.98it/s]"
     ]
    },
    {
     "name": "stdout",
     "output_type": "stream",
     "text": [
      "2 3.5736883805261406\n",
      "有線スピーカーがBluetooth対応に！ロジクール ワイヤレススピーカーアダプターを限定発売\n",
      "の 「 「 「 「 「 「 「 」 」 の 「 」 」\n"
     ]
    },
    {
     "name": "stderr",
     "output_type": "stream",
     "text": [
      "100%|██████████| 211/211 [00:17<00:00, 12.02it/s]\n",
      "  1%|          | 2/211 [00:00<00:16, 12.35it/s]"
     ]
    },
    {
     "name": "stdout",
     "output_type": "stream",
     "text": [
      "3 3.272662418148529\n",
      "逆に太るNGダイエット／ポーチもスッキリな2wayコスメなど−【ビューティ】週間ランキング\n",
      "の 「 「 「 「 」 」 の 「 」 」\n"
     ]
    },
    {
     "name": "stderr",
     "output_type": "stream",
     "text": [
      "100%|██████████| 211/211 [00:17<00:00, 12.71it/s]\n",
      "  1%|          | 2/211 [00:00<00:16, 12.60it/s]"
     ]
    },
    {
     "name": "stdout",
     "output_type": "stream",
     "text": [
      "4 3.0814180385444967\n",
      "「勝手な広告出すな!」韓国への感謝広告に批判殺到  \n",
      "の 「 「 貯め 」 の 「 い 」 の 声\n"
     ]
    },
    {
     "name": "stderr",
     "output_type": "stream",
     "text": [
      "100%|██████████| 211/211 [00:17<00:00, 11.93it/s]\n",
      "  1%|          | 2/211 [00:00<00:17, 12.00it/s]"
     ]
    },
    {
     "name": "stdout",
     "output_type": "stream",
     "text": [
      "5 2.9368588969605796\n",
      "インタビュー：山田孝之＆大島優子「見たくないだろうけど、絶対に見なきゃいけない」\n",
      "の 「 HTC 」 の 「 ない 」 の 声\n"
     ]
    },
    {
     "name": "stderr",
     "output_type": "stream",
     "text": [
      "100%|██████████| 211/211 [00:17<00:00, 12.14it/s]\n",
      "  1%|          | 2/211 [00:00<00:18, 11.40it/s]"
     ]
    },
    {
     "name": "stdout",
     "output_type": "stream",
     "text": [
      "6 2.7708944664182256\n",
      "iPhoneに高く、Androidに低い「キャリアのカベ」【デジ通】\n",
      "の “ アベンジャーズ ” の 「 アベンジャーズ 」 の 声 に\n"
     ]
    },
    {
     "name": "stderr",
     "output_type": "stream",
     "text": [
      "100%|██████████| 211/211 [00:17<00:00, 12.13it/s]\n",
      "  1%|          | 2/211 [00:00<00:16, 12.47it/s]"
     ]
    },
    {
     "name": "stdout",
     "output_type": "stream",
     "text": [
      "7 2.6551202518680084\n",
      "地震後に一丸となったシェフたちが「食で国を元気に！」\n",
      "の 「 Androidアプリ 」 の 「 アベンジャーズ 」 の 声\n"
     ]
    },
    {
     "name": "stderr",
     "output_type": "stream",
     "text": [
      "100%|██████████| 211/211 [00:17<00:00, 12.14it/s]\n",
      "  1%|          | 2/211 [00:00<00:17, 11.78it/s]"
     ]
    },
    {
     "name": "stdout",
     "output_type": "stream",
     "text": [
      "8 2.5425561350103805\n",
      "外国人が日本で友達を作る最も良い方法は？ \n",
      "の “ Androidアプリ ” の “ アベンジャーズ ” に は ？\n"
     ]
    },
    {
     "name": "stderr",
     "output_type": "stream",
     "text": [
      "100%|██████████| 211/211 [00:17<00:00, 12.21it/s]\n",
      "  1%|          | 2/211 [00:00<00:16, 13.03it/s]"
     ]
    },
    {
     "name": "stdout",
     "output_type": "stream",
     "text": [
      "9 2.4475002848141565\n",
      "【最近のオススメ「Androidアプリ」特集：2012年6月11〜17日編】\n",
      "の 「 しゃべくり007 」 の 声\n"
     ]
    },
    {
     "name": "stderr",
     "output_type": "stream",
     "text": [
      "100%|██████████| 211/211 [00:17<00:00, 12.17it/s]\n",
      "  1%|          | 2/211 [00:00<00:17, 12.12it/s]"
     ]
    },
    {
     "name": "stdout",
     "output_type": "stream",
     "text": [
      "10 2.3411135481432153\n",
      "【Sports Watch】松井大輔、妻・ローサに気遣いながらの新居選び!?\n",
      "の “ アベンジャーズ ” の “ アベンジャーズ ” に 、 “ アベンジャーズ ” に 非難 殺到\n"
     ]
    },
    {
     "name": "stderr",
     "output_type": "stream",
     "text": [
      "100%|██████████| 211/211 [00:17<00:00, 12.22it/s]\n",
      "  1%|          | 2/211 [00:00<00:17, 12.13it/s]"
     ]
    },
    {
     "name": "stdout",
     "output_type": "stream",
     "text": [
      "11 2.262844097557791\n",
      "【GOGW映画 一人編】『007』や『M:i』では描かれない“本物”のスパイ映画\n",
      "の “ アベンジャーズ ” の “ アベンジャーズ ” に 、 “ 進化論 ” を 公開\n"
     ]
    },
    {
     "name": "stderr",
     "output_type": "stream",
     "text": [
      "100%|██████████| 211/211 [00:17<00:00, 12.12it/s]\n",
      "  0%|          | 0/211 [00:00<?, ?it/s]"
     ]
    },
    {
     "name": "stdout",
     "output_type": "stream",
     "text": [
      "12 2.1677056624426094\n",
      "“就職先人気企業ランキング2012”の商社人気に疑問の声\n",
      "の “ アベンジャーズ ” の “ アベンジャーズ ” に 、 “ シミ ” の ポスター\n"
     ]
    },
    {
     "name": "stderr",
     "output_type": "stream",
     "text": [
      "100%|██████████| 211/211 [00:17<00:00, 12.22it/s]\n",
      "  1%|          | 2/211 [00:00<00:17, 12.20it/s]"
     ]
    },
    {
     "name": "stdout",
     "output_type": "stream",
     "text": [
      "13 2.1079105409965697\n",
      "シャープ、7インチAndroidタブレット「GALAPAGOS」シリーズ2製品を6月27日からAndroid 4.0へのOSバージョンアップを提供\n",
      "の “ マル・モリ・ダンス ” の “ オオカミ ” を 披露\n"
     ]
    },
    {
     "name": "stderr",
     "output_type": "stream",
     "text": [
      "100%|██████████| 211/211 [00:17<00:00, 12.20it/s]\n",
      "  1%|          | 2/211 [00:00<00:17, 11.70it/s]"
     ]
    },
    {
     "name": "stdout",
     "output_type": "stream",
     "text": [
      "14 2.025565239490491\n",
      "フルレンジサウンドの魅力を追求し、様々なテクノロジーを投入したプレミアムな逸品、ウッドコーン特別試聴イベントに潜入 \n",
      "の “ 心霊 ” の “ オオカミ ” を 披露\n"
     ]
    },
    {
     "name": "stderr",
     "output_type": "stream",
     "text": [
      " 13%|█▎        | 28/211 [00:02<00:15, 11.89it/s]\n"
     ]
    },
    {
     "ename": "KeyboardInterrupt",
     "evalue": "",
     "output_type": "error",
     "traceback": [
      "\u001b[0;31m---------------------------------------------------------------------------\u001b[0m",
      "\u001b[0;31mKeyboardInterrupt\u001b[0m                         Traceback (most recent call last)",
      "\u001b[0;32m<ipython-input-14-2529c6dc00de>\u001b[0m in \u001b[0;36m<module>\u001b[0;34m\u001b[0m\n\u001b[1;32m     24\u001b[0m         \u001b[0;31m#yのpackedSequenceを作るために翻訳先の長さで降順にソート\u001b[0m\u001b[0;34m\u001b[0m\u001b[0;34m\u001b[0m\u001b[0;34m\u001b[0m\u001b[0m\n\u001b[1;32m     25\u001b[0m         \u001b[0mly\u001b[0m\u001b[0;34m,\u001b[0m \u001b[0msort_idx\u001b[0m \u001b[0;34m=\u001b[0m \u001b[0mly\u001b[0m\u001b[0;34m.\u001b[0m\u001b[0msort\u001b[0m\u001b[0;34m(\u001b[0m\u001b[0mdescending\u001b[0m\u001b[0;34m=\u001b[0m\u001b[0;32mTrue\u001b[0m\u001b[0;34m)\u001b[0m\u001b[0;34m\u001b[0m\u001b[0;34m\u001b[0m\u001b[0m\n\u001b[0;32m---> 26\u001b[0;31m         \u001b[0my\u001b[0m \u001b[0;34m=\u001b[0m \u001b[0my\u001b[0m\u001b[0;34m[\u001b[0m\u001b[0msort_idx\u001b[0m\u001b[0;34m]\u001b[0m\u001b[0;34m\u001b[0m\u001b[0;34m\u001b[0m\u001b[0m\n\u001b[0m\u001b[1;32m     27\u001b[0m         \u001b[0;31m#Decoderの初期値をセット\u001b[0m\u001b[0;34m\u001b[0m\u001b[0;34m\u001b[0m\u001b[0;34m\u001b[0m\u001b[0m\n\u001b[1;32m     28\u001b[0m         \u001b[0mh0\u001b[0m \u001b[0;34m=\u001b[0m \u001b[0;34m(\u001b[0m\u001b[0mctx\u001b[0m\u001b[0;34m[\u001b[0m\u001b[0;36m0\u001b[0m\u001b[0;34m]\u001b[0m\u001b[0;34m[\u001b[0m\u001b[0;34m:\u001b[0m\u001b[0;34m,\u001b[0m\u001b[0msort_idx\u001b[0m\u001b[0;34m,\u001b[0m\u001b[0;34m:\u001b[0m\u001b[0;34m]\u001b[0m\u001b[0;34m,\u001b[0m\u001b[0mctx\u001b[0m\u001b[0;34m[\u001b[0m\u001b[0;36m1\u001b[0m\u001b[0;34m]\u001b[0m\u001b[0;34m[\u001b[0m\u001b[0;34m:\u001b[0m\u001b[0;34m,\u001b[0m\u001b[0msort_idx\u001b[0m\u001b[0;34m,\u001b[0m\u001b[0;34m:\u001b[0m\u001b[0;34m]\u001b[0m\u001b[0;34m)\u001b[0m\u001b[0;34m\u001b[0m\u001b[0;34m\u001b[0m\u001b[0m\n",
      "\u001b[0;31mKeyboardInterrupt\u001b[0m: "
     ]
    }
   ],
   "source": [
    "from statistics import mean\n",
    "\n",
    "def to2D(x):\n",
    "    shapes = x.shape\n",
    "    return x.reshape(shapes[0] * shapes[1], -1)\n",
    "\n",
    "for epoch in range(200):\n",
    "    enc.train(), dec.train()\n",
    "    losses = []\n",
    "    bleues = []\n",
    "    for x, lx, y, ly in tqdm.tqdm(loder):\n",
    "\n",
    "        \n",
    "        \n",
    "        #xのPackedSequenceを作るために翻訳元の長さで降順にソート\n",
    "        lx, sort_idx = lx.sort(descending = True)\n",
    "        x, y, ly = x[sort_idx], y[sort_idx], ly[sort_idx]\n",
    "\n",
    "        x = x.to(\"cuda:0\")\n",
    "        y = y.to(\"cuda:0\")\n",
    "        #翻訳元をEncoderに入れてコンテキストを得る\n",
    "        x , ctx = enc(x, l=lx)\n",
    "    \n",
    "        #yのpackedSequenceを作るために翻訳先の長さで降順にソート\n",
    "        ly, sort_idx = ly.sort(descending=True)\n",
    "        y = y[sort_idx]\n",
    "        #Decoderの初期値をセット\n",
    "        h0 = (ctx[0][:,sort_idx,:],ctx[1][:,sort_idx,:])\n",
    "        z = y[:,:-1].detach()\n",
    "        #-100のままだとEmbeddingの計算でエラーが出るので値を0にしておく\n",
    "        z[z==-100] = 0\n",
    "        #Decoderに通して損失関数を計算\n",
    "        o, _ = dec(z, h0,l=ly-1, hs=x)\n",
    "        loss = loss_f(to2D(o[:]), to2D(y[:,1:max(ly)]).squeeze())\n",
    "        #誤差逆伝播\n",
    "        enc.zero_grad()\n",
    "        dec.zero_grad()\n",
    "        loss.backward()\n",
    "        opt_enc.step()\n",
    "        opt_dec.step()\n",
    "        losses.append(loss.item())\n",
    "    \n",
    "    enc.eval()\n",
    "    dec.eval()\n",
    "    print(epoch, mean(losses))\n",
    "#     for i in test.sample(n=50).values:\n",
    "#         bleues.append(evalute_bleu(i[1], translate(i[0], enc, dec, max_len=max_len, device=\"cuda:0\")))\n",
    "#     print(\"BLEU SCORE:{}\".format(mean(bleues)))\n",
    "    with torch.no_grad():\n",
    "        for i in test.sample(n=1).values:\n",
    "            print(i[1])\n",
    "            print(translate(i[0], enc, dec, max_len, device=\"cuda:0\"))\n",
    "\n",
    "torch.save(enc.state_dict(), './enc.pth')\n",
    "torch.save(dec.state_dict(), './dec.pth')"
   ]
  },
  {
   "cell_type": "code",
   "execution_count": null,
   "metadata": {},
   "outputs": [],
   "source": [
    "torch.save(enc.state_dict(), './enc.pth')\n",
    "torch.save(dec.state_dict(), './dec.pth')"
   ]
  },
  {
   "cell_type": "code",
   "execution_count": 15,
   "metadata": {},
   "outputs": [],
   "source": [
    "text = \"ある日、スーパーサラリーマンだった“ツレ”が「死にたい！」ってつぶやいた！　一体どうしちゃったのツレ？　“ツレ”がうつ病になったことがきっかけで、\\\n",
    "成長していく夫婦の姿を描いた大人気・コミックエッセイ「ツレがうつになりまして。」。とかく暗くなりがちなうつ病というテーマをユーモアたっぷりにアッケラカンと吹き飛ばす原作の良さをそのままに、\\\n",
    "宮崎あおい＆堺雅人のコンビで待望の映画化を果たした。難しいテーマであるうつ病をほんわかハッピーに演じきった二人は、大河ドラマ「篤姫」続き、二度目の夫婦コンビ。\\\n",
    "今回は、撮影秘話や演じた夫婦役についてじっくりと話をうかがった。\""
   ]
  },
  {
   "cell_type": "code",
   "execution_count": 16,
   "metadata": {},
   "outputs": [
    {
     "data": {
      "text/plain": [
       "'の 初 で 社会現象 の 天才 犯罪者 を 公開 、 注目 の 特報映像 公開'"
      ]
     },
     "execution_count": 16,
     "metadata": {},
     "output_type": "execute_result"
    }
   ],
   "source": [
    "translate(text, enc, dec, max_len=max_len, device=\"cuda:0\")"
   ]
  },
  {
   "cell_type": "code",
   "execution_count": null,
   "metadata": {},
   "outputs": [],
   "source": [
    "enc"
   ]
  },
  {
   "cell_type": "code",
   "execution_count": null,
   "metadata": {},
   "outputs": [],
   "source": []
  }
 ],
 "metadata": {
  "kernelspec": {
   "display_name": "Python 3",
   "language": "python",
   "name": "python3"
  },
  "language_info": {
   "codemirror_mode": {
    "name": "ipython",
    "version": 3
   },
   "file_extension": ".py",
   "mimetype": "text/x-python",
   "name": "python",
   "nbconvert_exporter": "python",
   "pygments_lexer": "ipython3",
   "version": "3.7.6"
  }
 },
 "nbformat": 4,
 "nbformat_minor": 4
}
