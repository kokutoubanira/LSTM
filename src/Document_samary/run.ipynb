{
 "cells": [
  {
   "cell_type": "code",
   "execution_count": 1,
   "metadata": {},
   "outputs": [],
   "source": [
    "import torch \n",
    "from torch import nn,optim\n",
    "from torch.utils.data import(Dataset, DataLoader, TensorDataset)\n",
    "import tqdm\n",
    "import re \n",
    "import collections\n",
    "import itertools"
   ]
  },
  {
   "cell_type": "markdown",
   "metadata": {},
   "source": [
    "# 補助関数の作成"
   ]
  },
  {
   "cell_type": "code",
   "execution_count": 2,
   "metadata": {},
   "outputs": [],
   "source": [
    "remove_marks_regex = re.compile(\"[\\,\\(\\)\\[\\]\\*:;]|<.*?>\")\n",
    "shift_marks_regex = re.compile(\"([?!\\.])\")\n",
    "\n",
    "unk = 0\n",
    "sos = 1\n",
    "eos = 2\n",
    "\n",
    "def normalize(text):\n",
    "    text = text.lower()\n",
    "    #不要な文字を削除\n",
    "    text = remove_marks_regex.sub(\"\", text)\n",
    "    #?!.と単語の間に空白を挿入\n",
    "    text = shift_marks_regex.sub(r\"\\1\", text)\n",
    "    return text\n",
    "\n",
    "def parse_line(line):\n",
    "    line = normalize(line.strip())\n",
    "    #翻訳元と翻訳先それぞれのトークンリストを作成する\n",
    "    src,trg = line.split(\"\\t\")[:2]\n",
    "    src_tokens = src.strip().split()\n",
    "    trg_tokens = trg.strip().split()\n",
    "    return src_tokens, trg_tokens\n",
    "\n",
    "def build_vocab(tokens):\n",
    "    #ファイル中のすべての文章でのトークン数を数える\n",
    "    counts = collections.Counter(tokens)\n",
    "    #トークンの出現数の多い順に並べる\n",
    "    sorted_counts = sorted(counts.items(), key=lambda c: c[1], reverse=True)\n",
    "    #3つのタグを追加して正引きリストと逆引き用辞書を作る\n",
    "    word_list = [\"<UNK>\", \"<SOS>\", \"<EOS>\"] \\\n",
    "    + [x[0] for x in sorted_counts]\n",
    "    word_dict = dict((w, i) for i, w in enumerate(word_list))\n",
    "    return word_list, word_dict\n",
    "\n",
    "def words2tensor(words, word_dict, max_len, padding=0):\n",
    "    #末尾に終了タグをつける\n",
    "    words = words + [\"<EOS>\"]\n",
    "    #辞書を利用して数値のリストに変換する\n",
    "    words = [word_dict.get(w,0) for w in words]\n",
    "    seq_len = len(words)\n",
    "    #長さがmax_len以下の場合はパディングする\n",
    "    if seq_len < max_len + 1:\n",
    "        words = words + [padding] * (max_len + 1 - seq_len)\n",
    "    #Tensorに変換して返す\n",
    "    return torch.tensor(words, dtype=torch.int64), seq_len"
   ]
  },
  {
   "cell_type": "markdown",
   "metadata": {},
   "source": [
    "# TranslationPairDatasetクラスの作成"
   ]
  },
  {
   "cell_type": "code",
   "execution_count": 3,
   "metadata": {},
   "outputs": [],
   "source": [
    "class TranslationPairDataset(Dataset):\n",
    "    def __init__(self, path, max_len=15):\n",
    "        #単語数が多い文書をフィルタリングする関数\n",
    "        def filter_pair(p):\n",
    "            return not(len(p[0]) > max_len or len(p[1]) > max_len)\n",
    "        #ファイルを開き、パース/フィルタリングする\n",
    "        with open(path)as fp:\n",
    "            pairs = map(parse_line, fp)\n",
    "            pairs = filter(filter_pair, pairs)\n",
    "            pairs = list(pairs)\n",
    "        #文書のペアをソースとターゲットに分ける\n",
    "        src = [p[0] for p in pairs]\n",
    "        trg = [p[1] for p in pairs]\n",
    "        #それぞれの語彙集を作成する\n",
    "        self.src_word_list, self.src_word_dict = build_vocab(itertools.chain.from_iterable(src))\n",
    "        self.trg_word_list, self.trg_word_dict = build_vocab(itertools.chain.from_iterable(trg))\n",
    "        #語彙集を使用してTensorに変換する\n",
    "        self.src_data = [words2tensor(words, self.src_word_dict, max_len) for words in src]\n",
    "        self.trg_data = [words2tensor(words, self.trg_word_dict, max_len, -100) for words in trg]\n",
    "        \n",
    "    def __len__(self):\n",
    "        return len(self.src_data)\n",
    "    \n",
    "    def __getitem__(self, idx):\n",
    "        src, Isrc = self.src_data[idx]\n",
    "        trg, Itrg = self.trg_data[idx]\n",
    "        return src, Isrc, trg, Itrg"
   ]
  },
  {
   "cell_type": "markdown",
   "metadata": {},
   "source": [
    "# Encoderの作成"
   ]
  },
  {
   "cell_type": "code",
   "execution_count": 4,
   "metadata": {},
   "outputs": [],
   "source": [
    "class Encoder(nn.Module):\n",
    "    def __init__(self, num_embeddings, embedding_dim=50, hidden_size=50, num_layers=10, dropout=0.2):\n",
    "        super().__init__()\n",
    "        self.emb = nn.Embedding(num_embeddings, embedding_dim, padding_idx=0)\n",
    "        self.lstm = nn.LSTM(embedding_dim, hidden_size, num_layers, batch_first=True, dropout=dropout)\n",
    "        \n",
    "    def forward(self, x, h0=None,l=None):\n",
    "        x = self.emb(x)\n",
    "        if l is not None:\n",
    "            x = nn.utils.rnn.pack_padded_sequence(x, l, batch_first=True)\n",
    "        _, h = self.lstm(x, h0)\n",
    "        return h"
   ]
  },
  {
   "cell_type": "markdown",
   "metadata": {},
   "source": [
    "# Decoderの作成"
   ]
  },
  {
   "cell_type": "code",
   "execution_count": 5,
   "metadata": {},
   "outputs": [],
   "source": [
    "class Decoder(nn.Module):\n",
    "    def __init__(self, num_embeddings, embedding_dim=50, hidden_size=50, num_layers=1, dropout=0.2):\n",
    "        super().__init__()\n",
    "        self.emb = nn.Embedding(num_embeddings, embedding_dim, padding_idx=0)\n",
    "        self.lstm = nn.LSTM(embedding_dim, hidden_size, num_layers, batch_first=True, dropout=dropout)\n",
    "        self.linear = nn.Linear(hidden_size, num_embeddings)\n",
    "        \n",
    "    def forward(self, x, h, l=None):\n",
    "        x = self.emb(x)\n",
    "        if l is not None:\n",
    "            x = nn.utils.rnn.pack_padded_sequence(x, l, batch_first=True)\n",
    "        x, h = self.lstm(x, h)\n",
    "        if l is not None:\n",
    "            x =nn.utils.rnn.pad_packed_sequence(x, batch_first=True, padding_value=0)[0]\n",
    "        x = self.linear(x)\n",
    "        return x, h"
   ]
  },
  {
   "cell_type": "markdown",
   "metadata": {},
   "source": [
    "# Translate"
   ]
  },
  {
   "cell_type": "code",
   "execution_count": 6,
   "metadata": {},
   "outputs": [],
   "source": [
    "def translate(input_str, enc, dec, max_len=15, device=\"cpu\"):\n",
    "    words = normalize(input_str).split()\n",
    "    input_tensor, seq_len = words2tensor(words, ds.src_word_dict, max_len=max_len)\n",
    "    input_tensor = input_tensor.unsqueeze(0)\n",
    "    #Encoderで使用するので入力の長さもリストにしておく\n",
    "    seq_len = [seq_len]\n",
    "    #開始トークン準備\n",
    "    sos_inputs = torch.tensor(sos, dtype=torch.int64)\n",
    "    input_tensor = input_tensor.to(device)\n",
    "    sos_inputs = sos_inputs.to(device)\n",
    "    #入力文字配列をEncoderに入れてコンテキストを得る\n",
    "    ctx = enc(input_tensor, l=seq_len)\n",
    "    #開始トークンとコンテキストをDecoderの初期値にセット\n",
    "    z = sos_inputs\n",
    "    h = ctx\n",
    "    results = []\n",
    "    for i in range(max_len):\n",
    "        #Decoderで次の単語を予測\n",
    "        o,h = dec(z.view(1,1), h)\n",
    "        #線形層の出力が最も大きい場所が次の単語のID\n",
    "        wi = o.detach().view(-1).max(0)[1]\n",
    "        if wi.item() == eos:\n",
    "            break\n",
    "        results.append(wi.item())\n",
    "        #次の入力は今回の出力のIDを使用する\n",
    "        z = wi\n",
    "    #記録しておいた出力のIDを文字列に変換\n",
    "    return \" \".join(ds.trg_word_list[i] for i in results)"
   ]
  },
  {
   "cell_type": "code",
   "execution_count": 7,
   "metadata": {},
   "outputs": [],
   "source": [
    "batch_size = 32\n",
    "max_len = 39\n",
    "path = \"tmp.txt\"\n",
    "ds = TranslationPairDataset(path, max_len=max_len)\n",
    "loder = DataLoader(ds, batch_size=batch_size, shuffle=True, num_workers=0)\n"
   ]
  },
  {
   "cell_type": "markdown",
   "metadata": {},
   "source": [
    "## 単語数確認"
   ]
  },
  {
   "cell_type": "code",
   "execution_count": 8,
   "metadata": {},
   "outputs": [
    {
     "name": "stdout",
     "output_type": "stream",
     "text": [
      "2177\n",
      "2200\n"
     ]
    }
   ],
   "source": [
    "print(len(ds.src_word_list))\n",
    "print(len(ds.trg_word_list))"
   ]
  },
  {
   "cell_type": "markdown",
   "metadata": {},
   "source": [
    "## 動作確認"
   ]
  },
  {
   "cell_type": "code",
   "execution_count": 9,
   "metadata": {},
   "outputs": [
    {
     "data": {
      "text/plain": [
       "'サポート 早く 早く 早く 早く 早く 大滝村 早く 早く 早く 早く 早く 終わり 早く 早く'"
      ]
     },
     "execution_count": 9,
     "metadata": {},
     "output_type": "execute_result"
    }
   ],
   "source": [
    "enc = Encoder(len(ds.src_word_list), 100, 100, 2)\n",
    "dec = Decoder(len(ds.trg_word_list), 100, 100, 2)\n",
    "translate(\"なぜ 来る の\", enc, dec)"
   ]
  },
  {
   "cell_type": "markdown",
   "metadata": {},
   "source": [
    "## モデルの学習"
   ]
  },
  {
   "cell_type": "code",
   "execution_count": 10,
   "metadata": {},
   "outputs": [],
   "source": [
    "enc = Encoder(len(ds.src_word_list), 100, 100, 2)\n",
    "dec = Decoder(len(ds.trg_word_list), 100, 100, 2)\n",
    "enc.to(\"cuda:0\")\n",
    "dec.to(\"cuda:0\")\n",
    "opt_enc = optim.Adam(enc.parameters(), 0.003)\n",
    "opt_dec = optim.Adam(dec.parameters(), 0.003)\n",
    "loss_f =  nn.CrossEntropyLoss()"
   ]
  },
  {
   "cell_type": "markdown",
   "metadata": {},
   "source": [
    "## モデルの学習部分作成"
   ]
  },
  {
   "cell_type": "code",
   "execution_count": 11,
   "metadata": {},
   "outputs": [
    {
     "name": "stderr",
     "output_type": "stream",
     "text": [
      "100%|██████████| 21/21 [00:00<00:00, 75.51it/s]\n",
      " 38%|███▊      | 8/21 [00:00<00:00, 77.54it/s]"
     ]
    },
    {
     "name": "stdout",
     "output_type": "stream",
     "text": [
      "0 6.912074157169887\n",
      "は は は は の の の の の 。 。 。 。\n",
      "は は は は は の の の の 。 。 。 。\n"
     ]
    },
    {
     "name": "stderr",
     "output_type": "stream",
     "text": [
      "100%|██████████| 21/21 [00:00<00:00, 78.98it/s]\n",
      " 38%|███▊      | 8/21 [00:00<00:00, 79.45it/s]"
     ]
    },
    {
     "name": "stdout",
     "output_type": "stream",
     "text": [
      "1 6.265850725628081\n",
      "は は は の の の の の の の の の の 。\n",
      "は は は の の の の の の の の の の 。\n"
     ]
    },
    {
     "name": "stderr",
     "output_type": "stream",
     "text": [
      "100%|██████████| 21/21 [00:00<00:00, 79.44it/s]\n",
      " 43%|████▎     | 9/21 [00:00<00:00, 80.94it/s]"
     ]
    },
    {
     "name": "stdout",
     "output_type": "stream",
     "text": [
      "2 6.064904939560663\n",
      "は は は の の の の の の の の の さ た 。\n",
      "は は は の の の の の の の の の の た 。\n"
     ]
    },
    {
     "name": "stderr",
     "output_type": "stream",
     "text": [
      "100%|██████████| 21/21 [00:00<00:00, 81.56it/s]\n",
      " 38%|███▊      | 8/21 [00:00<00:00, 78.47it/s]"
     ]
    },
    {
     "name": "stdout",
     "output_type": "stream",
     "text": [
      "3 5.863438878740583\n",
      "は は の の の の の の の の の の さ た 。\n",
      "は は の の の の の の の の の の さ た 。\n"
     ]
    },
    {
     "name": "stderr",
     "output_type": "stream",
     "text": [
      "100%|██████████| 21/21 [00:00<00:00, 74.63it/s]\n",
      " 38%|███▊      | 8/21 [00:00<00:00, 77.46it/s]"
     ]
    },
    {
     "name": "stdout",
     "output_type": "stream",
     "text": [
      "4 5.748597599211193\n",
      "は 、 、 、 の の の の の の の の さ た 。\n",
      "は 、 、 、 の の の の の の の の の さ た 。\n"
     ]
    },
    {
     "name": "stderr",
     "output_type": "stream",
     "text": [
      "100%|██████████| 21/21 [00:00<00:00, 78.79it/s]\n",
      " 38%|███▊      | 8/21 [00:00<00:00, 73.66it/s]"
     ]
    },
    {
     "name": "stdout",
     "output_type": "stream",
     "text": [
      "5 5.575078510102772\n",
      "は 、 、 、 、 、 の の の の の さ の さ た 。\n",
      "は 、 、 、 、 、 の の の の の の さ を さ れ た 。\n"
     ]
    },
    {
     "name": "stderr",
     "output_type": "stream",
     "text": [
      "100%|██████████| 21/21 [00:00<00:00, 74.08it/s]\n",
      " 38%|███▊      | 8/21 [00:00<00:00, 78.44it/s]"
     ]
    },
    {
     "name": "stdout",
     "output_type": "stream",
     "text": [
      "6 5.470024653843471\n",
      "は 、 、 、 、 、 、 、 、 、 さ の さ れ た 。\n",
      "は 、 、 、 、 、 、 、 、 、 、 さ の さ を あり さ れ た 。\n"
     ]
    },
    {
     "name": "stderr",
     "output_type": "stream",
     "text": [
      "100%|██████████| 21/21 [00:00<00:00, 74.39it/s]\n",
      " 38%|███▊      | 8/21 [00:00<00:00, 77.55it/s]"
     ]
    },
    {
     "name": "stdout",
     "output_type": "stream",
     "text": [
      "7 5.321835222698393\n",
      "は 、 、 、 、 、 、 、 、 、 、 さ の あり を あり し た 。\n",
      "は 、 、 、 、 、 、 、 、 、 、 、 の さ の あり を あり し た 。\n"
     ]
    },
    {
     "name": "stderr",
     "output_type": "stream",
     "text": [
      "100%|██████████| 21/21 [00:00<00:00, 79.53it/s]\n",
      " 43%|████▎     | 9/21 [00:00<00:00, 83.30it/s]"
     ]
    },
    {
     "name": "stdout",
     "output_type": "stream",
     "text": [
      "8 5.161951382954915\n",
      "の 、 は 、 、 、 、 、 として の さ れ た 。\n",
      "の 、 、 、 、 、 、 、 、 、 の さ を さ れ て いる 。\n"
     ]
    },
    {
     "name": "stderr",
     "output_type": "stream",
     "text": [
      "100%|██████████| 21/21 [00:00<00:00, 81.22it/s]\n",
      " 38%|███▊      | 8/21 [00:00<00:00, 78.87it/s]"
     ]
    },
    {
     "name": "stdout",
     "output_type": "stream",
     "text": [
      "9 5.0479097593398325\n",
      "の 、 は 、 、 、 、 、 、 、 、 として を あり し た 。\n",
      "の 、 、 、 、 、 、 、 、 、 、 の さ の さ れ て いる 。\n"
     ]
    },
    {
     "name": "stderr",
     "output_type": "stream",
     "text": [
      "100%|██████████| 21/21 [00:00<00:00, 75.66it/s]\n",
      " 38%|███▊      | 8/21 [00:00<00:00, 75.79it/s]"
     ]
    },
    {
     "name": "stdout",
     "output_type": "stream",
     "text": [
      "10 4.922778265816825\n",
      "の 、 は 、 、 、 、 、 として の メンバー の メンバー を あり ます 。\n",
      "の 、 作詞 の 、 、 、 、 、 2 を さ れ て いる 。\n"
     ]
    },
    {
     "name": "stderr",
     "output_type": "stream",
     "text": [
      "100%|██████████| 21/21 [00:00<00:00, 74.69it/s]\n",
      " 38%|███▊      | 8/21 [00:00<00:00, 74.71it/s]"
     ]
    },
    {
     "name": "stdout",
     "output_type": "stream",
     "text": [
      "11 4.804578917367118\n",
      "の は 、 、 、 の 2 の の ため の メンバー を あり ます 。\n",
      "の 作詞 の 、 2 つ の 、 2 つ の 、 2 を さ れ た 。\n"
     ]
    },
    {
     "name": "stderr",
     "output_type": "stream",
     "text": [
      "100%|██████████| 21/21 [00:00<00:00, 77.18it/s]\n",
      " 43%|████▎     | 9/21 [00:00<00:00, 81.64it/s]"
     ]
    },
    {
     "name": "stdout",
     "output_type": "stream",
     "text": [
      "12 4.709728331792922\n",
      "の は 、 、 の 最も ため の 最も ため の メンバー を あり ます 。\n",
      "の 作詞 の 2 つ の 2 つ の 2 つ の 2 を さ れ た 。\n"
     ]
    },
    {
     "name": "stderr",
     "output_type": "stream",
     "text": [
      "100%|██████████| 21/21 [00:00<00:00, 81.03it/s]\n",
      " 43%|████▎     | 9/21 [00:00<00:00, 80.08it/s]"
     ]
    },
    {
     "name": "stdout",
     "output_type": "stream",
     "text": [
      "13 4.585459618341355\n",
      "の 作詞 の 2 つ の 、 2 つ の 2 つ です 。\n",
      "の 作詞 の 間 に は 、 もしくは で の 重要 を さ れ て いる 。\n"
     ]
    },
    {
     "name": "stderr",
     "output_type": "stream",
     "text": [
      "100%|██████████| 21/21 [00:00<00:00, 77.55it/s]\n",
      " 38%|███▊      | 8/21 [00:00<00:00, 74.57it/s]"
     ]
    },
    {
     "name": "stdout",
     "output_type": "stream",
     "text": [
      "14 4.4860793976556685\n",
      "の 多く の 2 つ の 2 つ の 2 つ は あり です 。\n",
      "の 作詞 年 に 、 2 つ の 2 つ の 両方 は 、 さ れ て い ます 。\n"
     ]
    },
    {
     "name": "stderr",
     "output_type": "stream",
     "text": [
      "100%|██████████| 21/21 [00:00<00:00, 75.00it/s]\n",
      " 43%|████▎     | 9/21 [00:00<00:00, 82.00it/s]"
     ]
    },
    {
     "name": "stdout",
     "output_type": "stream",
     "text": [
      "15 4.330233119782948\n",
      "の 多く の 2 つ の は 、 、 2 つ の メンバー を あり ます 。\n",
      "の 作詞 年 に 、 もしくは その つ の 両方 を 2 を 数 を あり ます 。\n"
     ]
    },
    {
     "name": "stderr",
     "output_type": "stream",
     "text": [
      "100%|██████████| 21/21 [00:00<00:00, 77.83it/s]\n",
      " 38%|███▊      | 8/21 [00:00<00:00, 74.87it/s]"
     ]
    },
    {
     "name": "stdout",
     "output_type": "stream",
     "text": [
      "16 4.23527759597415\n",
      "の 多く の 2 つ の 1 つ は 、 メンバー です 。\n",
      "の 作詞 か の 間 に は 、 もしくは その 両方 を 当 する こと が ある 。\n"
     ]
    },
    {
     "name": "stderr",
     "output_type": "stream",
     "text": [
      "100%|██████████| 21/21 [00:00<00:00, 74.18it/s]\n",
      " 43%|████▎     | 9/21 [00:00<00:00, 81.19it/s]"
     ]
    },
    {
     "name": "stdout",
     "output_type": "stream",
     "text": [
      "17 4.140764281863258\n",
      "の 職員 が 間 に は 、 もしくは で 、 重要 な メンバー です 。\n",
      "の 作詞 か 作曲 、 もしくは その 両方 の 両方 を 分離集落 し て いる 。\n"
     ]
    },
    {
     "name": "stderr",
     "output_type": "stream",
     "text": [
      "100%|██████████| 21/21 [00:00<00:00, 77.29it/s]\n",
      " 38%|███▊      | 8/21 [00:00<00:00, 74.33it/s]"
     ]
    },
    {
     "name": "stdout",
     "output_type": "stream",
     "text": [
      "18 4.007105361847651\n",
      "の 職員 が 間 に 彼 は 、 もしくは で の メンバー です 。\n",
      "の 作詞 か 作曲 、 もしくは その 両方 の 両方 の 両方 を 当 する こと が あり ます 。\n"
     ]
    },
    {
     "name": "stderr",
     "output_type": "stream",
     "text": [
      "100%|██████████| 21/21 [00:00<00:00, 75.66it/s]\n",
      " 43%|████▎     | 9/21 [00:00<00:00, 80.77it/s]"
     ]
    },
    {
     "name": "stdout",
     "output_type": "stream",
     "text": [
      "19 3.9697302409580777\n",
      "の 正確 の 間 で は 、 もしくは で の メンバー です 。\n",
      "の 職員 が 業務 を 担当 する 業務委託駅 で 、 両方 が 当 こと が あり ます 。\n"
     ]
    },
    {
     "name": "stderr",
     "output_type": "stream",
     "text": [
      "100%|██████████| 21/21 [00:00<00:00, 80.66it/s]\n",
      " 38%|███▊      | 8/21 [00:00<00:00, 72.15it/s]"
     ]
    },
    {
     "name": "stdout",
     "output_type": "stream",
     "text": [
      "20 3.8183172203245617\n",
      "の 正確 な つ の 1 つ は 、 、 メンバー を あり ます 。\n",
      "の 作詞 か 作曲 、 もしくは その 両方 を 、 さ れ て いる こと が あり ます 。\n"
     ]
    },
    {
     "name": "stderr",
     "output_type": "stream",
     "text": [
      "100%|██████████| 21/21 [00:00<00:00, 73.20it/s]\n",
      " 43%|████▎     | 9/21 [00:00<00:00, 80.84it/s]"
     ]
    },
    {
     "name": "stdout",
     "output_type": "stream",
     "text": [
      "21 3.7009302093869163\n",
      "の 正確 な つ の 1 つ は 、 連邦 メンバー でし た 。\n",
      "の 職員 が 業務 を 担当 する 業務委託駅 で 、 数 は 減少 し て いる 。\n"
     ]
    },
    {
     "name": "stderr",
     "output_type": "stream",
     "text": [
      "100%|██████████| 21/21 [00:00<00:00, 81.24it/s]\n",
      " 38%|███▊      | 8/21 [00:00<00:00, 79.71it/s]"
     ]
    },
    {
     "name": "stdout",
     "output_type": "stream",
     "text": [
      "22 3.6198403040568032\n",
      "の 正確 な つ の 1 つ は 、 もしくは で 最も 重要 です 。\n",
      "の 職員 が 業務 を 担当 する 業務委託駅 で 、 人口 で 構成 さ れ て いる 。\n"
     ]
    },
    {
     "name": "stderr",
     "output_type": "stream",
     "text": [
      "100%|██████████| 21/21 [00:00<00:00, 80.65it/s]\n",
      " 43%|████▎     | 9/21 [00:00<00:00, 80.79it/s]"
     ]
    },
    {
     "name": "stdout",
     "output_type": "stream",
     "text": [
      "23 3.5773884568895613\n",
      "の 正確 な つ の 1 つ は 、 連邦 的 な 若かっ た 。\n",
      "の 任期 （ 数 は その 的 から 2010年 まで の 大字 を 減少 し て いる 。\n"
     ]
    },
    {
     "name": "stderr",
     "output_type": "stream",
     "text": [
      "100%|██████████| 21/21 [00:00<00:00, 80.63it/s]\n",
      " 38%|███▊      | 8/21 [00:00<00:00, 79.09it/s]"
     ]
    },
    {
     "name": "stdout",
     "output_type": "stream",
     "text": [
      "24 3.4728660583496094\n",
      "の 正確 な つ の 間 で は その 地域 の メンバー で ある 。\n",
      "の 職員 が 業務 を 担当 する 業務委託駅 で 、 人口 は 、 当 駅 を 参照 。\n"
     ]
    },
    {
     "name": "stderr",
     "output_type": "stream",
     "text": [
      "100%|██████████| 21/21 [00:00<00:00, 80.00it/s]\n",
      " 43%|████▎     | 9/21 [00:00<00:00, 82.54it/s]"
     ]
    },
    {
     "name": "stdout",
     "output_type": "stream",
     "text": [
      "25 3.3926971753438315\n",
      "の 正確 な 起源 は その 地域 の 主要 な 1 つ の 一つ です 。\n",
      "の 任期 ） が 、 もしくは その 両方 を 当 する こと を 提示 する こと です 。\n"
     ]
    },
    {
     "name": "stderr",
     "output_type": "stream",
     "text": [
      "100%|██████████| 21/21 [00:00<00:00, 81.07it/s]\n",
      " 38%|███▊      | 8/21 [00:00<00:00, 79.44it/s]"
     ]
    },
    {
     "name": "stdout",
     "output_type": "stream",
     "text": [
      "26 3.289847146897089\n",
      "の 正確 な つ の 1 つ は 、 メンバー でし た 。\n",
      "の 職員 が 業務 を 担当 する 業務委託駅 で 、 人口 で 構成 さ れ て いる 。\n"
     ]
    },
    {
     "name": "stderr",
     "output_type": "stream",
     "text": [
      "100%|██████████| 21/21 [00:00<00:00, 80.20it/s]\n",
      " 43%|████▎     | 9/21 [00:00<00:00, 81.77it/s]"
     ]
    },
    {
     "name": "stdout",
     "output_type": "stream",
     "text": [
      "27 3.188616979689825\n",
      "の 正確 な つ の 1 つ は 、 支払い の メンバー でし た 。\n",
      "の 職員 が 業務 を 担当 する 業務委託駅 で 、 人口 で 構成 さ れ て いる 。\n"
     ]
    },
    {
     "name": "stderr",
     "output_type": "stream",
     "text": [
      "100%|██████████| 21/21 [00:00<00:00, 82.61it/s]\n",
      " 43%|████▎     | 9/21 [00:00<00:00, 82.75it/s]"
     ]
    },
    {
     "name": "stdout",
     "output_type": "stream",
     "text": [
      "28 3.1089991501399448\n",
      "の 正確 な 起源 は 、 連邦 的 な 作家 の メンバー で ある 。\n",
      "の 職員 が 業務 を 担当 する 業務委託駅 で 、 人口 が 当 駅 を 参照 。\n"
     ]
    },
    {
     "name": "stderr",
     "output_type": "stream",
     "text": [
      "100%|██████████| 21/21 [00:00<00:00, 82.11it/s]\n",
      " 43%|████▎     | 9/21 [00:00<00:00, 82.82it/s]"
     ]
    },
    {
     "name": "stdout",
     "output_type": "stream",
     "text": [
      "29 3.0383665221078053\n",
      "の 正確 な 起源 は その 地域 の 主要 な 1 つ の 一つ です 。\n",
      "の 任期 4年 が 満了 し た こと に よる と 、 当 駅 を 当 する 。\n"
     ]
    },
    {
     "name": "stderr",
     "output_type": "stream",
     "text": [
      "100%|██████████| 21/21 [00:00<00:00, 82.05it/s]\n",
      " 38%|███▊      | 8/21 [00:00<00:00, 79.86it/s]"
     ]
    },
    {
     "name": "stdout",
     "output_type": "stream",
     "text": [
      "30 2.94661739894322\n",
      "の 正確 な 起源 は その 地域 の 主要 な 1 つ の 一つ です 。\n",
      "の 職員 が 業務 を 担当 する 業務委託駅 で 、 6人 の 人口 で 構成 さ れ て い ます 。\n"
     ]
    },
    {
     "name": "stderr",
     "output_type": "stream",
     "text": [
      "100%|██████████| 21/21 [00:00<00:00, 81.23it/s]\n",
      " 43%|████▎     | 9/21 [00:00<00:00, 82.60it/s]"
     ]
    },
    {
     "name": "stdout",
     "output_type": "stream",
     "text": [
      "31 2.875589291254679\n",
      "の 1 つ は 、 この 地域 の うち の 1 つ でし た 。\n",
      "の 職員 が 業務 を 担当 する 業務委託駅 で 、 静岡駅 が 当 駅 を 管理 し て い ます 。\n"
     ]
    },
    {
     "name": "stderr",
     "output_type": "stream",
     "text": [
      "100%|██████████| 21/21 [00:00<00:00, 79.91it/s]\n",
      " 38%|███▊      | 8/21 [00:00<00:00, 76.56it/s]"
     ]
    },
    {
     "name": "stdout",
     "output_type": "stream",
     "text": [
      "32 2.801884639830816\n",
      "の うち の 多く は 、 支払い の 最も 重要 な 作家 の 一つ です 。\n",
      "の 職員 が 業務 を 担当 する 業務委託駅 で 、 静岡駅 が 当 駅 を 提示 する 。\n"
     ]
    },
    {
     "name": "stderr",
     "output_type": "stream",
     "text": [
      "100%|██████████| 21/21 [00:00<00:00, 74.36it/s]\n",
      " 38%|███▊      | 8/21 [00:00<00:00, 72.73it/s]"
     ]
    },
    {
     "name": "stdout",
     "output_type": "stream",
     "text": [
      "33 2.717481249854678\n",
      "の バージョン は 、 1999 年 に あり まし の 場所 を あり ます 。\n",
      "の 職員 が 業務 を 担当 する 行政委員会 で 、 6人 の 人口 で 構成 さ れ て い ます 。\n"
     ]
    },
    {
     "name": "stderr",
     "output_type": "stream",
     "text": [
      "100%|██████████| 21/21 [00:00<00:00, 74.38it/s]\n",
      " 38%|███▊      | 8/21 [00:00<00:00, 75.62it/s]"
     ]
    },
    {
     "name": "stdout",
     "output_type": "stream",
     "text": [
      "34 2.6463220914204917\n",
      "の 多く の 目標 は 、 支払い の タイミング でし た 。\n",
      "の 任期 4年 が 満了 し た こと を 担当 する 業務委託駅 で 、 静岡駅 が あり ます 。\n"
     ]
    },
    {
     "name": "stderr",
     "output_type": "stream",
     "text": [
      "100%|██████████| 21/21 [00:00<00:00, 75.09it/s]\n",
      " 38%|███▊      | 8/21 [00:00<00:00, 77.76it/s]"
     ]
    },
    {
     "name": "stdout",
     "output_type": "stream",
     "text": [
      "35 2.580836046309698\n",
      "の バージョン は 、 1999 年 に 最も 重要 な 作家 の メンバー です 。\n",
      "の 職員 が 業務 を 担当 する 業務委託駅 で 、 静岡駅 が 当 駅 を 管理 し て い ます 。\n"
     ]
    },
    {
     "name": "stderr",
     "output_type": "stream",
     "text": [
      "100%|██████████| 21/21 [00:00<00:00, 77.32it/s]\n",
      " 38%|███▊      | 8/21 [00:00<00:00, 72.44it/s]"
     ]
    },
    {
     "name": "stdout",
     "output_type": "stream",
     "text": [
      "36 2.5026278836386546\n",
      "の 正確 な 起源 は エルビス 年 の 世界遺産 リスト に 依存 で ある 。\n",
      "の 職員 が 業務 を 担当 する 業務委託駅 で 、 中津川駅 が 当 駅 を 管理 し て い ます 。\n"
     ]
    },
    {
     "name": "stderr",
     "output_type": "stream",
     "text": [
      "100%|██████████| 21/21 [00:00<00:00, 77.35it/s]\n",
      " 43%|████▎     | 9/21 [00:00<00:00, 81.68it/s]"
     ]
    },
    {
     "name": "stdout",
     "output_type": "stream",
     "text": [
      "37 2.4110953353700184\n",
      "の 正確 な 起源 は 世界 で 最も 長い や 博物館 の 1 つ です 。\n",
      "の 第 人 は 、 連邦 政府 が 受け 、 順 に 並べ の 一員 ・ 考え られ て い ます 。\n"
     ]
    },
    {
     "name": "stderr",
     "output_type": "stream",
     "text": [
      "100%|██████████| 21/21 [00:00<00:00, 82.20it/s]\n",
      " 38%|███▊      | 8/21 [00:00<00:00, 74.84it/s]"
     ]
    },
    {
     "name": "stdout",
     "output_type": "stream",
     "text": [
      "38 2.38418672198341\n",
      "の うち の 1 つ は 、 支払い の タイミング でし た 。\n",
      "の 職員 が 業務 を 担当 する 行政委員会 で 、 静岡駅 が 当 駅 を 管理 し て い ます 。\n"
     ]
    },
    {
     "name": "stderr",
     "output_type": "stream",
     "text": [
      "100%|██████████| 21/21 [00:00<00:00, 74.26it/s]\n",
      " 38%|███▊      | 8/21 [00:00<00:00, 77.77it/s]"
     ]
    },
    {
     "name": "stdout",
     "output_type": "stream",
     "text": [
      "39 2.270198243004935\n",
      "の 多く の 目標 の 違い は 、 支払い の タイミング でし た 。\n",
      "の 任期 4年 が 満了 し た こと に よる と 、 当 駅 を 提示 する 。\n"
     ]
    },
    {
     "name": "stderr",
     "output_type": "stream",
     "text": [
      "100%|██████████| 21/21 [00:00<00:00, 79.60it/s]\n",
      " 38%|███▊      | 8/21 [00:00<00:00, 74.14it/s]"
     ]
    },
    {
     "name": "stdout",
     "output_type": "stream",
     "text": [
      "40 2.231696543239412\n",
      "の うち の 多く は 、 支払い の タイミング でし た もの で ある 。\n",
      "の 職員 が 業務 を 担当 する 行政委員会 で 、 清水駅 が 当 駅 を 管理 し て い ます 。\n"
     ]
    },
    {
     "name": "stderr",
     "output_type": "stream",
     "text": [
      "100%|██████████| 21/21 [00:00<00:00, 74.04it/s]\n",
      " 43%|████▎     | 9/21 [00:00<00:00, 81.20it/s]"
     ]
    },
    {
     "name": "stdout",
     "output_type": "stream",
     "text": [
      "41 2.1254552943365916\n",
      "の うち の 1 つ は 、 支払い の 最も 古い もの でし た 。\n",
      "の 職員 が 業務 を 担当 する 行政委員会 で あり 、 6人 の 委員 で ある 。\n"
     ]
    },
    {
     "name": "stderr",
     "output_type": "stream",
     "text": [
      "100%|██████████| 21/21 [00:00<00:00, 77.84it/s]\n",
      " 38%|███▊      | 8/21 [00:00<00:00, 71.32it/s]"
     ]
    },
    {
     "name": "stdout",
     "output_type": "stream",
     "text": [
      "42 2.1206745704015098\n",
      "の 多く の 目標 の 違い は 、 支払い の タイミング でし た 。\n",
      "の 職員 が 業務 を 担当 する 列車 は 、 フロア 管 の 生活 を 結ぶ こと です 。\n"
     ]
    },
    {
     "name": "stderr",
     "output_type": "stream",
     "text": [
      "100%|██████████| 21/21 [00:00<00:00, 76.99it/s]\n",
      " 38%|███▊      | 8/21 [00:00<00:00, 74.55it/s]"
     ]
    },
    {
     "name": "stdout",
     "output_type": "stream",
     "text": [
      "43 1.9893858659835089\n",
      "の うち の ランキング は 、 支払い の ダウン タウン 地区 に ある 私立 リベラルアーツカレッジ です 。\n",
      "の 職員 が 業務 を 担当 する 行政委員会 で 、 清水駅 が 当 駅 を 提示 する 。\n"
     ]
    },
    {
     "name": "stderr",
     "output_type": "stream",
     "text": [
      "100%|██████████| 21/21 [00:00<00:00, 72.49it/s]\n",
      " 38%|███▊      | 8/21 [00:00<00:00, 76.36it/s]"
     ]
    },
    {
     "name": "stdout",
     "output_type": "stream",
     "text": [
      "44 1.9566161802836828\n",
      "の うち の 違い は 、 ハー バード 大学 」 で ある 。\n",
      "の 準優勝 に よれ ば 、 15歳 以上 の 間 で 統合 する こと が 当 駅 の 通り 。\n"
     ]
    },
    {
     "name": "stderr",
     "output_type": "stream",
     "text": [
      "100%|██████████| 21/21 [00:00<00:00, 78.96it/s]\n",
      " 43%|████▎     | 9/21 [00:00<00:00, 81.06it/s]"
     ]
    },
    {
     "name": "stdout",
     "output_type": "stream",
     "text": [
      "45 1.8827204931349981\n",
      "の うち の 多く は 、 支払い の アクティブ な 作家 の 1 つ です 。\n",
      "の 正確 な 起源 は やや 鋸 状 に 尖る が 、 大型 個体 と なる 。\n"
     ]
    },
    {
     "name": "stderr",
     "output_type": "stream",
     "text": [
      "100%|██████████| 21/21 [00:00<00:00, 81.07it/s]\n",
      " 38%|███▊      | 8/21 [00:00<00:00, 79.41it/s]"
     ]
    },
    {
     "name": "stdout",
     "output_type": "stream",
     "text": [
      "46 1.8547643252781458\n",
      "の うち の 違い は 、 支払い の 対応 に 尽力 もの 1 です 。\n",
      "の 職員 が 業務 を 担当 する 列車 は 、 技術 向上 を 結ぶ こと が られ て い ます 。\n"
     ]
    },
    {
     "name": "stderr",
     "output_type": "stream",
     "text": [
      "100%|██████████| 21/21 [00:00<00:00, 78.44it/s]\n",
      " 38%|███▊      | 8/21 [00:00<00:00, 73.23it/s]"
     ]
    },
    {
     "name": "stdout",
     "output_type": "stream",
     "text": [
      "47 1.7608338707969302\n",
      "の うち の 違い は 、 支払い の タイミング 年 以来 でし た 。\n",
      "の 職員 が 業務 を 担当 する 列車 は 、 フロア 管 の 確率 を 提示 する 。\n"
     ]
    },
    {
     "name": "stderr",
     "output_type": "stream",
     "text": [
      "100%|██████████| 21/21 [00:00<00:00, 74.52it/s]\n",
      " 43%|████▎     | 9/21 [00:00<00:00, 80.17it/s]"
     ]
    },
    {
     "name": "stdout",
     "output_type": "stream",
     "text": [
      "48 1.7309932481674921\n",
      "の うち の 違い は 、 ハー バード で 最も 重要 な 1 つ です 。\n",
      "の 第 都市 で は その システム の 強い 高等学校 と 世界 委員 会 と し て いる 。\n"
     ]
    },
    {
     "name": "stderr",
     "output_type": "stream",
     "text": [
      "100%|██████████| 21/21 [00:00<00:00, 80.24it/s]\n",
      " 43%|████▎     | 9/21 [00:00<00:00, 80.37it/s]"
     ]
    },
    {
     "name": "stdout",
     "output_type": "stream",
     "text": [
      "49 1.676868580636524\n",
      "の うち の 多く は 、 支払い の 対応 に 尽力 で ある 。\n",
      "の 職員 が 業務 を 担当 する 列車 は 、 技術 分け に 発生 し て いる 。\n"
     ]
    },
    {
     "name": "stderr",
     "output_type": "stream",
     "text": [
      "100%|██████████| 21/21 [00:00<00:00, 80.82it/s]\n",
      " 38%|███▊      | 8/21 [00:00<00:00, 73.86it/s]"
     ]
    },
    {
     "name": "stdout",
     "output_type": "stream",
     "text": [
      "50 1.6083837974639166\n",
      "の うち の 違い は 、 システム 上 の 委員 で ある もの です 。\n",
      "の 正確 な 起源 は やや 鋸 ・ 技術 的 に 選出 さ れ て いる こと が あり ない 。\n"
     ]
    },
    {
     "name": "stderr",
     "output_type": "stream",
     "text": [
      "100%|██████████| 21/21 [00:00<00:00, 73.00it/s]\n",
      " 38%|███▊      | 8/21 [00:00<00:00, 79.03it/s]"
     ]
    },
    {
     "name": "stdout",
     "output_type": "stream",
     "text": [
      "51 1.5524163643519084\n",
      "の うち の 多く は 、 支払い の タイミング でし た もの で ある 。\n",
      "の 職員 し た アメリカ は メダル を 剥奪 さ れ 、 新た を 当 駅 を 参照 。\n"
     ]
    },
    {
     "name": "stderr",
     "output_type": "stream",
     "text": [
      "100%|██████████| 21/21 [00:00<00:00, 79.36it/s]\n",
      " 43%|████▎     | 9/21 [00:00<00:00, 81.92it/s]"
     ]
    },
    {
     "name": "stdout",
     "output_type": "stream",
     "text": [
      "52 1.5201232490085421\n",
      "の うち の 違い は 、 システム 上 の アクティブ な 1 つ です 。\n",
      "の 職員 が 業務 を 担当 する 列車 は 、 技術 分け に 発生 し て いる 。\n"
     ]
    },
    {
     "name": "stderr",
     "output_type": "stream",
     "text": [
      "100%|██████████| 21/21 [00:00<00:00, 82.02it/s]\n",
      " 38%|███▊      | 8/21 [00:00<00:00, 74.90it/s]"
     ]
    },
    {
     "name": "stdout",
     "output_type": "stream",
     "text": [
      "53 1.415897255852109\n",
      "の うち の 違い は 、 支払い の タイミング でし た もの で ある 。\n",
      "の センサス に よれ ば 、 15歳 以上 の 国民 の 識字率 は 減少 し て いる 。\n"
     ]
    },
    {
     "name": "stderr",
     "output_type": "stream",
     "text": [
      "100%|██████████| 21/21 [00:00<00:00, 73.81it/s]\n",
      " 43%|████▎     | 9/21 [00:00<00:00, 80.61it/s]"
     ]
    },
    {
     "name": "stdout",
     "output_type": "stream",
     "text": [
      "54 1.4207332872209095\n",
      "の うち の 多く は 、 人間 年 に ある もの つ の 一つ 。\n",
      "の 国 は 1999 年 に ニューヨーク し た 行政委員会 と ホーム ・ 犯罪 カラー の 事例 が でき ます 。\n"
     ]
    },
    {
     "name": "stderr",
     "output_type": "stream",
     "text": [
      "100%|██████████| 21/21 [00:00<00:00, 80.74it/s]\n",
      " 43%|████▎     | 9/21 [00:00<00:00, 82.45it/s]"
     ]
    },
    {
     "name": "stdout",
     "output_type": "stream",
     "text": [
      "55 1.3444194623402186\n",
      "の うち の 多く は 、 人間 によって 最も 重要 な 2 つ の 一つ です 。\n",
      "の 第 一 の 目標 は その 地域 の 数 は 繰り 上がり で ある こと と です 。\n"
     ]
    },
    {
     "name": "stderr",
     "output_type": "stream",
     "text": [
      "100%|██████████| 21/21 [00:00<00:00, 80.36it/s]\n",
      " 38%|███▊      | 8/21 [00:00<00:00, 74.01it/s]"
     ]
    },
    {
     "name": "stdout",
     "output_type": "stream",
     "text": [
      "56 1.2803923203831626\n",
      "の 多く の 唯一 の 違い は 、 支払い の タイミング でし た 。\n",
      "の 私 は 、 上級 顧問 として morgan stanley の 際 に 発生 的 する こと です 。\n"
     ]
    },
    {
     "name": "stderr",
     "output_type": "stream",
     "text": [
      "100%|██████████| 21/21 [00:00<00:00, 74.56it/s]\n",
      " 38%|███▊      | 8/21 [00:00<00:00, 79.86it/s]"
     ]
    },
    {
     "name": "stdout",
     "output_type": "stream",
     "text": [
      "57 1.2256066174734206\n",
      "の うち の 違い は 、 システム 上 の 委員 で 2 つ の 一つ 。\n",
      "の 私 は 、 上級 顧問 として morgan stanley に のみ 出版 さ れ て いる 。\n"
     ]
    },
    {
     "name": "stderr",
     "output_type": "stream",
     "text": [
      "100%|██████████| 21/21 [00:00<00:00, 80.41it/s]\n",
      " 43%|████▎     | 9/21 [00:00<00:00, 80.85it/s]"
     ]
    },
    {
     "name": "stdout",
     "output_type": "stream",
     "text": [
      "58 1.1973365885870797\n",
      "の うち の 第 1 つ は 、 システム 上 の タイミング でし た 。\n",
      "の 国 は 道路 功績 の 歴史 を 称え て 、 小惑星 を 破壊 し た 。\n"
     ]
    },
    {
     "name": "stderr",
     "output_type": "stream",
     "text": [
      "100%|██████████| 21/21 [00:00<00:00, 81.34it/s]\n",
      " 38%|███▊      | 8/21 [00:00<00:00, 72.42it/s]"
     ]
    },
    {
     "name": "stdout",
     "output_type": "stream",
     "text": [
      "59 1.1440232282593137\n",
      "の うち の 違い は 、 システム 上 の 触媒 として 2 月 に 戻っ た 。\n",
      "の センサス に よれ ば 、 15歳 以上 の 国民 の 識字率 は 減少 し て いる 。\n"
     ]
    },
    {
     "name": "stderr",
     "output_type": "stream",
     "text": [
      "100%|██████████| 21/21 [00:00<00:00, 72.81it/s]\n",
      " 43%|████▎     | 9/21 [00:00<00:00, 79.63it/s]"
     ]
    },
    {
     "name": "stdout",
     "output_type": "stream",
     "text": [
      "60 1.1096962349755424\n",
      "の うち の 違い は 、 システム 上 の 触媒 として 最も 重要 です 。\n",
      "の センサス に よれ ば 、 15歳 以上 の 国民 の 過半数 が 当 駅 を 管理 て いる 。\n"
     ]
    },
    {
     "name": "stderr",
     "output_type": "stream",
     "text": [
      "100%|██████████| 21/21 [00:00<00:00, 79.20it/s]\n",
      " 43%|████▎     | 9/21 [00:00<00:00, 80.47it/s]"
     ]
    },
    {
     "name": "stdout",
     "output_type": "stream",
     "text": [
      "61 1.0617234706878662\n",
      "の うち の 多く は 、 人間 性 の タイミング でし た 。\n",
      "の センサス に よれ ば 、 15歳 以上 の 国民 の 過半数 が 当 駅 を 参照 。\n"
     ]
    },
    {
     "name": "stderr",
     "output_type": "stream",
     "text": [
      "100%|██████████| 21/21 [00:00<00:00, 80.51it/s]\n",
      " 43%|████▎     | 9/21 [00:00<00:00, 82.56it/s]"
     ]
    },
    {
     "name": "stdout",
     "output_type": "stream",
     "text": [
      "62 1.017455469994318\n",
      "の うち の 第 1 つ は 、 人間 世 の コンセンサス 発生 。\n",
      "の センサス に よれ ば 、 15歳 以上 の 国民 の 過半数 は 当 駅 を 管理 て い ます 。\n"
     ]
    },
    {
     "name": "stderr",
     "output_type": "stream",
     "text": [
      "100%|██████████| 21/21 [00:00<00:00, 78.88it/s]\n",
      " 38%|███▊      | 8/21 [00:00<00:00, 72.77it/s]"
     ]
    },
    {
     "name": "stdout",
     "output_type": "stream",
     "text": [
      "63 0.9739464975538707\n",
      "の うち の 多く は 、 人間 性 の タイミング でし た 。\n",
      "の センサス に よれ ば 、 15歳 以上 の 国民 の 過半数 が 当 駅 を 参照 。\n"
     ]
    },
    {
     "name": "stderr",
     "output_type": "stream",
     "text": [
      "100%|██████████| 21/21 [00:00<00:00, 75.17it/s]\n",
      " 43%|████▎     | 9/21 [00:00<00:00, 82.92it/s]"
     ]
    },
    {
     "name": "stdout",
     "output_type": "stream",
     "text": [
      "64 0.9511434379078093\n",
      "の うち の ランキング は 、 システム 上 の アクティブ な チャネル の 1 つ です 。\n",
      "の センサス に よれ ば 、 15歳 以上 の 国民 の 識字率 は 繰り 上がり で ある 。\n"
     ]
    },
    {
     "name": "stderr",
     "output_type": "stream",
     "text": [
      "100%|██████████| 21/21 [00:00<00:00, 81.36it/s]\n",
      " 43%|████▎     | 9/21 [00:00<00:00, 80.35it/s]"
     ]
    },
    {
     "name": "stdout",
     "output_type": "stream",
     "text": [
      "65 0.8945542573928833\n",
      "の うち の 多く は 、 人間 性 の タイミング でし た 。\n",
      "の 国 は 道路 功績 の 歴史 を 称え て 、 小惑星 を 破壊 し て いる 。\n"
     ]
    },
    {
     "name": "stderr",
     "output_type": "stream",
     "text": [
      "100%|██████████| 21/21 [00:00<00:00, 79.66it/s]\n",
      " 38%|███▊      | 8/21 [00:00<00:00, 72.11it/s]"
     ]
    },
    {
     "name": "stdout",
     "output_type": "stream",
     "text": [
      "66 0.8698222523643857\n",
      "の うち の ランキング は 、 システム 上 の アクティブ な 作家 の なり です 。\n",
      "の センサス に よれ ば 、 15歳 以上 の 国民 の 過半数 が 当 駅 を 参照 。\n"
     ]
    },
    {
     "name": "stderr",
     "output_type": "stream",
     "text": [
      "100%|██████████| 21/21 [00:00<00:00, 72.98it/s]\n",
      " 43%|████▎     | 9/21 [00:00<00:00, 81.56it/s]"
     ]
    },
    {
     "name": "stdout",
     "output_type": "stream",
     "text": [
      "67 0.8192088093076434\n",
      "の 多く の 唯一 の 違い は 、 支払い の タイミング でし た 。\n",
      "の センサス に よれ ば 、 15歳 以上 の 国民 の 識字率 は 減少 し て いる 。\n"
     ]
    },
    {
     "name": "stderr",
     "output_type": "stream",
     "text": [
      "100%|██████████| 21/21 [00:00<00:00, 80.39it/s]\n",
      " 43%|████▎     | 9/21 [00:00<00:00, 80.41it/s]"
     ]
    },
    {
     "name": "stdout",
     "output_type": "stream",
     "text": [
      "68 0.7902882610048566\n",
      "の 1 つ は 、 ハー バード 大学 と バージニア 大学 でし た 。\n",
      "の 第 一 の 目標 は その 地域 の 中学校 が 連携 し て いる こと が ある 。\n"
     ]
    },
    {
     "name": "stderr",
     "output_type": "stream",
     "text": [
      "100%|██████████| 21/21 [00:00<00:00, 78.71it/s]\n",
      " 38%|███▊      | 8/21 [00:00<00:00, 74.31it/s]"
     ]
    },
    {
     "name": "stdout",
     "output_type": "stream",
     "text": [
      "69 0.7672941145442781\n",
      "の 1 つ は 、 ハー バード 大学 」 で 最も 重要 な 巻 。\n",
      "の センサス に よれ ば 、 15歳 以上 の 国民 の 識字率 は 減少 し て いる 。\n"
     ]
    },
    {
     "name": "stderr",
     "output_type": "stream",
     "text": [
      "100%|██████████| 21/21 [00:00<00:00, 75.53it/s]\n",
      " 43%|████▎     | 9/21 [00:00<00:00, 80.90it/s]"
     ]
    },
    {
     "name": "stdout",
     "output_type": "stream",
     "text": [
      "70 0.7279562637919471\n",
      "の 1 つ は 、 人間 性 の タイミング でし た もの で ある 。\n",
      "の 名 は 、 福島県 女子 師範学校 など の 前身 諸 校 を 提示 する こと が でき た 。\n"
     ]
    },
    {
     "name": "stderr",
     "output_type": "stream",
     "text": [
      "100%|██████████| 21/21 [00:00<00:00, 80.20it/s]\n",
      " 38%|███▊      | 8/21 [00:00<00:00, 77.12it/s]"
     ]
    },
    {
     "name": "stdout",
     "output_type": "stream",
     "text": [
      "71 0.708197412036714\n",
      "の 大半 は 、 ハー バード 大学 と バージニア 大学 でし た 。\n",
      "の センサス に よれ ば 、 15歳 以上 の 国民 の 識字率 は 繰り 上がり で ある 。\n"
     ]
    },
    {
     "name": "stderr",
     "output_type": "stream",
     "text": [
      "100%|██████████| 21/21 [00:00<00:00, 74.48it/s]\n",
      " 38%|███▊      | 8/21 [00:00<00:00, 79.33it/s]"
     ]
    },
    {
     "name": "stdout",
     "output_type": "stream",
     "text": [
      "72 0.6603328273409889\n",
      "の うち の ランキング は 、 システム 上 の タイミング でし た 。\n",
      "の センサス に よれ ば 、 15歳 以上 の 国民 の 識字率 は 繰り 上がり で ある 。\n"
     ]
    },
    {
     "name": "stderr",
     "output_type": "stream",
     "text": [
      "100%|██████████| 21/21 [00:00<00:00, 79.98it/s]\n",
      " 43%|████▎     | 9/21 [00:00<00:00, 81.56it/s]"
     ]
    },
    {
     "name": "stdout",
     "output_type": "stream",
     "text": [
      "73 0.6272919234775362\n",
      "の うち の 要因 は 、 支払い の タイミング でし た もの で ある 。\n",
      "の センサス に よれ ば 、 15歳 以上 の 国民 の 識字率 は 減少 し て いる 。\n"
     ]
    },
    {
     "name": "stderr",
     "output_type": "stream",
     "text": [
      "100%|██████████| 21/21 [00:00<00:00, 81.05it/s]\n",
      " 38%|███▊      | 8/21 [00:00<00:00, 77.17it/s]"
     ]
    },
    {
     "name": "stdout",
     "output_type": "stream",
     "text": [
      "74 0.5941748264290038\n",
      "の 多く の 唯一 の 違い は 、 支払い の タイミング でし た 。\n",
      "の センサス に よれ ば 、 15歳 以上 の 国民 の 識字率 は 減少 し て いる 。\n"
     ]
    },
    {
     "name": "stderr",
     "output_type": "stream",
     "text": [
      "100%|██████████| 21/21 [00:00<00:00, 75.01it/s]\n",
      " 38%|███▊      | 8/21 [00:00<00:00, 76.38it/s]"
     ]
    },
    {
     "name": "stdout",
     "output_type": "stream",
     "text": [
      "75 0.5805371531418392\n",
      "の 1 つ は 、 人間 性 の 教授 の タイミング でし た 。\n",
      "の センサス に よれ ば 、 15歳 以上 の 国民 の 識字率 は 減少 し て いる 。\n"
     ]
    },
    {
     "name": "stderr",
     "output_type": "stream",
     "text": [
      "100%|██████████| 21/21 [00:00<00:00, 79.18it/s]\n",
      " 43%|████▎     | 9/21 [00:00<00:00, 81.90it/s]"
     ]
    },
    {
     "name": "stdout",
     "output_type": "stream",
     "text": [
      "76 0.5545019280342829\n",
      "の 1 つ は 、 人間 性 の 教授 の タイミング でし た 。\n",
      "の センサス に よれ ば 、 15歳 以上 の 国民 の 識字率 は 繰り 上がり で ある 。\n"
     ]
    },
    {
     "name": "stderr",
     "output_type": "stream",
     "text": [
      "100%|██████████| 21/21 [00:00<00:00, 81.72it/s]\n",
      " 43%|████▎     | 9/21 [00:00<00:00, 82.82it/s]"
     ]
    },
    {
     "name": "stdout",
     "output_type": "stream",
     "text": [
      "77 0.5293385329700652\n",
      "の 1 つ は 、 ハー バード 大学 と バージニア 国 2 つ の 一つ です 。\n",
      "の センサス に よれ ば 、 15歳 以上 の 国民 の 過半数 が 当 駅 を 管理 て いる 。\n"
     ]
    },
    {
     "name": "stderr",
     "output_type": "stream",
     "text": [
      "100%|██████████| 21/21 [00:00<00:00, 81.70it/s]\n",
      " 38%|███▊      | 8/21 [00:00<00:00, 79.53it/s]"
     ]
    },
    {
     "name": "stdout",
     "output_type": "stream",
     "text": [
      "78 0.4940266467276074\n",
      "の 1 つ は 、 ハー バード 大学 」 で 最も 重要 な 1 つ です 。\n",
      "の センサス に よれ ば 、 15歳 以上 の 国民 の 識字率 は 繰り 上がり で ある 。\n"
     ]
    },
    {
     "name": "stderr",
     "output_type": "stream",
     "text": [
      "100%|██████████| 21/21 [00:00<00:00, 80.39it/s]\n",
      " 38%|███▊      | 8/21 [00:00<00:00, 75.34it/s]"
     ]
    },
    {
     "name": "stdout",
     "output_type": "stream",
     "text": [
      "79 0.4877265762715113\n",
      "の 1 つ は 、 ハー バード 大学 」 で 最も 重要 な 1 です 。\n",
      "の センサス に よれ ば 、 15歳 以上 の 国民 の 識字率 は 減少 し て いる 。\n"
     ]
    },
    {
     "name": "stderr",
     "output_type": "stream",
     "text": [
      "100%|██████████| 21/21 [00:00<00:00, 73.80it/s]\n",
      " 38%|███▊      | 8/21 [00:00<00:00, 74.32it/s]"
     ]
    },
    {
     "name": "stdout",
     "output_type": "stream",
     "text": [
      "80 0.46095973537081764\n",
      "の 第 1 つ は 、 ハー バード 大学 」 で 2 番目 に なっ て い ます 。\n",
      "の センサス に よれ ば 、 15歳 以上 の 国民 の 過半数 が 当 駅 を 管理 て いる 。\n"
     ]
    },
    {
     "name": "stderr",
     "output_type": "stream",
     "text": [
      "100%|██████████| 21/21 [00:00<00:00, 77.78it/s]\n",
      " 43%|████▎     | 9/21 [00:00<00:00, 81.01it/s]"
     ]
    },
    {
     "name": "stdout",
     "output_type": "stream",
     "text": [
      "81 0.4373661620276315\n",
      "の 1 つ は 、 人間 性 の 教授 の 重要 な チャネル です 。\n",
      "の センサス に よれ ば 、 15歳 以上 の 国民 の 過半数 が 当 駅 を 管理 て いる 。\n"
     ]
    },
    {
     "name": "stderr",
     "output_type": "stream",
     "text": [
      "100%|██████████| 21/21 [00:00<00:00, 81.23it/s]\n",
      " 43%|████▎     | 9/21 [00:00<00:00, 82.11it/s]"
     ]
    },
    {
     "name": "stdout",
     "output_type": "stream",
     "text": [
      "82 0.41728360312325613\n",
      "の 1 つ は 、 人間 性 の 教授 の タイミング でし た 。\n",
      "の センサス に よれ ば 、 15歳 以上 の 国民 の 識字率 は 繰り 上がり で ある 。\n"
     ]
    },
    {
     "name": "stderr",
     "output_type": "stream",
     "text": [
      "100%|██████████| 21/21 [00:00<00:00, 78.15it/s]\n",
      " 38%|███▊      | 8/21 [00:00<00:00, 73.41it/s]"
     ]
    },
    {
     "name": "stdout",
     "output_type": "stream",
     "text": [
      "83 0.39855294710113887\n",
      "の 大半 は 、 ハー バード 大学 と バージニア 大学 でし た 。\n",
      "の センサス に よれ ば 、 15歳 以上 の 国民 の 識字率 は 繰り 上がり で ある 。\n"
     ]
    },
    {
     "name": "stderr",
     "output_type": "stream",
     "text": [
      "100%|██████████| 21/21 [00:00<00:00, 75.10it/s]\n",
      " 43%|████▎     | 9/21 [00:00<00:00, 82.89it/s]"
     ]
    },
    {
     "name": "stdout",
     "output_type": "stream",
     "text": [
      "84 0.38868661721547443\n",
      "の 大半 は 、 ハー バード で 最も 重要 な 作家 の 2 つ に なっ て い ます 。\n",
      "の センサス に よれ ば 、 15歳 以上 の 国民 の 識字率 は 繰り 上がり で ある 。\n"
     ]
    },
    {
     "name": "stderr",
     "output_type": "stream",
     "text": [
      "100%|██████████| 21/21 [00:00<00:00, 80.56it/s]\n",
      " 38%|███▊      | 8/21 [00:00<00:00, 75.69it/s]"
     ]
    },
    {
     "name": "stdout",
     "output_type": "stream",
     "text": [
      "85 0.36996982778821674\n",
      "の うち の 製品 は 、 中国 な 世界 および 1 つ でし た 。\n",
      "の 第 一 の 目標 は その 地域 の 強力 な オピオイド を 使用 する こと が わかり まし た 。\n"
     ]
    },
    {
     "name": "stderr",
     "output_type": "stream",
     "text": [
      "100%|██████████| 21/21 [00:00<00:00, 72.40it/s]\n",
      " 38%|███▊      | 8/21 [00:00<00:00, 78.42it/s]"
     ]
    },
    {
     "name": "stdout",
     "output_type": "stream",
     "text": [
      "86 0.3523348697594234\n",
      "の うち の ランキング は 、 システム 上 の アクティブ な 世界 で でし た 。\n",
      "の 第 一 の 目標 は その 地域 の 強力 な オピオイド を 使用 する こと が わかり まし た 。\n"
     ]
    },
    {
     "name": "stderr",
     "output_type": "stream",
     "text": [
      "100%|██████████| 21/21 [00:00<00:00, 76.29it/s]\n",
      " 38%|███▊      | 8/21 [00:00<00:00, 72.47it/s]"
     ]
    },
    {
     "name": "stdout",
     "output_type": "stream",
     "text": [
      "87 0.3357712924480438\n",
      "の うち の ランキング は 、 システム 上 の 対応 に 尽力 もの 1 です 。\n",
      "の センサス に よれ ば 、 15歳 以上 の 国民 の 識字率 は 減少 し て いる 。\n"
     ]
    },
    {
     "name": "stderr",
     "output_type": "stream",
     "text": [
      "100%|██████████| 21/21 [00:00<00:00, 77.02it/s]\n",
      " 43%|████▎     | 9/21 [00:00<00:00, 81.30it/s]"
     ]
    },
    {
     "name": "stdout",
     "output_type": "stream",
     "text": [
      "88 0.32644209833372206\n",
      "の うち の ランキング は 、 システム 上 の 対応 で 最も 重要 です 。\n",
      "の センサス に よれ ば 、 15歳 以上 の 国民 の 識字率 は 減少 し て いる 。\n"
     ]
    },
    {
     "name": "stderr",
     "output_type": "stream",
     "text": [
      "100%|██████████| 21/21 [00:00<00:00, 81.36it/s]\n",
      " 43%|████▎     | 9/21 [00:00<00:00, 81.57it/s]"
     ]
    },
    {
     "name": "stdout",
     "output_type": "stream",
     "text": [
      "89 0.3072306868575868\n",
      "の うち の 要因 は 、 支払い の タイミング でし た もの で ある 。\n",
      "の センサス に よれ ば 、 15歳 以上 の 国民 の 識字率 は 減少 し て いる 。\n"
     ]
    },
    {
     "name": "stderr",
     "output_type": "stream",
     "text": [
      "100%|██████████| 21/21 [00:00<00:00, 80.91it/s]\n",
      " 38%|███▊      | 8/21 [00:00<00:00, 73.39it/s]"
     ]
    },
    {
     "name": "stdout",
     "output_type": "stream",
     "text": [
      "90 0.29698412049384343\n",
      "の うち の ランキング は 、 システム 上 の タイミング でし た もの で ある 。\n",
      "の センサス に よれ ば 、 15歳 以上 の 国民 の 識字率 は 減少 し て いる 。\n"
     ]
    },
    {
     "name": "stderr",
     "output_type": "stream",
     "text": [
      "100%|██████████| 21/21 [00:00<00:00, 72.95it/s]\n",
      " 38%|███▊      | 8/21 [00:00<00:00, 79.81it/s]"
     ]
    },
    {
     "name": "stdout",
     "output_type": "stream",
     "text": [
      "91 0.2857229979265304\n",
      "の うち の ランキング は 、 システム 上 の タイミング でし た もの で ある 。\n",
      "の センサス に よれ ば 、 15歳 以上 の 国民 の 識字率 は 減少 し て いる 。\n"
     ]
    },
    {
     "name": "stderr",
     "output_type": "stream",
     "text": [
      "100%|██████████| 21/21 [00:00<00:00, 81.00it/s]\n",
      " 38%|███▊      | 8/21 [00:00<00:00, 74.08it/s]"
     ]
    },
    {
     "name": "stdout",
     "output_type": "stream",
     "text": [
      "92 0.27439382175604504\n",
      "の うち の ランキング は 、 システム 上 の 対応 で 最も 重要 です 。\n",
      "の 名 は 、 連邦 政府 が 執務 不能 の 際 に これ を 提示 する こと です 。\n"
     ]
    },
    {
     "name": "stderr",
     "output_type": "stream",
     "text": [
      "100%|██████████| 21/21 [00:00<00:00, 73.33it/s]\n",
      " 38%|███▊      | 8/21 [00:00<00:00, 78.34it/s]"
     ]
    },
    {
     "name": "stdout",
     "output_type": "stream",
     "text": [
      "93 0.2698435073807126\n",
      "の うち の ランキング は 、 システム 上 の 対応 に 尽力 もの 1 です 。\n",
      "の 私 は 、 上級 顧問 として morgan stanley に 公立 、 甲板 ごと に 存在 する 。\n"
     ]
    },
    {
     "name": "stderr",
     "output_type": "stream",
     "text": [
      "100%|██████████| 21/21 [00:00<00:00, 80.22it/s]\n",
      " 43%|████▎     | 9/21 [00:00<00:00, 81.22it/s]"
     ]
    },
    {
     "name": "stdout",
     "output_type": "stream",
     "text": [
      "94 0.24840762927418664\n",
      "の うち の ランキング は 、 システム 上 の 対応 で 最も 重要 です 。\n",
      "の 名 は 、 連邦 国防大臣 な 二 や 新聞 に 数 百 点 の 記事 を 参照 。\n"
     ]
    },
    {
     "name": "stderr",
     "output_type": "stream",
     "text": [
      "100%|██████████| 21/21 [00:00<00:00, 77.19it/s]\n",
      " 38%|███▊      | 8/21 [00:00<00:00, 71.11it/s]"
     ]
    },
    {
     "name": "stdout",
     "output_type": "stream",
     "text": [
      "95 0.2452259361743927\n",
      "の うち の 違い は 、 システム 上 の 対応 で 最も 重要 です 。\n",
      "の 名 は 、 連邦 国防大臣 な 二 や 新聞 に 数 百 点 の 記事 を 参照 。\n"
     ]
    },
    {
     "name": "stderr",
     "output_type": "stream",
     "text": [
      "100%|██████████| 21/21 [00:00<00:00, 72.66it/s]\n",
      " 43%|████▎     | 9/21 [00:00<00:00, 81.12it/s]"
     ]
    },
    {
     "name": "stdout",
     "output_type": "stream",
     "text": [
      "96 0.23368121541681744\n",
      "の うち の ランキング は 、 システム 上 の タイミング でし た もの で ある 。\n",
      "の 第 一 の 目標 は その 地域 に ステーション カラー が 当 駅 の ステーション ます 。\n"
     ]
    },
    {
     "name": "stderr",
     "output_type": "stream",
     "text": [
      "100%|██████████| 21/21 [00:00<00:00, 80.16it/s]\n",
      " 43%|████▎     | 9/21 [00:00<00:00, 82.66it/s]"
     ]
    },
    {
     "name": "stdout",
     "output_type": "stream",
     "text": [
      "97 0.22634912672496976\n",
      "の うち の ランキング は 、 システム 上 の タイミング でし た もの で ある 。\n",
      "の センサス に よれ ば 、 15歳 以上 の 国民 の 識字率 は 繰り 上がり で ある 。\n"
     ]
    },
    {
     "name": "stderr",
     "output_type": "stream",
     "text": [
      "100%|██████████| 21/21 [00:00<00:00, 81.29it/s]\n",
      " 43%|████▎     | 9/21 [00:00<00:00, 81.14it/s]"
     ]
    },
    {
     "name": "stdout",
     "output_type": "stream",
     "text": [
      "98 0.2137612182469595\n",
      "の うち の ランキング は 、 システム 上 の タイミング でし た もの で ある 。\n",
      "の センサス に よれ ば 、 15歳 以上 の 国民 の 識字率 は 減少 し て いる 。\n"
     ]
    },
    {
     "name": "stderr",
     "output_type": "stream",
     "text": [
      "100%|██████████| 21/21 [00:00<00:00, 81.43it/s]\n",
      " 38%|███▊      | 8/21 [00:00<00:00, 79.47it/s]"
     ]
    },
    {
     "name": "stdout",
     "output_type": "stream",
     "text": [
      "99 0.21265206805297307\n",
      "の うち の ランキング は 、 システム 上 の タイミング でし た もの で ある 。\n",
      "の センサス で よれ ば 、 15歳 以上 の 国民 の 識字率 は 減少 し て いる 。\n"
     ]
    },
    {
     "name": "stderr",
     "output_type": "stream",
     "text": [
      "100%|██████████| 21/21 [00:00<00:00, 80.25it/s]\n",
      " 38%|███▊      | 8/21 [00:00<00:00, 79.06it/s]"
     ]
    },
    {
     "name": "stdout",
     "output_type": "stream",
     "text": [
      "100 0.20214520252886273\n",
      "の うち の ランキング は 、 システム 上 の タイミング でし た もの で ある 。\n",
      "の 名 は 、 連邦 政府 が 執務 分け に 向かっ て おり 、 世界 こと です 。\n"
     ]
    },
    {
     "name": "stderr",
     "output_type": "stream",
     "text": [
      "100%|██████████| 21/21 [00:00<00:00, 80.36it/s]\n",
      " 43%|████▎     | 9/21 [00:00<00:00, 81.85it/s]"
     ]
    },
    {
     "name": "stdout",
     "output_type": "stream",
     "text": [
      "101 0.19389251584098452\n",
      "の うち の ランキング は 、 システム 上 の タイミング でし た もの で ある 。\n",
      "の 名 は 、 連邦 政府 が 執務 分け に 公立 、 甲板 の 重要 が 入る 。\n"
     ]
    },
    {
     "name": "stderr",
     "output_type": "stream",
     "text": [
      "100%|██████████| 21/21 [00:00<00:00, 77.09it/s]\n",
      " 38%|███▊      | 8/21 [00:00<00:00, 75.34it/s]"
     ]
    },
    {
     "name": "stdout",
     "output_type": "stream",
     "text": [
      "102 0.18579306843734922\n",
      "の うち の ランキング は 、 システム 上 の タイミング でし た もの で ある 。\n",
      "の 名 は 、 連邦 政府 が 執務 分け て いる もの の より 一般 を 停留所 する 。\n"
     ]
    },
    {
     "name": "stderr",
     "output_type": "stream",
     "text": [
      "100%|██████████| 21/21 [00:00<00:00, 78.06it/s]\n",
      " 38%|███▊      | 8/21 [00:00<00:00, 79.45it/s]"
     ]
    },
    {
     "name": "stdout",
     "output_type": "stream",
     "text": [
      "103 0.18120617809749784\n",
      "の うち の ランキング は 、 システム 上 の タイミング でし た もの 。\n",
      "の センサス で よれ ば 、 15歳 以上 の 国民 の 識字率 は 繰り 上がり で ある 。\n"
     ]
    },
    {
     "name": "stderr",
     "output_type": "stream",
     "text": [
      "100%|██████████| 21/21 [00:00<00:00, 80.70it/s]\n",
      " 43%|████▎     | 9/21 [00:00<00:00, 81.85it/s]"
     ]
    },
    {
     "name": "stdout",
     "output_type": "stream",
     "text": [
      "104 0.173281430488541\n",
      "の うち の ランキング は 、 システム 上 の タイミング でし た もの 。\n",
      "の センサス で よれ ば 、 15歳 以上 の 国民 の 識字率 は 繰り 上がり で ある 。\n"
     ]
    },
    {
     "name": "stderr",
     "output_type": "stream",
     "text": [
      "100%|██████████| 21/21 [00:00<00:00, 82.81it/s]\n",
      " 43%|████▎     | 9/21 [00:00<00:00, 85.97it/s]"
     ]
    },
    {
     "name": "stdout",
     "output_type": "stream",
     "text": [
      "105 0.16820918378375826\n",
      "の うち の ランキング は 、 システム 上 の タイミング でし た もの で ある 。\n",
      "の 名 は 、 連邦 政府 が 執務 分け て いる もの の より 一般 を する 。\n"
     ]
    },
    {
     "name": "stderr",
     "output_type": "stream",
     "text": [
      "100%|██████████| 21/21 [00:00<00:00, 83.10it/s]\n",
      " 38%|███▊      | 8/21 [00:00<00:00, 74.29it/s]"
     ]
    },
    {
     "name": "stdout",
     "output_type": "stream",
     "text": [
      "106 0.15999813732646762\n",
      "の 1 つ は 、 人間 性 の タイミング でし た 。\n",
      "の 第 一 の 目標 は その 的 な 冬季 オリンピック に は 一 回り 2 考え られ て い ます 。\n"
     ]
    },
    {
     "name": "stderr",
     "output_type": "stream",
     "text": [
      "100%|██████████| 21/21 [00:00<00:00, 75.36it/s]\n",
      " 43%|████▎     | 9/21 [00:00<00:00, 81.78it/s]"
     ]
    },
    {
     "name": "stdout",
     "output_type": "stream",
     "text": [
      "107 0.15949344847883498\n",
      "の うち の ランキング は 、 システム 上 の タイミング でし た もの 。\n",
      "の 第 一 の 目標 は その 的 な 人道 危機 に なっ て いる 。\n"
     ]
    },
    {
     "name": "stderr",
     "output_type": "stream",
     "text": [
      "100%|██████████| 21/21 [00:00<00:00, 78.78it/s]\n",
      " 38%|███▊      | 8/21 [00:00<00:00, 73.98it/s]"
     ]
    },
    {
     "name": "stdout",
     "output_type": "stream",
     "text": [
      "108 0.15197726410059703\n",
      "の うち の ランキング は 、 システム 上 の タイミング でし た もの 。\n",
      "の 名 は 、 連邦 国防大臣 が 制定 さ れ た もの で 最も もの が 多い 。\n"
     ]
    },
    {
     "name": "stderr",
     "output_type": "stream",
     "text": [
      "100%|██████████| 21/21 [00:00<00:00, 74.45it/s]\n",
      " 38%|███▊      | 8/21 [00:00<00:00, 73.09it/s]"
     ]
    },
    {
     "name": "stdout",
     "output_type": "stream",
     "text": [
      "109 0.14823134420883088\n",
      "の うち の 違い は 、 システム 上 の もの でし た 。\n",
      "の 名 は 、 連邦 政府 が 執務 分け て いる もの の より 一般 的 で ある 。\n"
     ]
    },
    {
     "name": "stderr",
     "output_type": "stream",
     "text": [
      "100%|██████████| 21/21 [00:00<00:00, 74.39it/s]\n",
      " 43%|████▎     | 9/21 [00:00<00:00, 79.47it/s]"
     ]
    },
    {
     "name": "stdout",
     "output_type": "stream",
     "text": [
      "110 0.14263627536240078\n",
      "の うち の ランキング は 、 システム 上 の タイミング でし た もの で ある 。\n",
      "の 名 は 、 連邦 国防大臣 な 二 や 新聞 に 数 百 点 の 記事 を 掲載 し まし た 。\n"
     ]
    },
    {
     "name": "stderr",
     "output_type": "stream",
     "text": [
      "100%|██████████| 21/21 [00:00<00:00, 74.76it/s]\n",
      " 38%|███▊      | 8/21 [00:00<00:00, 77.53it/s]"
     ]
    },
    {
     "name": "stdout",
     "output_type": "stream",
     "text": [
      "111 0.13923654740764982\n",
      "の うち の ランキング は 、 システム 上 の タイミング でし た もの 。\n",
      "の 名 は 、 連邦 国防大臣 な 二 や 新聞 に 数 百 点 の 記事 を 掲載 し まし た 。\n"
     ]
    },
    {
     "name": "stderr",
     "output_type": "stream",
     "text": [
      "100%|██████████| 21/21 [00:00<00:00, 78.99it/s]\n",
      " 43%|████▎     | 9/21 [00:00<00:00, 81.66it/s]"
     ]
    },
    {
     "name": "stdout",
     "output_type": "stream",
     "text": [
      "112 0.1357364665184702\n",
      "の うち の 違い は 、 システム 上 の もの でし た 。\n",
      "の 名 は 、 連邦 政府 が 執務 分け て いる もの で 、 甲板 の 停留所 ） 。\n"
     ]
    },
    {
     "name": "stderr",
     "output_type": "stream",
     "text": [
      "100%|██████████| 21/21 [00:00<00:00, 80.64it/s]\n",
      " 38%|███▊      | 8/21 [00:00<00:00, 75.55it/s]"
     ]
    },
    {
     "name": "stdout",
     "output_type": "stream",
     "text": [
      "113 0.131602280551479\n",
      "の うち の 違い は 、 システム 上 の もの でし た 。\n",
      "の 名 は 、 連邦 政府 が 執務 分け て いる もの で 、 甲板 の 停留所 ） 。\n"
     ]
    },
    {
     "name": "stderr",
     "output_type": "stream",
     "text": [
      "100%|██████████| 21/21 [00:00<00:00, 73.81it/s]\n",
      " 38%|███▊      | 8/21 [00:00<00:00, 77.80it/s]"
     ]
    },
    {
     "name": "stdout",
     "output_type": "stream",
     "text": [
      "114 0.1268661039925757\n",
      "の うち の 違い は 、 システム 上 の 対応 で 最も 重要 です 。\n",
      "の センサス に よれ ば 、 15歳 以上 の 国民 の 識字率 は 80% で ある 。\n"
     ]
    },
    {
     "name": "stderr",
     "output_type": "stream",
     "text": [
      "100%|██████████| 21/21 [00:00<00:00, 79.37it/s]\n",
      " 43%|████▎     | 9/21 [00:00<00:00, 82.73it/s]"
     ]
    },
    {
     "name": "stdout",
     "output_type": "stream",
     "text": [
      "115 0.1253757948676745\n",
      "の うち の ランキング は 、 システム 上 の タイミング でし た もの で ある 。\n",
      "の 名 は 、 連邦 政府 が 執務 不能 の 際 に これ を 提示 する こと です 。\n"
     ]
    },
    {
     "name": "stderr",
     "output_type": "stream",
     "text": [
      "100%|██████████| 21/21 [00:00<00:00, 81.80it/s]\n",
      " 38%|███▊      | 8/21 [00:00<00:00, 75.14it/s]"
     ]
    },
    {
     "name": "stdout",
     "output_type": "stream",
     "text": [
      "116 0.11905621985594432\n",
      "の うち の 違い は 、 システム 上 の 対応 で 最も 重要 です 。\n",
      "の 名 は 、 連邦 国防大臣 な 二 や 新聞 に 数 百 点 の 記事 を 掲載 し まし た 。\n"
     ]
    },
    {
     "name": "stderr",
     "output_type": "stream",
     "text": [
      "100%|██████████| 21/21 [00:00<00:00, 73.92it/s]\n",
      " 43%|████▎     | 9/21 [00:00<00:00, 83.80it/s]"
     ]
    },
    {
     "name": "stdout",
     "output_type": "stream",
     "text": [
      "117 0.11599549402793248\n",
      "の うち の 違い は 、 システム 上 の 対応 で 最も 重要 です 。\n",
      "の 名 は 、 連邦 政府 が 執務 分け て いる もの で 、 事例 です 。\n"
     ]
    },
    {
     "name": "stderr",
     "output_type": "stream",
     "text": [
      "100%|██████████| 21/21 [00:00<00:00, 80.72it/s]\n",
      " 43%|████▎     | 9/21 [00:00<00:00, 82.03it/s]"
     ]
    },
    {
     "name": "stdout",
     "output_type": "stream",
     "text": [
      "118 0.1119527014948073\n",
      "の うち の 違い は 、 システム 上 の アクティブ な チャネル は 先生 です 。\n",
      "の 名 は 、 連邦 政府 が 執務 分け て いる もの で 、 国 の 一つ 。\n"
     ]
    },
    {
     "name": "stderr",
     "output_type": "stream",
     "text": [
      "100%|██████████| 21/21 [00:00<00:00, 81.13it/s]\n",
      " 38%|███▊      | 8/21 [00:00<00:00, 73.86it/s]"
     ]
    },
    {
     "name": "stdout",
     "output_type": "stream",
     "text": [
      "119 0.11192560692628224\n",
      "の うち の 違い は 、 システム 上 の もの でし た 。\n",
      "の 名 は 、 連邦 政府 が 執務 分け に 向かっ て 上位 事象 x の 事例 が でき ます 。\n"
     ]
    },
    {
     "name": "stderr",
     "output_type": "stream",
     "text": [
      "100%|██████████| 21/21 [00:00<00:00, 73.16it/s]\n",
      " 43%|████▎     | 9/21 [00:00<00:00, 80.36it/s]"
     ]
    },
    {
     "name": "stdout",
     "output_type": "stream",
     "text": [
      "120 0.1065993539634205\n",
      "の うち の 違い は 、 システム 上 の もの でし た 。\n",
      "の 名 は 、 連邦 政府 が 執務 分け に 公立 、 6人 の 委員 で ある 。\n"
     ]
    },
    {
     "name": "stderr",
     "output_type": "stream",
     "text": [
      "100%|██████████| 21/21 [00:00<00:00, 79.34it/s]\n",
      " 43%|████▎     | 9/21 [00:00<00:00, 80.67it/s]"
     ]
    },
    {
     "name": "stdout",
     "output_type": "stream",
     "text": [
      "121 0.1044090251837458\n",
      "の うち の 違い は 、 システム 上 の もの でし た 。\n",
      "の 名 は 、 連邦 国防大臣 が 制定 さ れ た もの で ある もの と の 事例 です 。\n"
     ]
    },
    {
     "name": "stderr",
     "output_type": "stream",
     "text": [
      "100%|██████████| 21/21 [00:00<00:00, 79.00it/s]\n",
      " 38%|███▊      | 8/21 [00:00<00:00, 75.23it/s]"
     ]
    },
    {
     "name": "stdout",
     "output_type": "stream",
     "text": [
      "122 0.10117966859113603\n",
      "の うち の 違い は 、 システム 上 の もの でし た 。\n",
      "の 名 は 、 その 功績 を 称え て 、 小惑星 や 月 の もの を 参照 。\n"
     ]
    },
    {
     "name": "stderr",
     "output_type": "stream",
     "text": [
      "100%|██████████| 21/21 [00:00<00:00, 74.65it/s]\n",
      " 38%|███▊      | 8/21 [00:00<00:00, 79.17it/s]"
     ]
    },
    {
     "name": "stdout",
     "output_type": "stream",
     "text": [
      "123 0.09728029512223743\n",
      "の うち の ランキング は 、 システム 上 の タイミング でし た 。\n",
      "の 名 は 、 連邦 政府 が 執務 分け て いる もの の もの を 以下 が あり ます 。\n"
     ]
    },
    {
     "name": "stderr",
     "output_type": "stream",
     "text": [
      "100%|██████████| 21/21 [00:00<00:00, 80.69it/s]\n",
      " 38%|███▊      | 8/21 [00:00<00:00, 79.46it/s]"
     ]
    },
    {
     "name": "stdout",
     "output_type": "stream",
     "text": [
      "124 0.09603022322768257\n",
      "の うち の ランキング は 、 国際 オリンピック 委員 会 れる 1 つ です 。\n",
      "の 名 は 、 連邦 政府 が 執務 分け て いる もの の より 一般 的 で ある 。\n"
     ]
    },
    {
     "name": "stderr",
     "output_type": "stream",
     "text": [
      "100%|██████████| 21/21 [00:00<00:00, 78.59it/s]\n",
      " 38%|███▊      | 8/21 [00:00<00:00, 75.59it/s]"
     ]
    },
    {
     "name": "stdout",
     "output_type": "stream",
     "text": [
      "125 0.0961996465921402\n",
      "の うち の 違い は 、 システム 上 の 対応 で 最も 重要 です 。\n",
      "の 名 は 、 連邦 政府 が 執務 不能 の 際 に これ を 提示 する こと です 。\n"
     ]
    },
    {
     "name": "stderr",
     "output_type": "stream",
     "text": [
      "100%|██████████| 21/21 [00:00<00:00, 72.91it/s]\n",
      " 38%|███▊      | 8/21 [00:00<00:00, 79.15it/s]"
     ]
    },
    {
     "name": "stdout",
     "output_type": "stream",
     "text": [
      "126 0.09154112317732402\n",
      "の うち の 違い は 、 システム 上 の 対応 で 最も 重要 です 。\n",
      "の 名 は 、 連邦 政府 が 執務 不能 の 際 に これ を 結ぶ する こと です 。\n"
     ]
    },
    {
     "name": "stderr",
     "output_type": "stream",
     "text": [
      "100%|██████████| 21/21 [00:00<00:00, 80.39it/s]\n",
      " 43%|████▎     | 9/21 [00:00<00:00, 82.62it/s]"
     ]
    },
    {
     "name": "stdout",
     "output_type": "stream",
     "text": [
      "127 0.08638085779689607\n",
      "の うち の 違い は 、 システム 上 の 対応 で 最も 重要 です 。\n",
      "の 名 は 、 連邦 国防大臣 が 制定 さ れ た もの で ある もの と の 一つ 。\n"
     ]
    },
    {
     "name": "stderr",
     "output_type": "stream",
     "text": [
      "100%|██████████| 21/21 [00:00<00:00, 78.18it/s]\n",
      " 38%|███▊      | 8/21 [00:00<00:00, 73.45it/s]"
     ]
    },
    {
     "name": "stdout",
     "output_type": "stream",
     "text": [
      "128 0.08665046166805994\n",
      "の うち の 違い は 、 システム 上 の 対応 で 最も 重要 です 。\n",
      "の 名 は 、 連邦 国防大臣 が 制定 さ れ た もの で ある もの と の 一つ 。\n"
     ]
    },
    {
     "name": "stderr",
     "output_type": "stream",
     "text": [
      "100%|██████████| 21/21 [00:00<00:00, 75.05it/s]\n",
      " 43%|████▎     | 9/21 [00:00<00:00, 80.98it/s]"
     ]
    },
    {
     "name": "stdout",
     "output_type": "stream",
     "text": [
      "129 0.08398610477646191\n",
      "の うち の 違い は 、 システム 上 の もの でし た 。\n",
      "の 名 は 、 連邦 国防大臣 が 制定 さ れ た もの で ある もの と の 一つ 。\n"
     ]
    },
    {
     "name": "stderr",
     "output_type": "stream",
     "text": [
      "100%|██████████| 21/21 [00:00<00:00, 81.00it/s]\n",
      " 38%|███▊      | 8/21 [00:00<00:00, 78.32it/s]"
     ]
    },
    {
     "name": "stdout",
     "output_type": "stream",
     "text": [
      "130 0.08151386075076603\n",
      "の うち の 違い は 、 システム 上 の 対応 で 最も 重要 です 。\n",
      "の 名 は 、 その 功績 を 称え て 、 小惑星 や 月 の 流れ を わずか 。\n"
     ]
    },
    {
     "name": "stderr",
     "output_type": "stream",
     "text": [
      "100%|██████████| 21/21 [00:00<00:00, 79.37it/s]\n",
      " 38%|███▊      | 8/21 [00:00<00:00, 79.37it/s]"
     ]
    },
    {
     "name": "stdout",
     "output_type": "stream",
     "text": [
      "131 0.08180075458117894\n",
      "の うち の 違い は 、 システム 上 の 対応 で 最も 重要 です 。\n",
      "の 名 は 、 連邦 国防大臣 が 制定 さ れ た もの で ある もの と する 。\n"
     ]
    },
    {
     "name": "stderr",
     "output_type": "stream",
     "text": [
      "100%|██████████| 21/21 [00:00<00:00, 80.36it/s]\n",
      " 38%|███▊      | 8/21 [00:00<00:00, 74.88it/s]"
     ]
    },
    {
     "name": "stdout",
     "output_type": "stream",
     "text": [
      "132 0.07818942162252608\n",
      "の うち の 違い は 、 支払い の タイミング でし た もの より ある 。\n",
      "の 名 は 、 連邦 国防大臣 な 二 や 新聞 に 数 百 点 の 記事 を 掲載 し まし た 。\n"
     ]
    },
    {
     "name": "stderr",
     "output_type": "stream",
     "text": [
      "100%|██████████| 21/21 [00:00<00:00, 73.02it/s]\n",
      " 43%|████▎     | 9/21 [00:00<00:00, 81.55it/s]"
     ]
    },
    {
     "name": "stdout",
     "output_type": "stream",
     "text": [
      "133 0.07958655307690303\n",
      "の うち の 違い は 、 システム 上 の もの でし た 。\n",
      "の センサス で 計数 の 正確 な 詳細 つ の グラフ と は 跨線橋 を 共有 し て い ます 。\n"
     ]
    },
    {
     "name": "stderr",
     "output_type": "stream",
     "text": [
      "100%|██████████| 21/21 [00:00<00:00, 80.77it/s]\n",
      " 43%|████▎     | 9/21 [00:00<00:00, 80.25it/s]"
     ]
    },
    {
     "name": "stdout",
     "output_type": "stream",
     "text": [
      "134 0.07603043885458083\n",
      "の うち の ランキング は 、 システム 上 の タイミング でし た もの で ある 。\n",
      "の 名 は 、 その 地域 の 貸出 や 予約 など に は 以下 の 事例 が 多い 。\n"
     ]
    },
    {
     "name": "stderr",
     "output_type": "stream",
     "text": [
      "100%|██████████| 21/21 [00:00<00:00, 81.44it/s]\n",
      " 38%|███▊      | 8/21 [00:00<00:00, 78.92it/s]"
     ]
    },
    {
     "name": "stdout",
     "output_type": "stream",
     "text": [
      "135 0.07487537215153377\n",
      "の うち の 多く は 、 支払い の タイミング でし た もの で ある 。\n",
      "の 名 は 、 その 功績 を 称え て 、 小惑星 や 月 の もの を 参照 。\n"
     ]
    },
    {
     "name": "stderr",
     "output_type": "stream",
     "text": [
      "100%|██████████| 21/21 [00:00<00:00, 79.95it/s]\n",
      " 43%|████▎     | 9/21 [00:00<00:00, 81.89it/s]"
     ]
    },
    {
     "name": "stdout",
     "output_type": "stream",
     "text": [
      "136 0.07454701158262435\n",
      "の うち の 多く は 、 システム 上 の もの でし た 。\n",
      "の 名 は 、 連邦 政府 が 執務 分け の 順 に 並べ た もの で ある 。\n"
     ]
    },
    {
     "name": "stderr",
     "output_type": "stream",
     "text": [
      "100%|██████████| 21/21 [00:00<00:00, 79.51it/s]\n",
      " 38%|███▊      | 8/21 [00:00<00:00, 79.37it/s]"
     ]
    },
    {
     "name": "stdout",
     "output_type": "stream",
     "text": [
      "137 0.07197485527112371\n",
      "の うち の 多く は 、 人間 性 の タイミング でし た 。\n",
      "の 駅 は 、 放出 さ れる 水銀 廃棄 物 の 量 を 減らす こと です 。\n"
     ]
    },
    {
     "name": "stderr",
     "output_type": "stream",
     "text": [
      "100%|██████████| 21/21 [00:00<00:00, 76.47it/s]\n",
      " 38%|███▊      | 8/21 [00:00<00:00, 75.41it/s]"
     ]
    },
    {
     "name": "stdout",
     "output_type": "stream",
     "text": [
      "138 0.07036986876101721\n",
      "の うち の ランキング は 、 システム 上 の タイミング でし た もの で ある 。\n",
      "の 駅 は 「 良質 な 時代 の 構成 ・ 召集 等 兵事 事務 を 含め て 記述 する 。\n"
     ]
    },
    {
     "name": "stderr",
     "output_type": "stream",
     "text": [
      "100%|██████████| 21/21 [00:00<00:00, 72.84it/s]\n",
      " 43%|████▎     | 9/21 [00:00<00:00, 82.01it/s]"
     ]
    },
    {
     "name": "stdout",
     "output_type": "stream",
     "text": [
      "139 0.06711535138033685\n",
      "の うち の 違い は 、 システム 上 の 対応 で 最も 重要 です 。\n",
      "の 国 は その 地域 の 初版 の 周り に 赤色 の セラック ワニス を 減らす こと です 。\n"
     ]
    },
    {
     "name": "stderr",
     "output_type": "stream",
     "text": [
      "100%|██████████| 21/21 [00:00<00:00, 81.32it/s]\n",
      " 38%|███▊      | 8/21 [00:00<00:00, 77.74it/s]"
     ]
    },
    {
     "name": "stdout",
     "output_type": "stream",
     "text": [
      "140 0.06592912120478493\n",
      "の うち の 違い は 、 システム 上 の もの でし た 。\n",
      "の 駅 は 「 良質 な 記事 」 は 膨大 国 の 重要 な オピオイド が 果たす 。\n"
     ]
    },
    {
     "name": "stderr",
     "output_type": "stream",
     "text": [
      "100%|██████████| 21/21 [00:00<00:00, 74.63it/s]\n",
      " 43%|████▎     | 9/21 [00:00<00:00, 80.27it/s]"
     ]
    },
    {
     "name": "stdout",
     "output_type": "stream",
     "text": [
      "141 0.0650496223852748\n",
      "の うち の 違い は 、 システム 上 の もの でし た 。\n",
      "の 国 は 、 連邦 政府 が 制定 さ れ た もの で 、 甲板 の 事例 が あり ます 。\n"
     ]
    },
    {
     "name": "stderr",
     "output_type": "stream",
     "text": [
      "100%|██████████| 21/21 [00:00<00:00, 80.70it/s]\n",
      " 43%|████▎     | 9/21 [00:00<00:00, 80.69it/s]"
     ]
    },
    {
     "name": "stdout",
     "output_type": "stream",
     "text": [
      "142 0.06252439107213702\n",
      "の うち の 違い は 、 システム 上 の アクティブ な チャネル は 先生 です 。\n",
      "の 駅 は 「 良質 な 時代 の 構成 （ international olympic committee ） が 提供 する 。\n"
     ]
    },
    {
     "name": "stderr",
     "output_type": "stream",
     "text": [
      "100%|██████████| 21/21 [00:00<00:00, 80.34it/s]\n",
      " 38%|███▊      | 8/21 [00:00<00:00, 77.22it/s]"
     ]
    },
    {
     "name": "stdout",
     "output_type": "stream",
     "text": [
      "143 0.06224586317936579\n",
      "の うち の 違い は 、 システム 上 の 対応 で 最も 重要 です 。\n",
      "の 国 は 道路 交通 に関する ウィーン 条約 の メンバー に なっ て いる もの が ある 。\n"
     ]
    },
    {
     "name": "stderr",
     "output_type": "stream",
     "text": [
      "100%|██████████| 21/21 [00:00<00:00, 75.38it/s]\n",
      " 38%|███▊      | 8/21 [00:00<00:00, 78.47it/s]"
     ]
    },
    {
     "name": "stdout",
     "output_type": "stream",
     "text": [
      "144 0.060670572909570876\n",
      "の うち の ランキング は 、 国際 オリンピック 最も 重要 な 作家 の 一つ です 。\n",
      "の 国 は 道路 国際 で 3 チーム の 確率 を 継承 する もの の 掲載 し て い ます 。\n"
     ]
    },
    {
     "name": "stderr",
     "output_type": "stream",
     "text": [
      "100%|██████████| 21/21 [00:00<00:00, 79.51it/s]\n",
      " 38%|███▊      | 8/21 [00:00<00:00, 79.94it/s]"
     ]
    },
    {
     "name": "stdout",
     "output_type": "stream",
     "text": [
      "145 0.060248147341467086\n",
      "の うち の ランキング は 、 国際 オリンピック 最も 重要 な 世界 です 。\n",
      "の 駅 は 「 良質 な 時代 の 構成 （ international olympic committee ） が 提供 する 。\n"
     ]
    },
    {
     "name": "stderr",
     "output_type": "stream",
     "text": [
      "100%|██████████| 21/21 [00:00<00:00, 80.27it/s]\n",
      " 43%|████▎     | 9/21 [00:00<00:00, 82.59it/s]"
     ]
    },
    {
     "name": "stdout",
     "output_type": "stream",
     "text": [
      "146 0.05844982890855698\n",
      "の うち の ランキング は 、 国際 オリンピック 最も 重要 な 作家 の 一つ です 。\n",
      "の 名 は 、 その 功績 を 明る さ の 順 に 並べ た もの で ある 。\n"
     ]
    },
    {
     "name": "stderr",
     "output_type": "stream",
     "text": [
      "100%|██████████| 21/21 [00:00<00:00, 81.57it/s]\n",
      " 43%|████▎     | 9/21 [00:00<00:00, 81.23it/s]"
     ]
    },
    {
     "name": "stdout",
     "output_type": "stream",
     "text": [
      "147 0.05606891729292415\n",
      "の うち の システム は 、 システム 上 の アクティブ な チャネル で も あり ます 。\n",
      "の 駅 は 「 良質 な 記事 上 に 構成 さ れ て いる こと が わかり まし た 。\n"
     ]
    },
    {
     "name": "stderr",
     "output_type": "stream",
     "text": [
      "100%|██████████| 21/21 [00:00<00:00, 81.41it/s]\n",
      " 43%|████▎     | 9/21 [00:00<00:00, 82.22it/s]"
     ]
    },
    {
     "name": "stdout",
     "output_type": "stream",
     "text": [
      "148 0.055253526816765465\n",
      "の うち の 違い は 、 システム 上 の 対応 で 最も 重要 です 。\n",
      "の 駅 は 「 良質 な 記事 上 に 構成 さ れ て いる こと が わかり まし た 。\n"
     ]
    },
    {
     "name": "stderr",
     "output_type": "stream",
     "text": [
      "100%|██████████| 21/21 [00:00<00:00, 78.76it/s]\n",
      " 38%|███▊      | 8/21 [00:00<00:00, 72.73it/s]"
     ]
    },
    {
     "name": "stdout",
     "output_type": "stream",
     "text": [
      "149 0.05398067565900939\n",
      "の うち の 違い は 、 システム 上 の 対応 で 最も 重要 です 。\n",
      "の 駅 は 「 良質 な 時代 に 同県 全域 の 保護 さ れ て いる 。\n"
     ]
    },
    {
     "name": "stderr",
     "output_type": "stream",
     "text": [
      "100%|██████████| 21/21 [00:00<00:00, 74.85it/s]\n",
      " 43%|████▎     | 9/21 [00:00<00:00, 81.10it/s]"
     ]
    },
    {
     "name": "stdout",
     "output_type": "stream",
     "text": [
      "150 0.05362851722609429\n",
      "の うち の 違い は 、 システム 上 の 対応 で 最も 重要 です 。\n",
      "の 駅 は 「 良質 な 時代 に 構成 さ れ て き て き て い ます 。\n"
     ]
    },
    {
     "name": "stderr",
     "output_type": "stream",
     "text": [
      "100%|██████████| 21/21 [00:00<00:00, 81.37it/s]\n",
      " 38%|███▊      | 8/21 [00:00<00:00, 79.04it/s]"
     ]
    },
    {
     "name": "stdout",
     "output_type": "stream",
     "text": [
      "151 0.05241555081946509\n",
      "の うち の 違い は 、 システム 上 の 対応 で 最も 重要 です 。\n",
      "の 駅 は 「 良質 な 時代 に 同県 製造 業 と の メンバー だ と 考え られ て い ます 。\n"
     ]
    },
    {
     "name": "stderr",
     "output_type": "stream",
     "text": [
      "100%|██████████| 21/21 [00:00<00:00, 76.35it/s]\n",
      " 38%|███▊      | 8/21 [00:00<00:00, 72.03it/s]"
     ]
    },
    {
     "name": "stdout",
     "output_type": "stream",
     "text": [
      "152 0.051937789079688844\n",
      "の うち の 違い は 、 システム 上 の 対応 で 最も 重要 です 。\n",
      "の 名 は 、 連邦 政府 が 執務 不能 の 際 に これ を 提示 する こと です 。\n"
     ]
    },
    {
     "name": "stderr",
     "output_type": "stream",
     "text": [
      "100%|██████████| 21/21 [00:00<00:00, 76.93it/s]\n",
      " 43%|████▎     | 9/21 [00:00<00:00, 80.91it/s]"
     ]
    },
    {
     "name": "stdout",
     "output_type": "stream",
     "text": [
      "153 0.050563467400414605\n",
      "の うち の 違い は 、 システム 上 の もの でし た 。\n",
      "の 国 は 「 良質 な インドネシア は 、 製造 的 に 都道府県 警察 として 奈良県 警察本部 が 発足 。\n"
     ]
    },
    {
     "name": "stderr",
     "output_type": "stream",
     "text": [
      "100%|██████████| 21/21 [00:00<00:00, 80.17it/s]\n",
      " 38%|███▊      | 8/21 [00:00<00:00, 74.62it/s]"
     ]
    },
    {
     "name": "stdout",
     "output_type": "stream",
     "text": [
      "154 0.04853341994541032\n",
      "の うち の 違い は 、 システム 上 の もの でし た 。\n",
      "の 第 一 の 目標 は 包括 的 な 犯罪 歴 を 提示 する こと です 。\n"
     ]
    },
    {
     "name": "stderr",
     "output_type": "stream",
     "text": [
      "100%|██████████| 21/21 [00:00<00:00, 74.19it/s]\n",
      " 38%|███▊      | 8/21 [00:00<00:00, 78.81it/s]"
     ]
    },
    {
     "name": "stdout",
     "output_type": "stream",
     "text": [
      "155 0.04820198104495094\n",
      "の うち の 違い は 、 システム 上 の 対応 で 最も 重要 です 。\n",
      "の 駅 は 「 良質 な 時代 に 構成 さ れ て いる もの が ある 。\n"
     ]
    },
    {
     "name": "stderr",
     "output_type": "stream",
     "text": [
      "100%|██████████| 21/21 [00:00<00:00, 79.69it/s]\n",
      " 38%|███▊      | 8/21 [00:00<00:00, 77.21it/s]"
     ]
    },
    {
     "name": "stdout",
     "output_type": "stream",
     "text": [
      "156 0.04649515095211211\n",
      "の うち の 違い は 、 システム 上 の アクティブ な タスク の プログラム 。\n",
      "の 駅 は 「 良質 な 時代 に 同県 製造 さ れ て いる こと が ある 。\n"
     ]
    },
    {
     "name": "stderr",
     "output_type": "stream",
     "text": [
      "100%|██████████| 21/21 [00:00<00:00, 74.53it/s]\n",
      " 38%|███▊      | 8/21 [00:00<00:00, 77.07it/s]"
     ]
    },
    {
     "name": "stdout",
     "output_type": "stream",
     "text": [
      "157 0.04651677360137304\n",
      "の うち の 違い は 、 システム 上 の アクティブ な タスク の プログラム 。\n",
      "の 駅 は 「 良質 な 時代 に 同県 製造 さ れ て いる こと が ある 。\n"
     ]
    },
    {
     "name": "stderr",
     "output_type": "stream",
     "text": [
      "100%|██████████| 21/21 [00:00<00:00, 78.92it/s]\n",
      " 43%|████▎     | 9/21 [00:00<00:00, 80.31it/s]"
     ]
    },
    {
     "name": "stdout",
     "output_type": "stream",
     "text": [
      "158 0.04564210098414194\n",
      "の うち の 違い は 、 システム 上 の 対応 で 最も 重要 です 。\n",
      "の 駅 は 「 良質 な 時代 に 同県 製造 さ れ て いる こと が ある 。\n"
     ]
    },
    {
     "name": "stderr",
     "output_type": "stream",
     "text": [
      "100%|██████████| 21/21 [00:00<00:00, 81.22it/s]\n",
      " 38%|███▊      | 8/21 [00:00<00:00, 74.14it/s]"
     ]
    },
    {
     "name": "stdout",
     "output_type": "stream",
     "text": [
      "159 0.044310959499506725\n",
      "の うち の 多く は 、 人間 や 上 、 世界 で 2 番目 です 。\n",
      "の 駅 は 「 良質 な 時代 に 構成 さ れ て いる もの が あり ます 。\n"
     ]
    },
    {
     "name": "stderr",
     "output_type": "stream",
     "text": [
      "100%|██████████| 21/21 [00:00<00:00, 73.61it/s]\n",
      " 38%|███▊      | 8/21 [00:00<00:00, 79.40it/s]"
     ]
    },
    {
     "name": "stdout",
     "output_type": "stream",
     "text": [
      "160 0.04327083662861869\n",
      "の うち の 多く は 、 人間 や 上 、 あり ます もの 1 つ です 。\n",
      "の 駅 は 「 良質 な 時代 に 同県 全域 の 保護 さ れ て いる 。\n"
     ]
    },
    {
     "name": "stderr",
     "output_type": "stream",
     "text": [
      "100%|██████████| 21/21 [00:00<00:00, 80.25it/s]\n",
      " 38%|███▊      | 8/21 [00:00<00:00, 76.04it/s]"
     ]
    },
    {
     "name": "stdout",
     "output_type": "stream",
     "text": [
      "161 0.04261090038787751\n",
      "の うち の 違い は 、 システム 上 の 対応 で 最も 重要 です 。\n",
      "の 駅 は 「 良質 な 時代 に 同県 全域 の 保護 さ れ て いる 。\n"
     ]
    },
    {
     "name": "stderr",
     "output_type": "stream",
     "text": [
      "100%|██████████| 21/21 [00:00<00:00, 73.68it/s]\n",
      " 38%|███▊      | 8/21 [00:00<00:00, 79.03it/s]"
     ]
    },
    {
     "name": "stdout",
     "output_type": "stream",
     "text": [
      "162 0.041873889842203686\n",
      "の うち の ランキング は 、 国際 オリンピック 最も 重要 な 会社 の 私立 博物館 です 。\n",
      "の 名 は 、 その 功績 を 明る さ の 順 に 並べ た もの で ある 。\n"
     ]
    },
    {
     "name": "stderr",
     "output_type": "stream",
     "text": [
      "100%|██████████| 21/21 [00:00<00:00, 79.92it/s]\n",
      " 43%|████▎     | 9/21 [00:00<00:00, 81.76it/s]"
     ]
    },
    {
     "name": "stdout",
     "output_type": "stream",
     "text": [
      "163 0.040715343008438744\n",
      "の うち の ランキング は 、 国際 オリンピック 最も 重要 な 会社 の 私立 博物館 です 。\n",
      "の 駅 は 「 良質 な 時代 に 同県 全域 の 徴兵 ・ 保護 さ れ て い ます 。\n"
     ]
    },
    {
     "name": "stderr",
     "output_type": "stream",
     "text": [
      "100%|██████████| 21/21 [00:00<00:00, 81.02it/s]\n",
      " 43%|████▎     | 9/21 [00:00<00:00, 80.98it/s]"
     ]
    },
    {
     "name": "stdout",
     "output_type": "stream",
     "text": [
      "164 0.041076553896779104\n",
      "の うち 、 ランキング は 、 支払い の タイミング でし た もの で ある 。\n",
      "の 駅 は 「 良質 な 時代 に 同県 全域 の 保護 さ れ て いる 。\n"
     ]
    },
    {
     "name": "stderr",
     "output_type": "stream",
     "text": [
      "100%|██████████| 21/21 [00:00<00:00, 80.95it/s]\n",
      " 43%|████▎     | 9/21 [00:00<00:00, 81.33it/s]"
     ]
    },
    {
     "name": "stdout",
     "output_type": "stream",
     "text": [
      "165 0.042829698572556175\n",
      "の うち 、 唯一 の 違い は 、 支払い の タイミング でし た 。\n",
      "の 駅 は 「 良質 な 時代 に 同県 全域 の 保護 さ れ て いる 。\n"
     ]
    },
    {
     "name": "stderr",
     "output_type": "stream",
     "text": [
      "100%|██████████| 21/21 [00:00<00:00, 79.95it/s]\n",
      " 38%|███▊      | 8/21 [00:00<00:00, 76.00it/s]"
     ]
    },
    {
     "name": "stdout",
     "output_type": "stream",
     "text": [
      "166 0.041511651483320054\n",
      "の うち の 唯一 の 違い は 、 支払い の タイミング でし た 。\n",
      "の 駅 は 「 良質 な 時代 に 同県 製造 さ れる と 信じ られ て いる 。\n"
     ]
    },
    {
     "name": "stderr",
     "output_type": "stream",
     "text": [
      "100%|██████████| 21/21 [00:00<00:00, 74.27it/s]\n",
      " 38%|███▊      | 8/21 [00:00<00:00, 78.85it/s]"
     ]
    },
    {
     "name": "stdout",
     "output_type": "stream",
     "text": [
      "167 0.040547994808072134\n",
      "の うち で の システム は 、 システム 上 の アクティブ な タスク の ます 。\n",
      "の 駅 は 「 良質 な 時代 に 同県 全域 の 徴兵 ・ 保護 （ 停留所 ） 。\n"
     ]
    },
    {
     "name": "stderr",
     "output_type": "stream",
     "text": [
      "100%|██████████| 21/21 [00:00<00:00, 79.24it/s]\n",
      " 43%|████▎     | 9/21 [00:00<00:00, 81.41it/s]"
     ]
    },
    {
     "name": "stdout",
     "output_type": "stream",
     "text": [
      "168 0.04148737500820841\n",
      "の うち の システム は 、 システム 上 の アクティブ な チャネル の は です 。\n",
      "の 国 は 道路 交通 に関する ウィーン 条約 の メンバー に なっ て いる もの が ある 。\n"
     ]
    },
    {
     "name": "stderr",
     "output_type": "stream",
     "text": [
      "100%|██████████| 21/21 [00:00<00:00, 78.86it/s]\n",
      " 38%|███▊      | 8/21 [00:00<00:00, 74.05it/s]"
     ]
    },
    {
     "name": "stdout",
     "output_type": "stream",
     "text": [
      "169 0.040647542547611965\n",
      "による 生息地 の 間 で 計数 の 正確 さ れる もの で ある 。\n",
      "の 国 は 道路 交通 に関する ウィーン 条約 の 発生 的 に ステーション カラー が 連携 し て い ます 。\n"
     ]
    },
    {
     "name": "stderr",
     "output_type": "stream",
     "text": [
      "100%|██████████| 21/21 [00:00<00:00, 74.22it/s]\n",
      " 43%|████▎     | 9/21 [00:00<00:00, 82.69it/s]"
     ]
    },
    {
     "name": "stdout",
     "output_type": "stream",
     "text": [
      "170 0.039686299505687896\n",
      "の うち の システム は 、 システム 上 の アクティブ な チャネル で の 一つ です 。\n",
      "の センサス に よれ ば 、 15歳 以上 の 国民 の 識字率 は 80% で ある こと です 。\n"
     ]
    },
    {
     "name": "stderr",
     "output_type": "stream",
     "text": [
      "100%|██████████| 21/21 [00:00<00:00, 81.06it/s]\n",
      " 38%|███▊      | 8/21 [00:00<00:00, 75.46it/s]"
     ]
    },
    {
     "name": "stdout",
     "output_type": "stream",
     "text": [
      "171 0.03943973602283569\n",
      "の うち の ランキング は 、 システム 上 の アクティブ な チャネル で の 一つ です 。\n",
      "の 国 は 道路 国際 で 3 チーム の 確率 を 提示 する こと によって 2 られ て いる 。\n"
     ]
    },
    {
     "name": "stderr",
     "output_type": "stream",
     "text": [
      "100%|██████████| 21/21 [00:00<00:00, 73.26it/s]\n",
      " 38%|███▊      | 8/21 [00:00<00:00, 77.12it/s]"
     ]
    },
    {
     "name": "stdout",
     "output_type": "stream",
     "text": [
      "172 0.03955578591142382\n",
      "の うち 、 多く の 間 で 計数 の 母親 は 先生 です 。\n",
      "の 駅 は 「 良質 な 時代 に 同県 全域 の 保護 さ れ て いる 。\n"
     ]
    },
    {
     "name": "stderr",
     "output_type": "stream",
     "text": [
      "100%|██████████| 21/21 [00:00<00:00, 80.37it/s]\n",
      " 43%|████▎     | 9/21 [00:00<00:00, 81.57it/s]"
     ]
    },
    {
     "name": "stdout",
     "output_type": "stream",
     "text": [
      "173 0.038618972791092734\n",
      "の うち 、 唯一 の 違い は 、 支払い の タイミング でし た 。\n",
      "の 名 は 、 連邦 政府 が 執務 分け て いる もの の より 弾力 性 する 。\n"
     ]
    },
    {
     "name": "stderr",
     "output_type": "stream",
     "text": [
      "100%|██████████| 21/21 [00:00<00:00, 79.10it/s]\n",
      " 38%|███▊      | 8/21 [00:00<00:00, 74.78it/s]"
     ]
    },
    {
     "name": "stdout",
     "output_type": "stream",
     "text": [
      "174 0.03715491241642407\n",
      "の うち 、 唯一 の 違い は 、 支払い の タイミング でし た 。\n",
      "の 名 は 、 その 地域 の 雷管 の 周り に 赤色 の 特別 輸送艦 に 基づい て い ます 。\n"
     ]
    },
    {
     "name": "stderr",
     "output_type": "stream",
     "text": [
      "100%|██████████| 21/21 [00:00<00:00, 73.66it/s]\n",
      " 43%|████▎     | 9/21 [00:00<00:00, 80.71it/s]"
     ]
    },
    {
     "name": "stdout",
     "output_type": "stream",
     "text": [
      "175 0.03696218372455665\n",
      "の うち 、 唯一 の 違い は 、 支払い の タイミング でし た 。\n",
      "の 名 は 、 連邦 政府 が 執務 分け て いる もの を 、 4位 に 基づい て い ない 。\n"
     ]
    },
    {
     "name": "stderr",
     "output_type": "stream",
     "text": [
      "100%|██████████| 21/21 [00:00<00:00, 80.41it/s]\n",
      " 38%|███▊      | 8/21 [00:00<00:00, 79.92it/s]"
     ]
    },
    {
     "name": "stdout",
     "output_type": "stream",
     "text": [
      "176 0.035807277829874126\n",
      "の うち の システム は 、 システム 上 の アクティブ な チャネル の は です 。\n",
      "の 国 は 道路 交通 に関する ウィーン 条約 の メンバー に なり 新潟県第三区 に 発生 さ れる 。\n"
     ]
    },
    {
     "name": "stderr",
     "output_type": "stream",
     "text": [
      "100%|██████████| 21/21 [00:00<00:00, 74.77it/s]\n",
      " 38%|███▊      | 8/21 [00:00<00:00, 71.77it/s]"
     ]
    },
    {
     "name": "stdout",
     "output_type": "stream",
     "text": [
      "177 0.03512071214971088\n",
      "の うち 、 唯一 の 違い は 、 支払い の タイミング でし た 。\n",
      "の センサス に よれ ば 、 15歳 以上 の 国民 の 識字率 は 繰り 上がり で ある こと です 。\n"
     ]
    },
    {
     "name": "stderr",
     "output_type": "stream",
     "text": [
      "100%|██████████| 21/21 [00:00<00:00, 77.05it/s]\n",
      " 38%|███▊      | 8/21 [00:00<00:00, 79.11it/s]"
     ]
    },
    {
     "name": "stdout",
     "output_type": "stream",
     "text": [
      "178 0.03561391876566978\n",
      "の うち 、 唯一 の 違い は 、 支払い の タイミング でし た 。\n",
      "の 名 は 、 連邦 政府 が 執務 不能 の 際 に これ を 結ぶ 構内 踏切 で 。\n"
     ]
    },
    {
     "name": "stderr",
     "output_type": "stream",
     "text": [
      "100%|██████████| 21/21 [00:00<00:00, 76.87it/s]\n",
      " 38%|███▊      | 8/21 [00:00<00:00, 72.91it/s]"
     ]
    },
    {
     "name": "stdout",
     "output_type": "stream",
     "text": [
      "179 0.03433417218426863\n",
      "の うち 、 唯一 の 違い は 、 支払い の タイミング でし た 。\n",
      "の 名 は 、 連邦 政府 が 執務 不能 の 際 に 公立 より 2 を 支援 する 。\n"
     ]
    },
    {
     "name": "stderr",
     "output_type": "stream",
     "text": [
      "100%|██████████| 21/21 [00:00<00:00, 76.85it/s]\n",
      " 38%|███▊      | 8/21 [00:00<00:00, 79.97it/s]"
     ]
    },
    {
     "name": "stdout",
     "output_type": "stream",
     "text": [
      "180 0.0328560152224132\n",
      "の うち の システム は 、 システム 上 の アクティブ な タスク の プログラム 。\n",
      "の 国 は 道路 交通 に関する ウィーン 条約 の メンバー に 選出 さ れる こと が あり ます 。\n"
     ]
    },
    {
     "name": "stderr",
     "output_type": "stream",
     "text": [
      "100%|██████████| 21/21 [00:00<00:00, 79.88it/s]\n",
      " 38%|███▊      | 8/21 [00:00<00:00, 72.72it/s]"
     ]
    },
    {
     "name": "stdout",
     "output_type": "stream",
     "text": [
      "181 0.03349405252152965\n",
      "の うち 、 唯一 の 違い は 、 支払い の タイミング でし た 。\n",
      "の 国 は 道路 交通 に関する ウィーン 条約 の 共産党 の 保護 ） メンバー で ある 。\n"
     ]
    },
    {
     "name": "stderr",
     "output_type": "stream",
     "text": [
      "100%|██████████| 21/21 [00:00<00:00, 73.04it/s]\n",
      " 38%|███▊      | 8/21 [00:00<00:00, 77.87it/s]"
     ]
    },
    {
     "name": "stdout",
     "output_type": "stream",
     "text": [
      "182 0.03328939678058738\n",
      "の うち の ランキング は 、 システム 上 の アクティブ な タスク の プログラム 。\n",
      "の 国 は その これら の 状況 で モルヒネ または 他 の 強力 な オピオイド を 使用 する 。\n"
     ]
    },
    {
     "name": "stderr",
     "output_type": "stream",
     "text": [
      "100%|██████████| 21/21 [00:00<00:00, 79.66it/s]\n",
      " 43%|████▎     | 9/21 [00:00<00:00, 81.59it/s]"
     ]
    },
    {
     "name": "stdout",
     "output_type": "stream",
     "text": [
      "183 0.03426788632004034\n",
      "の うち の 製品 は 、 支払い の タイミング でし た 。\n",
      "の 駅 は 「 良質 な 記事 」 は 西周 による もの と さ れ て いる 。\n"
     ]
    },
    {
     "name": "stderr",
     "output_type": "stream",
     "text": [
      "100%|██████████| 21/21 [00:00<00:00, 80.88it/s]\n",
      " 43%|████▎     | 9/21 [00:00<00:00, 80.87it/s]"
     ]
    },
    {
     "name": "stdout",
     "output_type": "stream",
     "text": [
      "184 0.032993046212054435\n",
      "の うち 、 唯一 の 違い は 、 支払い の タイミング でし た 。\n",
      "の 国 の 解決 策 は 、 連邦 政府 が 執務 不能 の 一員 を 結ぶ こと です 。\n"
     ]
    },
    {
     "name": "stderr",
     "output_type": "stream",
     "text": [
      "100%|██████████| 21/21 [00:00<00:00, 81.02it/s]\n",
      " 38%|███▊      | 8/21 [00:00<00:00, 78.56it/s]"
     ]
    },
    {
     "name": "stdout",
     "output_type": "stream",
     "text": [
      "185 0.03273391226927439\n",
      "の うち の 違い は 、 支払い の タイミング でし た もの より ある 。\n",
      "の 国 の 解決 策 は 、 システム 上 に 米国 で 出版 さ れ て 取り組む 事例 です 。\n"
     ]
    },
    {
     "name": "stderr",
     "output_type": "stream",
     "text": [
      "100%|██████████| 21/21 [00:00<00:00, 79.88it/s]\n",
      " 43%|████▎     | 9/21 [00:00<00:00, 82.18it/s]"
     ]
    },
    {
     "name": "stdout",
     "output_type": "stream",
     "text": [
      "186 0.03461190800936449\n",
      "の うち の 違い は 、 システム 上 の アクティブ な タスク の プログラム 。\n",
      "の 国 は 道路 交通 に関する ウィーン 条約 の メンバー に 選出 さ れ て いる 。\n"
     ]
    },
    {
     "name": "stderr",
     "output_type": "stream",
     "text": [
      "100%|██████████| 21/21 [00:00<00:00, 81.81it/s]\n",
      " 43%|████▎     | 9/21 [00:00<00:00, 80.94it/s]"
     ]
    },
    {
     "name": "stdout",
     "output_type": "stream",
     "text": [
      "187 0.03594814471545674\n",
      "の うち の システム は 、 システム 上 の アクティブ な タスク の プログラム 。\n",
      "の 国 は その これら の 歴史 上 、 種子 、 プランクトン 、 昆虫 、 軟体動物 する 情報 の 一つ 。\n"
     ]
    },
    {
     "name": "stderr",
     "output_type": "stream",
     "text": [
      "100%|██████████| 21/21 [00:00<00:00, 81.60it/s]\n",
      " 43%|████▎     | 9/21 [00:00<00:00, 80.69it/s]"
     ]
    },
    {
     "name": "stdout",
     "output_type": "stream",
     "text": [
      "188 0.035295674577355385\n",
      "の うち の コード の 間 に 階層 は あり 1 1 つ です 。\n",
      "の 下位 事象 都市 は 、 以降 は 『 非想天則 』 と 称する こと と する 。\n"
     ]
    },
    {
     "name": "stderr",
     "output_type": "stream",
     "text": [
      "100%|██████████| 21/21 [00:00<00:00, 76.17it/s]\n",
      " 38%|███▊      | 8/21 [00:00<00:00, 76.40it/s]"
     ]
    },
    {
     "name": "stdout",
     "output_type": "stream",
     "text": [
      "189 0.03419002881717114\n",
      "の うち の コード の 間 に 階層 は あり 支払い の タイミング でし た 。\n",
      "の 国 の 解決 策 は 、 連邦 政府 が 執務 前 に 利用 可能 な スペース に なる 。\n"
     ]
    },
    {
     "name": "stderr",
     "output_type": "stream",
     "text": [
      "100%|██████████| 21/21 [00:00<00:00, 78.27it/s]\n",
      " 38%|███▊      | 8/21 [00:00<00:00, 79.95it/s]"
     ]
    },
    {
     "name": "stdout",
     "output_type": "stream",
     "text": [
      "190 0.03559244583759989\n",
      "の うち 、 唯一 の 違い は 、 製造 の 確率 の コンセンサス は ない 。\n",
      "の 国 は 道路 交通 に関する ウィーン 条約 の 代表 として 選出 さ れ て いる 。\n"
     ]
    },
    {
     "name": "stderr",
     "output_type": "stream",
     "text": [
      "100%|██████████| 21/21 [00:00<00:00, 76.13it/s]\n",
      " 38%|███▊      | 8/21 [00:00<00:00, 73.43it/s]"
     ]
    },
    {
     "name": "stdout",
     "output_type": "stream",
     "text": [
      "191 0.0411924072319553\n",
      "の うち 、 唯一 の 違い は 、 製造 プロセス に あり まし た 。\n",
      "の センサス で よれ ば 、 15歳 以上 の 国民 の 識字率 は 減少 し て いる 。\n"
     ]
    },
    {
     "name": "stderr",
     "output_type": "stream",
     "text": [
      "100%|██████████| 21/21 [00:00<00:00, 76.91it/s]\n",
      " 43%|████▎     | 9/21 [00:00<00:00, 82.36it/s]"
     ]
    },
    {
     "name": "stdout",
     "output_type": "stream",
     "text": [
      "192 0.04568632763056528\n",
      "の うち 、 違い は 、 支払い の タイミング でし た もの で ある 。\n",
      "の 駅 の 外縁 は やや 鋸 状 に 尖る が 、 大型 個体 で は する ：\n"
     ]
    },
    {
     "name": "stderr",
     "output_type": "stream",
     "text": [
      "100%|██████████| 21/21 [00:00<00:00, 80.55it/s]\n",
      " 38%|███▊      | 8/21 [00:00<00:00, 78.17it/s]"
     ]
    },
    {
     "name": "stdout",
     "output_type": "stream",
     "text": [
      "193 0.04614990701278051\n",
      "の うち の ランキング は 、 システム 上 の アクティブ な タスク の コンセンサス は まし た 。\n",
      "の ヨーロッパ まで 、 彼 は その 家族 に ステーション カラー が 連携 し て 取り組む 事例 が あり ます 。\n"
     ]
    },
    {
     "name": "stderr",
     "output_type": "stream",
     "text": [
      "100%|██████████| 21/21 [00:00<00:00, 76.26it/s]\n",
      " 38%|███▊      | 8/21 [00:00<00:00, 72.66it/s]"
     ]
    },
    {
     "name": "stdout",
     "output_type": "stream",
     "text": [
      "194 0.045302918092125936\n",
      "の うち の 違い は 、 システム 上 の 支払い の タイミング でし た 。\n",
      "の 第 一 の 目標 は 包括 的 な 犯罪 歴 を 提示 する こと です 。\n"
     ]
    },
    {
     "name": "stderr",
     "output_type": "stream",
     "text": [
      "100%|██████████| 21/21 [00:00<00:00, 75.03it/s]\n",
      " 43%|████▎     | 9/21 [00:00<00:00, 83.29it/s]"
     ]
    },
    {
     "name": "stdout",
     "output_type": "stream",
     "text": [
      "195 0.041134407832509\n",
      "の うち の 違い は 、 システム 上 の プランクトン 、 世界 で 最も はず です 。\n",
      "の 国 は 道路 交通 に関する ウィーン 条約 の 共産党 の 保護 系 て いる こと が あり ます 。\n"
     ]
    },
    {
     "name": "stderr",
     "output_type": "stream",
     "text": [
      "100%|██████████| 21/21 [00:00<00:00, 80.45it/s]\n",
      " 43%|████▎     | 9/21 [00:00<00:00, 79.64it/s]"
     ]
    },
    {
     "name": "stdout",
     "output_type": "stream",
     "text": [
      "196 0.03839570026667345\n",
      "の うち の システム は 、 支払い の タイミング でし た もの で ある 。\n",
      "の 名 は 、 その 功績 を 称え て 、 小惑星 や 月 の 大字 で 構成 さ れる 。\n"
     ]
    },
    {
     "name": "stderr",
     "output_type": "stream",
     "text": [
      "100%|██████████| 21/21 [00:00<00:00, 79.06it/s]\n",
      " 38%|███▊      | 8/21 [00:00<00:00, 74.92it/s]"
     ]
    },
    {
     "name": "stdout",
     "output_type": "stream",
     "text": [
      "197 0.0349183100320044\n",
      "の うち の 違い は 、 システム 上 の アクティブ な タスク の プログラム 。\n",
      "の センサス に よれ ば 、 15歳 以上 の 国民 の 識字率 は 80% で ある もの です 。\n"
     ]
    },
    {
     "name": "stderr",
     "output_type": "stream",
     "text": [
      "100%|██████████| 21/21 [00:00<00:00, 74.32it/s]\n",
      " 38%|███▊      | 8/21 [00:00<00:00, 79.15it/s]"
     ]
    },
    {
     "name": "stdout",
     "output_type": "stream",
     "text": [
      "198 0.03128533757158688\n",
      "の 一部 は 、 ハー バード 大学 と バージニア 大学 でし た 。\n",
      "の 名 は 、 連邦 政府 が 執務 不能 の 際 に これ を 減らす こと です 。\n"
     ]
    },
    {
     "name": "stderr",
     "output_type": "stream",
     "text": [
      "100%|██████████| 21/21 [00:00<00:00, 80.15it/s]"
     ]
    },
    {
     "name": "stdout",
     "output_type": "stream",
     "text": [
      "199 0.028690320483985402\n",
      "の うち の 違い は 、 システム 上 の アクティブ な チャネル の 1 つ です 。\n",
      "の 名 は 、 その 功績 を 称え て 、 小惑星 や 月 の クレーター に 付け られ て い た 。\n"
     ]
    },
    {
     "name": "stderr",
     "output_type": "stream",
     "text": [
      "\n"
     ]
    }
   ],
   "source": [
    "from statistics import mean\n",
    "\n",
    "def to2D(x):\n",
    "    shapes = x.shape\n",
    "    return x.reshape(shapes[0] * shapes[1], -1)\n",
    "\n",
    "for epoch in range(200):\n",
    "    enc.train(), dec.train()\n",
    "    losses = []\n",
    "    \n",
    "    for x, lx, y, ly in tqdm.tqdm(loder):\n",
    "        \n",
    "        #xのPackedSequenceを作るために翻訳元の長さで降順にソート\n",
    "        lx, sort_idx = lx.sort(descending = True)\n",
    "        x, y, ly = x[sort_idx], y[sort_idx], ly[sort_idx]\n",
    "        x = x.to(\"cuda:0\")\n",
    "        y = y.to(\"cuda:0\")\n",
    "        #翻訳元をEncoderに入れてコンテキストを得る\n",
    "        ctx = enc(x, l=lx)\n",
    "    \n",
    "        #yのpackedSequenceを作るために翻訳先の長さで降順にソート\n",
    "        ly, sort_idx = ly.sort(descending=True)\n",
    "        y = y[sort_idx]\n",
    "        #Decoderの初期値をセット\n",
    "        h0 = (ctx[0][:,sort_idx,:],ctx[1][:,sort_idx,:])\n",
    "        z = y[:,:-1].detach()\n",
    "        #-100のままだとEmbeddingの計算でエラーが出るので値を0にしておく\n",
    "        z[z==-100] = 0\n",
    "        #Decoderに通して損失関数を計算\n",
    "        o, _ = dec(z, h0,l=ly-1)\n",
    "        loss = loss_f(to2D(o[:]), to2D(y[:,1:max(ly)]).squeeze())\n",
    "        #誤差逆伝播\n",
    "        enc.zero_grad()\n",
    "        dec.zero_grad()\n",
    "        loss.backward()\n",
    "        opt_enc.step()\n",
    "        opt_dec.step()\n",
    "        losses.append(loss.item())\n",
    "       \n",
    "    enc.eval()\n",
    "    dec.eval()\n",
    "    print(epoch, mean(losses))\n",
    "    with torch.no_grad():\n",
    "        print(translate(\"2 つ の システム 間 の 唯一 の 違い は 、 支払い の タイミング でし た 。\", enc, dec, max_len=max_len, device=\"cuda:0\"))\n",
    "        print(translate(\"3 百 万 人 を 超える アメリカ 人 は 、 生涯 にわたって パニック 障害 を 経験 する 。\", enc, dec, max_len=max_len, device=\"cuda:0\"))\n",
    "\n",
    "torch.save(enc.state_dict(), './enc.pth')\n",
    "torch.save(dec.state_dict(), './dec.pth')"
   ]
  },
  {
   "cell_type": "code",
   "execution_count": 14,
   "metadata": {},
   "outputs": [
    {
     "data": {
      "text/plain": [
       "'統計 映画 映画 映画 多数 協定 映画 映画 映画 映画 映画 プラハ 映画 映画 映画'"
      ]
     },
     "execution_count": 14,
     "metadata": {},
     "output_type": "execute_result"
    }
   ],
   "source": [
    "enc = Encoder(len(ds.src_word_list), 100, 100, 2)\n",
    "dec = Decoder(len(ds.trg_word_list), 100, 100, 2)\n",
    "translate(\"1977 年 に 彼 は ロイヤル・リヴァプール・フィルハーモニー 管弦楽 団 の アシスタント コンダクター と なり まし た 。\", enc, dec)"
   ]
  },
  {
   "cell_type": "code",
   "execution_count": 12,
   "metadata": {},
   "outputs": [],
   "source": [
    "import pandas as pd\n",
    "tsv = pd.read_csv('tmup.tsv', delimiter='\\t')\n",
    "with open(\"tmp.txt\", \"w\") as f:\n",
    "    for i in tsv[[\"sentence_A_ja\", \"sentence_B_ja\"]].values:\n",
    "        f.write(i[0] + \"\\t\" + i[1] + \"\\n\")\n",
    "#         f.write(i[0].replace(\" \", \"\") + \"\\t\" + i[1].replace(\" \", \"\") + \"\\n\")"
   ]
  },
  {
   "cell_type": "code",
   "execution_count": null,
   "metadata": {},
   "outputs": [],
   "source": []
  }
 ],
 "metadata": {
  "kernelspec": {
   "display_name": "Python 3",
   "language": "python",
   "name": "python3"
  },
  "language_info": {
   "codemirror_mode": {
    "name": "ipython",
    "version": 3
   },
   "file_extension": ".py",
   "mimetype": "text/x-python",
   "name": "python",
   "nbconvert_exporter": "python",
   "pygments_lexer": "ipython3",
   "version": "3.7.6"
  }
 },
 "nbformat": 4,
 "nbformat_minor": 4
}
