{
 "cells": [
  {
   "cell_type": "code",
   "execution_count": 1,
   "metadata": {},
   "outputs": [
    {
     "data": {
      "text/plain": [
       "'\\n'"
      ]
     },
     "execution_count": 1,
     "metadata": {},
     "output_type": "execute_result"
    }
   ],
   "source": [
    "import torch \n",
    "from torch import nn,optim\n",
    "from torch.utils.data import(Dataset, DataLoader, TensorDataset)\n",
    "import tqdm\n",
    "import re \n",
    "import collections\n",
    "import itertools\n",
    "import MeCab\n",
    "import neologdn\n",
    "import emoji\n",
    "#Mecab　path 確認コマンド\n",
    "#echo `mecab-config --dicdir`\"/mecab-ipadic-neologd\"\n",
    "mecab = MeCab.Tagger('-Owakati -d /usr/lib/x86_64-linux-gnu/mecab/dic/mecab-ipadic-neologd')\n",
    "mecab.parse('')  # バグ対処"
   ]
  },
  {
   "cell_type": "markdown",
   "metadata": {},
   "source": [
    "# 補助関数の作成"
   ]
  },
  {
   "cell_type": "code",
   "execution_count": 8,
   "metadata": {},
   "outputs": [],
   "source": [
    "remove_marks_regex = re.compile(\"[\\,\\(\\)\\[\\]\\*:;]|<.*?>\")\n",
    "shift_marks_regex = re.compile(\"([?!\\.])\")\n",
    "\n",
    "\n",
    "\n",
    "unk = 0\n",
    "sos = 1\n",
    "eos = 2\n",
    "\n",
    "def normalize(text):\n",
    "    text = text.lower()\n",
    "#     #不要な文字を削除\n",
    "#     text = remove_marks_regex.sub(\"\", text)\n",
    "    #?!.と単語の間に空白を挿入\n",
    "    text = shift_marks_regex.sub(r\"\\1\", text)\n",
    "    #重ね表現の削除\n",
    "    text = neologdn.normalize(text)\n",
    "    #url削除\n",
    "    text = re.sub(r'https?://[\\w/:%#\\$&\\?\\(\\)~\\.=\\+\\-]+', '', text)\n",
    "    #絵文字削除\n",
    "    text = ''.join(['' if c in emoji.UNICODE_EMOJI else c for c in text])\n",
    "    #桁区切りの削除\n",
    "    text = re.sub(r'(\\d)([,.])(\\d+)', r'\\1\\3', text)\n",
    "    text = re.sub(r'\\d+', '0', text)\n",
    "    # 半角記号の置換\n",
    "    text = re.sub(r'[!-/:-@[-`{-~]', r' ', text)\n",
    "    # 全角記号の置換 (ここでは0x25A0 - 0x266Fのブロックのみを除去)\n",
    "    text = re.sub(u'[■-♯]', ' ', text)\n",
    "    text = text.replace(\"【\", \"「\").replace(\"】\", \"」\").replace(\"『\",\"「\").replace(\"』\",\"」\")\n",
    "    return text\n",
    "\n",
    "def parse_line(line):\n",
    "    line = normalize(line.strip())\n",
    "    #翻訳元と翻訳先それぞれのトークンリストを作成する\n",
    "    src,trg = line.split(\"\\t\")[:2]\n",
    "    src = mecab.parse(src)\n",
    "    trg = mecab.parse(trg)\n",
    "    src_tokens = src.strip().split()\n",
    "    trg_tokens = trg.strip().split()\n",
    "    return src_tokens, trg_tokens\n",
    "\n",
    "def build_vocab(tokens):\n",
    "    #ファイル中のすべての文章でのトークン数を数える\n",
    "    counts = collections.Counter(tokens)\n",
    "    #トークンの出現数の多い順に並べる\n",
    "    sorted_counts = sorted(counts.items(), key=lambda c: c[1], reverse=True)\n",
    "    #3つのタグを追加して正引きリストと逆引き用辞書を作る\n",
    "    word_list = [\"<UNK>\", \"<SOS>\", \"<EOS>\"] \\\n",
    "    + [x[0] for x in sorted_counts]\n",
    "    word_dict = dict((w, i) for i, w in enumerate(word_list))\n",
    "    return word_list, word_dict\n",
    "\n",
    "def words2tensor(words, word_dict, max_len, padding=0):\n",
    "    #末尾に終了タグをつける\n",
    "    words = words + [\"<EOS>\"]\n",
    "    #辞書を利用して数値のリストに変換する\n",
    "    words = [word_dict.get(w,0) for w in words]\n",
    "    seq_len = len(words)\n",
    "    #長さがmax_len以下の場合はパディングする\n",
    "    if seq_len < max_len + 1:\n",
    "        words = words + [padding] * (max_len + 1 - seq_len)\n",
    "    #Tensorに変換して返す\n",
    "    return torch.tensor(words, dtype=torch.int64), seq_len"
   ]
  },
  {
   "cell_type": "markdown",
   "metadata": {},
   "source": [
    "# TranslationPairDatasetクラスの作成"
   ]
  },
  {
   "cell_type": "code",
   "execution_count": 9,
   "metadata": {},
   "outputs": [],
   "source": [
    "class TranslationPairDataset(Dataset):\n",
    "    def __init__(self, path, max_len=15):\n",
    "        #単語数が多い文書をフィルタリングする関数\n",
    "        def filter_pair(p):\n",
    "            return not(len(p[0]) > max_len or len(p[1]) > max_len)\n",
    "        #ファイルを開き、パース/フィルタリングする\n",
    "        with open(path)as fp:\n",
    "            pairs = map(parse_line, fp)\n",
    "#             pairs = filter(filter_pair, pairs)\n",
    "            pairs = list(pairs)\n",
    "        #文書のペアをソースとターゲットに分ける\n",
    "        src = [p[0][0:250] for p in pairs]\n",
    "        trg = [p[1][0:50] for p in pairs]\n",
    "        #それぞれの語彙集を作成する\n",
    "        self.src_word_list, self.src_word_dict = build_vocab(itertools.chain.from_iterable(src))\n",
    "        self.trg_word_list, self.trg_word_dict = build_vocab(itertools.chain.from_iterable(trg))\n",
    "        #語彙集を使用してTensorに変換する\n",
    "        self.src_data = [words2tensor(words[:249], self.src_word_dict, max_len) for words in src]\n",
    "        self.trg_data = [words2tensor(words[:50], self.trg_word_dict, 50, -100) for words in trg]\n",
    "        \n",
    "    def __len__(self):\n",
    "        return len(self.src_data)\n",
    "    \n",
    "    def __getitem__(self, idx):\n",
    "        src, Isrc = self.src_data[idx]\n",
    "        trg, Itrg = self.trg_data[idx]\n",
    "        return src, Isrc, trg, Itrg"
   ]
  },
  {
   "cell_type": "markdown",
   "metadata": {},
   "source": [
    "# Encoderの作成"
   ]
  },
  {
   "cell_type": "code",
   "execution_count": 10,
   "metadata": {},
   "outputs": [],
   "source": [
    "class Encoder(nn.Module):\n",
    "    def __init__(self, num_embeddings, embedding_dim=128, hidden_size=256, num_layers=4, dropout=0.2):\n",
    "        super().__init__()\n",
    "        self.emb = nn.Embedding(num_embeddings, embedding_dim, padding_idx=0)\n",
    "        self.lstm = nn.LSTM(embedding_dim, hidden_size, num_layers, batch_first=True, dropout=dropout)\n",
    "        self.lstm2 = nn.LSTM(hidden_size, hidden_size, num_layers, batch_first=True, dropout=dropout)\n",
    "        self.lstm3 = nn.LSTM(hidden_size, hidden_size, num_layers, batch_first=True, dropout=dropout)\n",
    "        self.ln = nn.LayerNorm(hidden_size)\n",
    "        self.ln2 = nn.LayerNorm(hidden_size)\n",
    "        \n",
    "    def forward(self, x, h0=None,l=None):\n",
    "        x = self.emb(x)\n",
    "        if l is not None:\n",
    "            x = nn.utils.rnn.pack_padded_sequence(x, l, batch_first=True)\n",
    "        x, h = self.lstm(x, h0)\n",
    "        x, h = self.lstm2(x, h)\n",
    "        x, h = self.lstm3(x, h)\n",
    "        return h"
   ]
  },
  {
   "cell_type": "markdown",
   "metadata": {},
   "source": [
    "# Decoderの作成"
   ]
  },
  {
   "cell_type": "code",
   "execution_count": 11,
   "metadata": {},
   "outputs": [],
   "source": [
    "class Decoder(nn.Module):\n",
    "    def __init__(self, num_embeddings, embedding_dim=128, hidden_size=256, num_layers=4, dropout=0.2):\n",
    "        super().__init__()\n",
    "        self.emb = nn.Embedding(num_embeddings, embedding_dim, padding_idx=0)\n",
    "        self.lstm = nn.LSTM(embedding_dim, hidden_size, num_layers, batch_first=True, dropout=dropout)\n",
    "        self.linear = nn.Linear(hidden_size, num_embeddings)\n",
    "        self.ln = nn.LayerNorm(hidden_size)\n",
    "        \n",
    "    def forward(self, x, h, l=None):\n",
    "        x = self.emb(x)\n",
    "        if l is not None:\n",
    "            x = nn.utils.rnn.pack_padded_sequence(x, l, batch_first=True)\n",
    "        x, h = self.lstm(x, h)\n",
    "        if l is not None:\n",
    "            x =nn.utils.rnn.pad_packed_sequence(x, batch_first=True, padding_value=0)[0]\n",
    "        x = self.ln(x)\n",
    "        x = self.linear(x)\n",
    "        return x, h"
   ]
  },
  {
   "cell_type": "markdown",
   "metadata": {},
   "source": [
    "# Translate"
   ]
  },
  {
   "cell_type": "code",
   "execution_count": 12,
   "metadata": {},
   "outputs": [],
   "source": [
    "def translate(input_str, enc, dec, max_len=15, device=\"cpu\"):\n",
    "    words = normalize(input_str).split()\n",
    "    input_tensor, seq_len = words2tensor(words, ds.src_word_dict, max_len=max_len)\n",
    "    input_tensor = input_tensor.unsqueeze(0)\n",
    "    #Encoderで使用するので入力の長さもリストにしておく\n",
    "    seq_len = [seq_len]\n",
    "    #開始トークン準備\n",
    "    sos_inputs = torch.tensor(sos, dtype=torch.int64)\n",
    "    input_tensor = input_tensor.to(device)\n",
    "    sos_inputs = sos_inputs.to(device)\n",
    "    #入力文字配列をEncoderに入れてコンテキストを得る\n",
    "    ctx = enc(input_tensor, l=seq_len)\n",
    "    #開始トークンとコンテキストをDecoderの初期値にセット\n",
    "    z = sos_inputs\n",
    "    h = ctx\n",
    "    results = []\n",
    "    for i in range(max_len):\n",
    "        #Decoderで次の単語を予測\n",
    "        o,h = dec(z.view(1,1), h)\n",
    "        #線形層の出力が最も大きい場所が次の単語のID\n",
    "        wi = o.detach().view(-1).max(0)[1]\n",
    "        if wi.item() == eos:\n",
    "            break\n",
    "        results.append(wi.item())\n",
    "        #次の入力は今回の出力のIDを使用する\n",
    "        z = wi\n",
    "    #記録しておいた出力のIDを文字列に変換\n",
    "    return \" \".join(ds.trg_word_list[i] for i in results)"
   ]
  },
  {
   "cell_type": "code",
   "execution_count": 13,
   "metadata": {},
   "outputs": [],
   "source": [
    "batch_size = 32\n",
    "max_len = 500\n",
    "path = \"train_data/Text.tsv\"\n",
    "ds = TranslationPairDataset(path, max_len=max_len)\n",
    "loder = DataLoader(ds, batch_size=batch_size, shuffle=True, num_workers=0)\n"
   ]
  },
  {
   "cell_type": "markdown",
   "metadata": {},
   "source": [
    "## 単語数確認"
   ]
  },
  {
   "cell_type": "code",
   "execution_count": 14,
   "metadata": {},
   "outputs": [
    {
     "name": "stdout",
     "output_type": "stream",
     "text": [
      "17142\n",
      "3292\n"
     ]
    }
   ],
   "source": [
    "print(len(ds.src_word_list))\n",
    "print(len(ds.trg_word_list))"
   ]
  },
  {
   "cell_type": "code",
   "execution_count": 15,
   "metadata": {},
   "outputs": [],
   "source": [
    "# サンプルテキスト\n",
    "text1 = \"もうすぐジューン・ブライドと呼ばれる６月。独女の中には自分の式はまだなのに呼ばれてばかり……という「お祝い貧乏」状態の人も多いのではないだろうか？　さらに出席回数を重ねていくと、こんなお願いごとをされることも少なくない。\\\n",
    "「お願いがあるんだけど……友人代表のスピーチ、やってくれないかな？」さてそんなとき、独女はどう対応したらいいか？ \\\n",
    "最近だとインターネット等で検索すれば友人代表スピーチ用の例文サイトがたくさん出てくるので、それらを参考にすれば、無難なものは誰でも作成できる。しかし由利さん（33歳）はネットを参考にして作成したものの「これで本当にいいのか不安でした。一人暮らしなので聞かせて感想をいってくれる人もいないし、かといって他の友人にわざわざ聞かせるのもどうかと思うし……」ということで活用したのが、なんとインターネットの悩み相談サイトに。\\\n",
    "そこに作成したスピーチ文を掲載し「これで大丈夫か添削してください」とメッセージを送ったというのである。「一晩で3人位の人が添削してくれましたよ。ちなみに自分以外にもそういう人はたくさんいて、\\\n",
    "その相談サイトには同じように添削をお願いする投稿がいっぱいありました」（由利さん）。ためしに教えてもらったそのサイトをみてみると、確かに「結婚式のスピーチの添削お願いします」という投稿が1000件を超えるくらいあった。めでたい結婚式の影でこんなネットコミュニティがあったとは知らなかった。しかし「事前にお願いされるスピーチなら準備ができるしまだいいですよ。\\\n",
    "一番嫌なのは何といってもサプライズスピーチ！」と語るのは昨年だけで10万以上お祝いにかかったというお祝い貧乏独女の薫さん（35歳）\\\n",
    "「私は基本的に人前で話すのが苦手なんですよ。だからいきなり指名されるとしどろもどろになって何もいえなくなる。そうすると自己嫌悪に陥って終わった後でもまったく楽しめなくなりますね」\"\n",
    "text2 = \"　今回配信されるのは、ドラマ『モテキ』でCMに切り替わる際、主人公・森山未來が神輿に担がれるシーンにて使用されていた、「好きよ！抱いて！」のフレーズでお馴染みの映画バージョンの着信ボイス。\\\n",
    "その他にもレコチョクでは、映画『モテキ』のオープニングテーマ曲のフジファブリック「夜明けのBEAT」や、メインテーマ曲の女王蜂「デスコ」など関連曲の着うた(R)、着うたフル(R)などを配信中。後日、\\\n",
    "出演者の長澤まさみ動画コメント配信や、ポラロイド写真のプレゼントも実施予定となっている。\\\n",
    "モテキ関連楽曲 映画「モテキ」オープニングテーマ：フジファブリック「夜明けのBEAT」映画「モテキ」メインテーマ：女王蜂「デスコ」 \\\n",
    "Half-Life「J-POP」大江千里「格好悪いふられ方」TM NETWORK 「SELF CONTROL」N'夙川BOYS「物語はちと?不安定」Fishmans 「いかれたBaby」Perfume「Baby cruising Love」 \\\n",
    "ももいろクローバー「走れ!」三木道三 「Lifetime　Respect」ACO 「悦びに咲く花」橘いずみ「失格」加藤 ミリヤ×清水 翔太「Love Forever」JUDY AND MARY 「LOVER SOUL」くるり「東京」・モテキ - 公開情報・ドコモマーケット MUSICストア\""
   ]
  },
  {
   "cell_type": "markdown",
   "metadata": {},
   "source": [
    "## 動作確認"
   ]
  },
  {
   "cell_type": "code",
   "execution_count": 16,
   "metadata": {},
   "outputs": [
    {
     "data": {
      "text/plain": [
       "'指揮者 指揮者 指揮者 鉄 スコセッシ スコセッシ スコセッシ 鉄 鉄 スコセッシ 鉄 鉄 鉄 鉄 鉄'"
      ]
     },
     "execution_count": 16,
     "metadata": {},
     "output_type": "execute_result"
    }
   ],
   "source": [
    "enc = Encoder(len(ds.src_word_list))\n",
    "dec = Decoder(len(ds.trg_word_list))\n",
    "translate(\"なぜ 来る の\", enc, dec)"
   ]
  },
  {
   "cell_type": "markdown",
   "metadata": {},
   "source": [
    "## モデルの学習"
   ]
  },
  {
   "cell_type": "code",
   "execution_count": 17,
   "metadata": {},
   "outputs": [],
   "source": [
    "enc = Encoder(len(ds.src_word_list))\n",
    "dec = Decoder(len(ds.trg_word_list))\n",
    "enc.to(\"cuda:0\")\n",
    "dec.to(\"cuda:0\")\n",
    "opt_enc = optim.Adam(enc.parameters(), 0.0003)\n",
    "opt_dec = optim.Adam(dec.parameters(), 0.0003)\n",
    "loss_f =  nn.CrossEntropyLoss()"
   ]
  },
  {
   "cell_type": "markdown",
   "metadata": {},
   "source": [
    "# BLEU"
   ]
  },
  {
   "cell_type": "code",
   "execution_count": 18,
   "metadata": {},
   "outputs": [
    {
     "name": "stdout",
     "output_type": "stream",
     "text": [
      "['The brown fox jumps over the dog 笑'] ['The quick brown fox jumps over the lazy dog 笑']\n"
     ]
    },
    {
     "data": {
      "text/plain": [
       "47.88"
      ]
     },
     "execution_count": 18,
     "metadata": {},
     "output_type": "execute_result"
    }
   ],
   "source": [
    "import torchnlp.metrics.bleu as bleu\n",
    "hypotheses = [\"The brown fox jumps over the dog 笑\"]\n",
    "references = [\"The quick brown fox jumps over the lazy dog 笑\"]\n",
    "print(hypotheses, references)\n",
    "bleu.get_moses_multi_bleu(hypotheses, references, lowercase=True)"
   ]
  },
  {
   "cell_type": "code",
   "execution_count": 32,
   "metadata": {},
   "outputs": [],
   "source": [
    "from collections import defaultdict\n",
    "import torchnlp.metrics.bleu as bleu\n",
    "\n",
    "def evalute_bleu(X, y):\n",
    "    X = mecab.parse(X)\n",
    "    y = mecab.parse(y)\n",
    "    score = bleu.get_moses_multi_bleu(X, y, lowercase=True)\n",
    "    if score == None:\n",
    "        score = 0.0\n",
    "    return float(score)"
   ]
  },
  {
   "cell_type": "code",
   "execution_count": 33,
   "metadata": {},
   "outputs": [
    {
     "name": "stdout",
     "output_type": "stream",
     "text": [
      "映画『名探偵コナン 11人目のストライカー』主題歌に、いきものがかりの新曲「ハルウタ」が決定\n",
      "【週末映画まとめ読み】“美しすぎる知の女神”優木まおみが「触らせて」\n",
      "インタビュー：鼠先輩「こう見えて脱獄経験なし」\n"
     ]
    }
   ],
   "source": [
    "import pandas as pd\n",
    "test = pd.read_csv(\"train_data/Text.tsv\",  delimiter='\\t', header=None)\n",
    "for i in test.sample(n=3).values:\n",
    "    print(i[1])"
   ]
  },
  {
   "cell_type": "markdown",
   "metadata": {},
   "source": [
    "## モデルの学習部分作成"
   ]
  },
  {
   "cell_type": "code",
   "execution_count": null,
   "metadata": {},
   "outputs": [
    {
     "name": "stderr",
     "output_type": "stream",
     "text": [
      "100%|██████████| 28/28 [00:08<00:00,  3.59it/s]\n"
     ]
    },
    {
     "name": "stdout",
     "output_type": "stream",
     "text": [
      "0 0.43208019328968866\n"
     ]
    },
    {
     "name": "stderr",
     "output_type": "stream",
     "text": [
      "  0%|          | 0/28 [00:00<?, ?it/s]"
     ]
    },
    {
     "name": "stdout",
     "output_type": "stream",
     "text": [
      "BLEU SCORE:0.0\n",
      "中川翔子がジャッキー作品の吹き替えキャストに選ばれる\n",
      "が 自分 の コラボ に コラボ 「 ビックリマン 」 の 凄 が 実現\n"
     ]
    },
    {
     "name": "stderr",
     "output_type": "stream",
     "text": [
      "100%|██████████| 28/28 [00:08<00:00,  3.58it/s]\n"
     ]
    },
    {
     "name": "stdout",
     "output_type": "stream",
     "text": [
      "1 0.4111070750015123\n"
     ]
    },
    {
     "name": "stderr",
     "output_type": "stream",
     "text": [
      "  0%|          | 0/28 [00:00<?, ?it/s]"
     ]
    },
    {
     "name": "stdout",
     "output_type": "stream",
     "text": [
      "BLEU SCORE:0.0\n",
      "水道橋博士「五輪を観ずに、自分の“キャッスル”に入って観続けるのもアリ」\n",
      "を 創っ た の 映像 映像 が 公開 で 「 リアル・スティール 」 へ プレミア 試写 会 に ご 招待\n"
     ]
    },
    {
     "name": "stderr",
     "output_type": "stream",
     "text": [
      "100%|██████████| 28/28 [00:08<00:00,  3.60it/s]\n"
     ]
    },
    {
     "name": "stdout",
     "output_type": "stream",
     "text": [
      "2 0.38545448013714384\n"
     ]
    },
    {
     "name": "stderr",
     "output_type": "stream",
     "text": [
      "  0%|          | 0/28 [00:00<?, ?it/s]"
     ]
    },
    {
     "name": "stdout",
     "output_type": "stream",
     "text": [
      "BLEU SCORE:0.0\n",
      "【いちおう妖ヶ劇場】第15話：バカ映画ばっかつくって何が悪いの巻\n",
      "が 自分 の コラボ と 役 が 演じる さ と “ は\n"
     ]
    },
    {
     "name": "stderr",
     "output_type": "stream",
     "text": [
      "100%|██████████| 28/28 [00:08<00:00,  3.60it/s]\n"
     ]
    },
    {
     "name": "stdout",
     "output_type": "stream",
     "text": [
      "3 0.3857644296118191\n"
     ]
    },
    {
     "name": "stderr",
     "output_type": "stream",
     "text": [
      "  0%|          | 0/28 [00:00<?, ?it/s]"
     ]
    },
    {
     "name": "stdout",
     "output_type": "stream",
     "text": [
      "BLEU SCORE:0.0\n",
      "第24回東京国際映画祭作品ガイド＜日本映画・ある視点部門＞\n",
      "が 絶賛 の 封印 と 「 ダーク・シャドウ 」 を 爆音\n"
     ]
    },
    {
     "name": "stderr",
     "output_type": "stream",
     "text": [
      "100%|██████████| 28/28 [00:08<00:00,  3.58it/s]\n"
     ]
    },
    {
     "name": "stdout",
     "output_type": "stream",
     "text": [
      "4 0.36744968805994305\n"
     ]
    },
    {
     "name": "stderr",
     "output_type": "stream",
     "text": [
      "  0%|          | 0/28 [00:00<?, ?it/s]"
     ]
    },
    {
     "name": "stdout",
     "output_type": "stream",
     "text": [
      "BLEU SCORE:0.0\n",
      "『ニューイヤーズ・イブ』出演のボン・ジョヴィ、サラ・ジェシカ・パーカーらの特別映像が解禁\n",
      "が 0本 腕 の 怪物 族 に エスコート 、 「 ジョン・カーター 」 予告映像 開催\n"
     ]
    },
    {
     "name": "stderr",
     "output_type": "stream",
     "text": [
      "100%|██████████| 28/28 [00:08<00:00,  3.57it/s]\n"
     ]
    },
    {
     "name": "stdout",
     "output_type": "stream",
     "text": [
      "5 0.3473002633878163\n"
     ]
    },
    {
     "name": "stderr",
     "output_type": "stream",
     "text": [
      "  0%|          | 0/28 [00:00<?, ?it/s]"
     ]
    },
    {
     "name": "stdout",
     "output_type": "stream",
     "text": [
      "BLEU SCORE:0.0\n",
      "“最凶”の教育映画『先生を流産させる会』の劇場公開が実現\n",
      "が 自分 と さん の 、 愛 愛 に “ ジョージ・マイケル が 超える\n"
     ]
    },
    {
     "name": "stderr",
     "output_type": "stream",
     "text": [
      "100%|██████████| 28/28 [00:08<00:00,  3.57it/s]\n"
     ]
    },
    {
     "name": "stdout",
     "output_type": "stream",
     "text": [
      "6 0.33041270290102276\n"
     ]
    },
    {
     "name": "stderr",
     "output_type": "stream",
     "text": [
      "  0%|          | 0/28 [00:00<?, ?it/s]"
     ]
    },
    {
     "name": "stdout",
     "output_type": "stream",
     "text": [
      "BLEU SCORE:0.0\n",
      "総制作費6億円！　韓国初の3D映画『第7鉱区』の予告映像が公開\n",
      "の ゲームブック 役 が 「 封印 」 を 救う\n"
     ]
    },
    {
     "name": "stderr",
     "output_type": "stream",
     "text": [
      "100%|██████████| 28/28 [00:08<00:00,  3.59it/s]\n"
     ]
    },
    {
     "name": "stdout",
     "output_type": "stream",
     "text": [
      "7 0.3121310711971351\n"
     ]
    },
    {
     "name": "stderr",
     "output_type": "stream",
     "text": [
      "  0%|          | 0/28 [00:00<?, ?it/s]"
     ]
    },
    {
     "name": "stdout",
     "output_type": "stream",
     "text": [
      "BLEU SCORE:0.0\n",
      "スタローンにブルースにシュワちゃん、最強無敵軍団のポスター解禁\n",
      "と ファイナルファンタジー の タッグ が タッグ 、 タッグ を 組む の 理由\n"
     ]
    },
    {
     "name": "stderr",
     "output_type": "stream",
     "text": [
      "100%|██████████| 28/28 [00:08<00:00,  3.58it/s]\n"
     ]
    },
    {
     "name": "stdout",
     "output_type": "stream",
     "text": [
      "8 0.30514548825366156\n"
     ]
    },
    {
     "name": "stderr",
     "output_type": "stream",
     "text": [
      "  0%|          | 0/28 [00:00<?, ?it/s]"
     ]
    },
    {
     "name": "stdout",
     "output_type": "stream",
     "text": [
      "BLEU SCORE:0.0\n",
      "【終了しました】デンゼル・ワシントンが世界から狙われる！映画『デンジャラス・ラン』試写会にご招待 \n",
      "で 純白 の スカート 、 ふわり の あの シーン が 新宿 も 解禁\n"
     ]
    },
    {
     "name": "stderr",
     "output_type": "stream",
     "text": [
      "100%|██████████| 28/28 [00:08<00:00,  3.58it/s]\n"
     ]
    },
    {
     "name": "stdout",
     "output_type": "stream",
     "text": [
      "9 0.2950800992548466\n"
     ]
    },
    {
     "name": "stderr",
     "output_type": "stream",
     "text": [
      "  0%|          | 0/28 [00:00<?, ?it/s]"
     ]
    },
    {
     "name": "stdout",
     "output_type": "stream",
     "text": [
      "BLEU SCORE:0.0\n",
      "「ミッション:インポッシブル」の新作でトム・クルーズが孤立無援に！ 待望のストーリーが明らかに\n",
      "、 被災地 ら の 子供たち を クリスマスプレゼント\n"
     ]
    },
    {
     "name": "stderr",
     "output_type": "stream",
     "text": [
      "100%|██████████| 28/28 [00:08<00:00,  3.59it/s]\n"
     ]
    },
    {
     "name": "stdout",
     "output_type": "stream",
     "text": [
      "10 0.279212301330907\n"
     ]
    },
    {
     "name": "stderr",
     "output_type": "stream",
     "text": [
      "  0%|          | 0/28 [00:00<?, ?it/s]"
     ]
    },
    {
     "name": "stdout",
     "output_type": "stream",
     "text": [
      "BLEU SCORE:0.0\n",
      "ティム・バートンとジョニデが8度目のタッグ、念願のバンパイア役を演じる\n",
      "が 壮絶 の 封印 、 ロックバンド 「 愛 」 で 特報映像 が 決定\n"
     ]
    },
    {
     "name": "stderr",
     "output_type": "stream",
     "text": [
      "100%|██████████| 28/28 [00:08<00:00,  3.55it/s]\n"
     ]
    },
    {
     "name": "stdout",
     "output_type": "stream",
     "text": [
      "11 0.26166979915329386\n"
     ]
    },
    {
     "name": "stderr",
     "output_type": "stream",
     "text": [
      "  0%|          | 0/28 [00:00<?, ?it/s]"
     ]
    },
    {
     "name": "stdout",
     "output_type": "stream",
     "text": [
      "BLEU SCORE:0.0\n",
      "【編集部的映画批評】ラジオから流れる懐かしの名曲と共に蘇る、青春時代の輝かしい記憶\n",
      "と 東日本大震災 の 子供たち や 「 愛 」 で 今年 米 版 が 発売\n"
     ]
    },
    {
     "name": "stderr",
     "output_type": "stream",
     "text": [
      "100%|██████████| 28/28 [00:08<00:00,  3.58it/s]\n"
     ]
    },
    {
     "name": "stdout",
     "output_type": "stream",
     "text": [
      "12 0.25298565360052244\n"
     ]
    },
    {
     "name": "stderr",
     "output_type": "stream",
     "text": [
      "  0%|          | 0/28 [00:00<?, ?it/s]"
     ]
    },
    {
     "name": "stdout",
     "output_type": "stream",
     "text": [
      "BLEU SCORE:0.0\n",
      "米軍や自衛隊がエイリアンと戦闘！『バトルシップ』の特報映像がWEBでいち早く解禁\n",
      "たち が 衝撃 、 大 大 披露 で 「 桐島、部活やめるってよ 」 する の 大 登場\n"
     ]
    },
    {
     "name": "stderr",
     "output_type": "stream",
     "text": [
      "100%|██████████| 28/28 [00:08<00:00,  3.58it/s]\n"
     ]
    },
    {
     "name": "stdout",
     "output_type": "stream",
     "text": [
      "13 0.24047377386263438\n"
     ]
    },
    {
     "name": "stderr",
     "output_type": "stream",
     "text": [
      "  0%|          | 0/28 [00:00<?, ?it/s]"
     ]
    },
    {
     "name": "stdout",
     "output_type": "stream",
     "text": [
      "BLEU SCORE:0.0\n",
      "ホラー映画が高校生割引をする理由、“放課後の肝試し”のすすめ\n",
      "が 0本 腕 の 怪物 族 に エスコート 、 「 ジョン・カーター 」 予告映像 開催 を 決定\n"
     ]
    },
    {
     "name": "stderr",
     "output_type": "stream",
     "text": [
      "100%|██████████| 28/28 [00:08<00:00,  3.46it/s]\n"
     ]
    },
    {
     "name": "stdout",
     "output_type": "stream",
     "text": [
      "14 0.22629892826080322\n"
     ]
    },
    {
     "name": "stderr",
     "output_type": "stream",
     "text": [
      "  0%|          | 0/28 [00:00<?, ?it/s]"
     ]
    },
    {
     "name": "stdout",
     "output_type": "stream",
     "text": [
      "BLEU SCORE:0.0\n",
      "マリリン・モンローを演じてアカデミー候補！　ミシェル・ウィリアムズ来日決定\n",
      "、 壮絶 が 入っ た アニメ に について 「 子ども 」\n"
     ]
    },
    {
     "name": "stderr",
     "output_type": "stream",
     "text": [
      "100%|██████████| 28/28 [00:08<00:00,  3.60it/s]\n"
     ]
    },
    {
     "name": "stdout",
     "output_type": "stream",
     "text": [
      "15 0.22898642984884127\n"
     ]
    },
    {
     "name": "stderr",
     "output_type": "stream",
     "text": [
      "  0%|          | 0/28 [00:00<?, ?it/s]"
     ]
    },
    {
     "name": "stdout",
     "output_type": "stream",
     "text": [
      "BLEU SCORE:0.0\n",
      "ゲームパッケージを持って劇場へ！　映画『ドラゴンエイジ』連動キャンペーンを実施\n",
      "を 克服 し た 男 の 物語 に 拍手 の 嵐 トロント映画祭 の 0 人 の 観客 を 笑っ 、 、 そして 0 人 の “ アフレコ が 早く\n"
     ]
    },
    {
     "name": "stderr",
     "output_type": "stream",
     "text": [
      "100%|██████████| 28/28 [00:08<00:00,  3.58it/s]\n"
     ]
    },
    {
     "name": "stdout",
     "output_type": "stream",
     "text": [
      "16 0.21698558277317456\n"
     ]
    },
    {
     "name": "stderr",
     "output_type": "stream",
     "text": [
      "  0%|          | 0/28 [00:00<?, ?it/s]"
     ]
    },
    {
     "name": "stdout",
     "output_type": "stream",
     "text": [
      "BLEU SCORE:0.0\n",
      "【週末映画まとめ読み】2012年公開映画を先取り、人生を豊かにする名作の数々\n",
      "の ぼう 役 が 仕掛ける とんでも と 奇襲 と は 、 「 最強のふたり 」 シリーズ の 公開\n"
     ]
    },
    {
     "name": "stderr",
     "output_type": "stream",
     "text": [
      "100%|██████████| 28/28 [00:08<00:00,  3.58it/s]\n"
     ]
    },
    {
     "name": "stdout",
     "output_type": "stream",
     "text": [
      "17 0.2106517462858132\n"
     ]
    },
    {
     "name": "stderr",
     "output_type": "stream",
     "text": [
      "  0%|          | 0/28 [00:00<?, ?it/s]"
     ]
    },
    {
     "name": "stdout",
     "output_type": "stream",
     "text": [
      "BLEU SCORE:0.0\n",
      "“お嬢様”武井咲が制服姿で歌って踊る、小林武史が『愛と誠』音楽プロデュース\n",
      "が 仕掛ける 子役 の 披露 で 「 スター・ウォーズ 」 完成\n"
     ]
    },
    {
     "name": "stderr",
     "output_type": "stream",
     "text": [
      "100%|██████████| 28/28 [00:08<00:00,  3.59it/s]\n"
     ]
    },
    {
     "name": "stdout",
     "output_type": "stream",
     "text": [
      "18 0.1971129205610071\n"
     ]
    },
    {
     "name": "stderr",
     "output_type": "stream",
     "text": [
      "  0%|          | 0/28 [00:00<?, ?it/s]"
     ]
    },
    {
     "name": "stdout",
     "output_type": "stream",
     "text": [
      "BLEU SCORE:0.0\n",
      "深田恭子「女性の私が見ても、ときめいた」\n",
      "ら の 自分 が 俳優 と 「 ダーク・シャドウ 」 の 打つ に 豪華キャスト で 注目\n"
     ]
    },
    {
     "name": "stderr",
     "output_type": "stream",
     "text": [
      "100%|██████████| 28/28 [00:08<00:00,  3.57it/s]\n"
     ]
    },
    {
     "name": "stdout",
     "output_type": "stream",
     "text": [
      "19 0.1906163782945701\n"
     ]
    },
    {
     "name": "stderr",
     "output_type": "stream",
     "text": [
      "  0%|          | 0/28 [00:00<?, ?it/s]"
     ]
    },
    {
     "name": "stdout",
     "output_type": "stream",
     "text": [
      "BLEU SCORE:0.0\n",
      "映画『タイタンの逆襲』とのコラボで「ビックリマン」の凄さを再確認\n",
      "が 0本 腕 の 怪物 族 に エスコート 、 「 ジョン・カーター 」 ポスタービジュアル 開催\n"
     ]
    },
    {
     "name": "stderr",
     "output_type": "stream",
     "text": [
      "100%|██████████| 28/28 [00:08<00:00,  3.59it/s]\n"
     ]
    },
    {
     "name": "stdout",
     "output_type": "stream",
     "text": [
      "20 0.18497669829853944\n"
     ]
    },
    {
     "name": "stderr",
     "output_type": "stream",
     "text": [
      "  0%|          | 0/28 [00:00<?, ?it/s]"
     ]
    },
    {
     "name": "stdout",
     "output_type": "stream",
     "text": [
      "BLEU SCORE:0.0\n",
      "ローラが1泊200万円の高級ホテルで高田純次を超えるテキトーな会見\n",
      "、 百恵 さん の 夫婦関係 を 告白 た 「 闇金ウシジマくん 」 が 解禁\n"
     ]
    },
    {
     "name": "stderr",
     "output_type": "stream",
     "text": [
      "100%|██████████| 28/28 [00:08<00:00,  3.52it/s]\n"
     ]
    },
    {
     "name": "stdout",
     "output_type": "stream",
     "text": [
      "21 0.1707573107310704\n"
     ]
    },
    {
     "name": "stderr",
     "output_type": "stream",
     "text": [
      "  0%|          | 0/28 [00:00<?, ?it/s]"
     ]
    },
    {
     "name": "stdout",
     "output_type": "stream",
     "text": [
      "BLEU SCORE:0.0\n",
      "【編集部的映画批評】映画『るろうに剣心』は原作ファンに斬られるのか？\n",
      "と チャン・ドンゴン の 夫婦関係 や や 神 と 神 と 当たる が 当たる なる\n"
     ]
    },
    {
     "name": "stderr",
     "output_type": "stream",
     "text": [
      "100%|██████████| 28/28 [00:08<00:00,  3.56it/s]\n"
     ]
    },
    {
     "name": "stdout",
     "output_type": "stream",
     "text": [
      "22 0.17277622861521585\n"
     ]
    },
    {
     "name": "stderr",
     "output_type": "stream",
     "text": [
      "  0%|          | 0/28 [00:00<?, ?it/s]"
     ]
    },
    {
     "name": "stdout",
     "output_type": "stream",
     "text": [
      "BLEU SCORE:0.0\n",
      "【終了しました】映画『ダークナイト ライジング』ジャパンプレミアに25組50名様をご招待\n",
      "、 自分 が 各界 の 俳優 に も リア充 「 ダークナイトライジング 」 キャンペーン を\n"
     ]
    },
    {
     "name": "stderr",
     "output_type": "stream",
     "text": [
      "100%|██████████| 28/28 [00:08<00:00,  3.58it/s]\n"
     ]
    },
    {
     "name": "stdout",
     "output_type": "stream",
     "text": [
      "23 0.16637929608779295\n"
     ]
    },
    {
     "name": "stderr",
     "output_type": "stream",
     "text": [
      "  0%|          | 0/28 [00:00<?, ?it/s]"
     ]
    },
    {
     "name": "stdout",
     "output_type": "stream",
     "text": [
      "BLEU SCORE:0.0\n",
      "【編集部的映画批評】水谷豊の“相棒”は座敷わらしだった\n",
      "、 東日本大震災 が 起き に 感じ て 感じ\n"
     ]
    },
    {
     "name": "stderr",
     "output_type": "stream",
     "text": [
      "100%|██████████| 28/28 [00:08<00:00,  3.58it/s]\n"
     ]
    },
    {
     "name": "stdout",
     "output_type": "stream",
     "text": [
      "24 0.15729562884994916\n"
     ]
    },
    {
     "name": "stderr",
     "output_type": "stream",
     "text": [
      "  0%|          | 0/28 [00:00<?, ?it/s]"
     ]
    },
    {
     "name": "stdout",
     "output_type": "stream",
     "text": [
      "BLEU SCORE:0.0\n",
      "監督が予想しなかったラブストーリーと“映画通ほどダマされる”結末\n",
      "や 神 と 各界 の よう が 「 ダークナイトライジング 」 で 予告映像\n"
     ]
    },
    {
     "name": "stderr",
     "output_type": "stream",
     "text": [
      "100%|██████████| 28/28 [00:08<00:00,  3.59it/s]\n"
     ]
    },
    {
     "name": "stdout",
     "output_type": "stream",
     "text": [
      "25 0.15583254609789168\n"
     ]
    },
    {
     "name": "stderr",
     "output_type": "stream",
     "text": [
      "  0%|          | 0/28 [00:00<?, ?it/s]"
     ]
    },
    {
     "name": "stdout",
     "output_type": "stream",
     "text": [
      "BLEU SCORE:0.0\n",
      "韓国で最高視聴率を記録したドラマが、韓国家庭料理とタイアップ\n",
      "パンダ 武井咲 が セクシー と と で 、 進出 を 見\n"
     ]
    },
    {
     "name": "stderr",
     "output_type": "stream",
     "text": [
      "100%|██████████| 28/28 [00:08<00:00,  3.58it/s]\n"
     ]
    },
    {
     "name": "stdout",
     "output_type": "stream",
     "text": [
      "26 0.1523836204516036\n"
     ]
    },
    {
     "name": "stderr",
     "output_type": "stream",
     "text": [
      "  0%|          | 0/28 [00:00<?, ?it/s]"
     ]
    },
    {
     "name": "stdout",
     "output_type": "stream",
     "text": [
      "BLEU SCORE:0.0\n",
      "インタビュー：ローガン・ラーマン、ガブリエラ・ワイルド「カメラが回っていなくても友達」\n",
      "と 東日本大震災 の 映画祭 や で 神 の 天才 シーン と 対決\n"
     ]
    },
    {
     "name": "stderr",
     "output_type": "stream",
     "text": [
      "100%|██████████| 28/28 [00:08<00:00,  3.59it/s]\n"
     ]
    },
    {
     "name": "stdout",
     "output_type": "stream",
     "text": [
      "27 0.14821804820426873\n"
     ]
    },
    {
     "name": "stderr",
     "output_type": "stream",
     "text": [
      "  0%|          | 0/28 [00:00<?, ?it/s]"
     ]
    },
    {
     "name": "stdout",
     "output_type": "stream",
     "text": [
      "BLEU SCORE:0.0\n",
      "【週末映画まとめ読み】男女問わず“萌え死”させる、綾瀬はるかの魅力\n",
      "が 自分 の コラボ に 役 「 ビックリマン 」 の 予告映像 が 公開\n"
     ]
    },
    {
     "name": "stderr",
     "output_type": "stream",
     "text": [
      "100%|██████████| 28/28 [00:08<00:00,  3.59it/s]\n"
     ]
    },
    {
     "name": "stdout",
     "output_type": "stream",
     "text": [
      "28 0.13875784618513926\n"
     ]
    },
    {
     "name": "stderr",
     "output_type": "stream",
     "text": [
      "  0%|          | 0/28 [00:00<?, ?it/s]"
     ]
    },
    {
     "name": "stdout",
     "output_type": "stream",
     "text": [
      "BLEU SCORE:0.0\n",
      "ローラが1泊200万円の高級ホテルで高田純次を超えるテキトーな会見\n",
      "、 マット・デイモン ら 各界 の 俳優 が 「 ダークナイトライジング 」 を 大絶賛\n"
     ]
    },
    {
     "name": "stderr",
     "output_type": "stream",
     "text": [
      "100%|██████████| 28/28 [00:08<00:00,  3.59it/s]\n"
     ]
    },
    {
     "name": "stdout",
     "output_type": "stream",
     "text": [
      "29 0.13015347799020155\n"
     ]
    },
    {
     "name": "stderr",
     "output_type": "stream",
     "text": [
      "  0%|          | 0/28 [00:00<?, ?it/s]"
     ]
    },
    {
     "name": "stdout",
     "output_type": "stream",
     "text": [
      "BLEU SCORE:0.0\n",
      "構想2年、機能性バツグンの“バットマン”メガネが登場\n",
      "、 オトナ ら の 福島 ちゃん 映像 を 集結 に 集結 「 東野圭吾 」 ポスター 画像 が 解禁\n"
     ]
    },
    {
     "name": "stderr",
     "output_type": "stream",
     "text": [
      "100%|██████████| 28/28 [00:08<00:00,  3.47it/s]\n"
     ]
    },
    {
     "name": "stdout",
     "output_type": "stream",
     "text": [
      "30 0.1226692974035229\n"
     ]
    },
    {
     "name": "stderr",
     "output_type": "stream",
     "text": [
      "  0%|          | 0/28 [00:00<?, ?it/s]"
     ]
    },
    {
     "name": "stdout",
     "output_type": "stream",
     "text": [
      "BLEU SCORE:0.0\n",
      "映画『るろうに剣心』、主人公のライバル役に江口洋介、吉川晃司、香川照之\n",
      "、 自分 が 各界 に 破談 さ も 「 ダークナイトライジング 」 予告映像 を 公開\n"
     ]
    },
    {
     "name": "stderr",
     "output_type": "stream",
     "text": [
      "100%|██████████| 28/28 [00:08<00:00,  3.57it/s]\n"
     ]
    },
    {
     "name": "stdout",
     "output_type": "stream",
     "text": [
      "31 0.12237552739679813\n"
     ]
    },
    {
     "name": "stderr",
     "output_type": "stream",
     "text": [
      "  0%|          | 0/28 [00:00<?, ?it/s]"
     ]
    },
    {
     "name": "stdout",
     "output_type": "stream",
     "text": [
      "BLEU SCORE:0.0\n",
      "「報道カメラマンは法を犯してもかまわない」“ニッポンの嘘”が暴かれる\n",
      "、 被災地 ら 各界 の 手紙 を 「 ダークナイトライジング 」\n"
     ]
    },
    {
     "name": "stderr",
     "output_type": "stream",
     "text": [
      "100%|██████████| 28/28 [00:08<00:00,  3.58it/s]\n"
     ]
    },
    {
     "name": "stdout",
     "output_type": "stream",
     "text": [
      "32 0.11923526733049325\n"
     ]
    },
    {
     "name": "stderr",
     "output_type": "stream",
     "text": [
      "  0%|          | 0/28 [00:00<?, ?it/s]"
     ]
    },
    {
     "name": "stdout",
     "output_type": "stream",
     "text": [
      "BLEU SCORE:0.0\n",
      "柴咲コウ、話題の新プロジェクトがデビュー前夜にシークレットライブ開催\n",
      "の ゲームブック と ジュード・ロウ が 共演 「 ベルセルク の イメージ は せ 」\n"
     ]
    },
    {
     "name": "stderr",
     "output_type": "stream",
     "text": [
      "100%|██████████| 28/28 [00:08<00:00,  3.58it/s]\n"
     ]
    },
    {
     "name": "stdout",
     "output_type": "stream",
     "text": [
      "33 0.11779573426714965\n"
     ]
    },
    {
     "name": "stderr",
     "output_type": "stream",
     "text": [
      "  0%|          | 0/28 [00:00<?, ?it/s]"
     ]
    },
    {
     "name": "stdout",
     "output_type": "stream",
     "text": [
      "BLEU SCORE:0.0\n",
      "小さくなったバズが走り回る！　『トイ・ストーリー3』続編の特別映像が公開\n",
      "ら さん の 夫婦関係 が 「 フライトナイト 」 と の 恋 を 抜き\n"
     ]
    },
    {
     "name": "stderr",
     "output_type": "stream",
     "text": [
      "100%|██████████| 28/28 [00:08<00:00,  3.59it/s]\n"
     ]
    },
    {
     "name": "stdout",
     "output_type": "stream",
     "text": [
      "34 0.11394275884543147\n"
     ]
    },
    {
     "name": "stderr",
     "output_type": "stream",
     "text": [
      "  0%|          | 0/28 [00:00<?, ?it/s]"
     ]
    },
    {
     "name": "stdout",
     "output_type": "stream",
     "text": [
      "BLEU SCORE:0.0\n",
      "なぜ忌野清志郎が、多くのファンやアーティストに愛されるのか\n",
      "が 0本 腕 の 怪物 族 に エスコート 、 「 ジョン・カーター 」 予告映像 開催 を 決定\n"
     ]
    },
    {
     "name": "stderr",
     "output_type": "stream",
     "text": [
      "100%|██████████| 28/28 [00:08<00:00,  3.58it/s]\n"
     ]
    },
    {
     "name": "stdout",
     "output_type": "stream",
     "text": [
      "35 0.12254813020782811\n"
     ]
    },
    {
     "name": "stderr",
     "output_type": "stream",
     "text": [
      "  0%|          | 0/28 [00:00<?, ?it/s]"
     ]
    },
    {
     "name": "stdout",
     "output_type": "stream",
     "text": [
      "BLEU SCORE:0.0\n",
      "“リーダーはズレてる方がいい”8年の歳月を費やした超大作『のぼうの城』本予告映像が解禁\n",
      "、 百恵 さん の 夫婦関係 を 告白 た 映画 「 ファイナル・デッドブリッジ 」 は 驚愕 に 0 つ の キャンペーン\n"
     ]
    },
    {
     "name": "stderr",
     "output_type": "stream",
     "text": [
      "100%|██████████| 28/28 [00:08<00:00,  3.58it/s]\n"
     ]
    },
    {
     "name": "stdout",
     "output_type": "stream",
     "text": [
      "36 0.11110084370843001\n"
     ]
    },
    {
     "name": "stderr",
     "output_type": "stream",
     "text": [
      "  0%|          | 0/28 [00:00<?, ?it/s]"
     ]
    },
    {
     "name": "stdout",
     "output_type": "stream",
     "text": [
      "BLEU SCORE:0.0\n",
      "インタビュー：竹内結子「登場する度に人生の変化というものが分かる」\n",
      "により 守り神 さん が ダークサイド の “ 浮気 に 変身\n"
     ]
    },
    {
     "name": "stderr",
     "output_type": "stream",
     "text": [
      "100%|██████████| 28/28 [00:08<00:00,  3.57it/s]\n"
     ]
    },
    {
     "name": "stdout",
     "output_type": "stream",
     "text": [
      "37 0.10611356661788054\n"
     ]
    },
    {
     "name": "stderr",
     "output_type": "stream",
     "text": [
      "  0%|          | 0/28 [00:00<?, ?it/s]"
     ]
    },
    {
     "name": "stdout",
     "output_type": "stream",
     "text": [
      "BLEU SCORE:0.0\n",
      "中田英寿、被災地の子供たちにクリスマスプレゼント\n",
      "が 仕掛ける 封印 と の 数 を ポスト 、 「 ジョン・カーター 」 の 特報 写真 が 公開\n"
     ]
    },
    {
     "name": "stderr",
     "output_type": "stream",
     "text": [
      "100%|██████████| 28/28 [00:08<00:00,  3.56it/s]\n"
     ]
    },
    {
     "name": "stdout",
     "output_type": "stream",
     "text": [
      "38 0.09983529523015022\n"
     ]
    },
    {
     "name": "stderr",
     "output_type": "stream",
     "text": [
      "  0%|          | 0/28 [00:00<?, ?it/s]"
     ]
    },
    {
     "name": "stdout",
     "output_type": "stream",
     "text": [
      "BLEU SCORE:0.0\n",
      "DAIGO、33歳でウルトラマンにオファーされたのは想定外\n",
      "と 自分 が 福島 に 大切 を つなぐ し 、 東京国際映画祭 0 日間 を 獲得\n"
     ]
    },
    {
     "name": "stderr",
     "output_type": "stream",
     "text": [
      "100%|██████████| 28/28 [00:08<00:00,  3.58it/s]\n"
     ]
    },
    {
     "name": "stdout",
     "output_type": "stream",
     "text": [
      "39 0.09540516404168946\n"
     ]
    },
    {
     "name": "stderr",
     "output_type": "stream",
     "text": [
      "  0%|          | 0/28 [00:00<?, ?it/s]"
     ]
    },
    {
     "name": "stdout",
     "output_type": "stream",
     "text": [
      "BLEU SCORE:0.0\n",
      "【2011下半期アワードvol.4】やっぱり、ジェニファー・アニストンはセクシーだった\n",
      "と チャン・ドンゴン の 夫婦関係 や や の 神 に “ 金塊 と 金塊 の 手 に 抜擢\n"
     ]
    },
    {
     "name": "stderr",
     "output_type": "stream",
     "text": [
      "100%|██████████| 28/28 [00:08<00:00,  3.57it/s]\n"
     ]
    },
    {
     "name": "stdout",
     "output_type": "stream",
     "text": [
      "40 0.09134757465549878\n"
     ]
    }
   ],
   "source": [
    "from statistics import mean\n",
    "\n",
    "def to2D(x):\n",
    "    shapes = x.shape\n",
    "    return x.reshape(shapes[0] * shapes[1], -1)\n",
    "\n",
    "for epoch in range(200):\n",
    "    enc.train(), dec.train()\n",
    "    losses = []\n",
    "    bleues = []\n",
    "    for x, lx, y, ly in tqdm.tqdm(loder):\n",
    "        \n",
    "        #xのPackedSequenceを作るために翻訳元の長さで降順にソート\n",
    "        lx, sort_idx = lx.sort(descending = True)\n",
    "        x, y, ly = x[sort_idx], y[sort_idx], ly[sort_idx]\n",
    "        x = x.to(\"cuda:0\")\n",
    "        y = y.to(\"cuda:0\")\n",
    "        #翻訳元をEncoderに入れてコンテキストを得る\n",
    "        ctx = enc(x, l=lx)\n",
    "    \n",
    "        #yのpackedSequenceを作るために翻訳先の長さで降順にソート\n",
    "        ly, sort_idx = ly.sort(descending=True)\n",
    "        y = y[sort_idx]\n",
    "        #Decoderの初期値をセット\n",
    "        h0 = (ctx[0][:,sort_idx,:],ctx[1][:,sort_idx,:])\n",
    "        z = y[:,:-1].detach()\n",
    "        #-100のままだとEmbeddingの計算でエラーが出るので値を0にしておく\n",
    "        z[z==-100] = 0\n",
    "        #Decoderに通して損失関数を計算\n",
    "        o, _ = dec(z, h0,l=ly-1)\n",
    "        loss = loss_f(to2D(o[:]), to2D(y[:,1:max(ly)]).squeeze())\n",
    "        #誤差逆伝播\n",
    "        enc.zero_grad()\n",
    "        dec.zero_grad()\n",
    "        loss.backward()\n",
    "        opt_enc.step()\n",
    "        opt_dec.step()\n",
    "        losses.append(loss.item())\n",
    "        \n",
    "    \n",
    "    \n",
    "    \n",
    "    enc.eval()\n",
    "    dec.eval()\n",
    "    print(epoch, mean(losses))\n",
    "    for i in test.sample(n=50).values:\n",
    "        bleues.append(evalute_bleu(i[1], translate(i[0], enc, dec, max_len=max_len, device=\"cuda:0\")))\n",
    "    print(\"BLEU SCORE:{}\".format(mean(bleues)))\n",
    "    with torch.no_grad():\n",
    "        for i in test.sample(n=1).values:\n",
    "            print(i[1])\n",
    "            print(translate(i[0], enc, dec, max_len, device=\"cuda:0\"))\n",
    "\n",
    "torch.save(enc.state_dict(), './enc.pth')\n",
    "torch.save(dec.state_dict(), './dec.pth')"
   ]
  },
  {
   "cell_type": "code",
   "execution_count": null,
   "metadata": {},
   "outputs": [],
   "source": []
  },
  {
   "cell_type": "code",
   "execution_count": null,
   "metadata": {},
   "outputs": [],
   "source": [
    "import pandas as pd\n",
    "tsv = pd.read_csv('tmup.tsv', delimiter='\\t')\n",
    "with open(\"tmp.txt\", \"w\") as f:\n",
    "    for i in tsv[[\"sentence_A_ja\", \"sentence_B_ja\"]].values:\n",
    "        f.write(i[0] + \"\\t\" + i[1] + \"\\n\")\n",
    "#         f.write(i[0].replace(\" \", \"\") + \"\\t\" + i[1].replace(\" \", \"\") + \"\\n\")"
   ]
  },
  {
   "cell_type": "code",
   "execution_count": null,
   "metadata": {},
   "outputs": [],
   "source": []
  }
 ],
 "metadata": {
  "kernelspec": {
   "display_name": "Python 3",
   "language": "python",
   "name": "python3"
  },
  "language_info": {
   "codemirror_mode": {
    "name": "ipython",
    "version": 3
   },
   "file_extension": ".py",
   "mimetype": "text/x-python",
   "name": "python",
   "nbconvert_exporter": "python",
   "pygments_lexer": "ipython3",
   "version": "3.7.6"
  }
 },
 "nbformat": 4,
 "nbformat_minor": 4
}
