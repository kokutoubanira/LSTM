{
 "cells": [
  {
   "cell_type": "code",
   "execution_count": 1,
   "metadata": {},
   "outputs": [],
   "source": [
    "import torch \n",
    "from torch import nn,optim\n",
    "from torch.utils.data import(Dataset, DataLoader, TensorDataset)\n",
    "import tqdm\n",
    "import re \n",
    "import collections\n",
    "import itertools\n",
    "import MeCab"
   ]
  },
  {
   "cell_type": "code",
   "execution_count": 2,
   "metadata": {},
   "outputs": [],
   "source": [
    "remove_marks_regex = re.compile(\"[\\,\\(\\)\\[\\]\\*:;]|<.*?>\")\n",
    "shift_marks_regex = re.compile(\"([?!\\.])\")\n",
    "\n",
    "unk = 0\n",
    "sos = 1\n",
    "eos = 2\n",
    "\n",
    "def normalize(text):\n",
    "    text = text.lower()\n",
    "    #不要な文字を削除\n",
    "    text = remove_marks_regex.sub(\"\", text)\n",
    "    #?!.と単語の間に空白を挿入\n",
    "    text = shift_marks_regex.sub(r\"\\1\", text)\n",
    "    return text\n",
    "\n",
    "def parse_line(line):\n",
    "    trg = normalize(line.strip())\n",
    "    #翻訳元と翻訳先それぞれのトークンリストを作成する\n",
    "    #日本語分かち書き\n",
    "    mecab = MeCab.Tagger (\"-Owakati\")\n",
    "    trg = mecab.parse(trg)\n",
    "\n",
    "    trg_tokens = trg.strip().split()\n",
    "    return trg_tokens\n",
    "\n",
    "def build_vocab(tokens):\n",
    "    #ファイル中のすべての文章でのトークン数を数える\n",
    "    counts = collections.Counter(tokens)\n",
    "    #トークンの出現数の多い順に並べる\n",
    "    sorted_counts = sorted(counts.items(), key=lambda c: c[1], reverse=True)\n",
    "    #3つのタグを追加して正引きリストと逆引き用辞書を作る\n",
    "    word_list = [\"<UNK>\", \"<SOS>\", \"<EOS>\"] \\\n",
    "    + [x[0] for x in sorted_counts]\n",
    "    word_dict = dict((w, i) for i, w in enumerate(word_list))\n",
    "    return word_list, word_dict\n",
    "\n",
    "def words2tensor(words, word_dict, max_len, padding=0):\n",
    "    #末尾に終了タグをつける\n",
    "    words = words + [\"<EOS>\"]\n",
    "    #辞書を利用して数値のリストに変換する\n",
    "    words = [word_dict.get(w,0) for w in words]\n",
    "    seq_len = len(words)\n",
    "    #長さがmax_len以下の場合はパディングする\n",
    "    if seq_len < max_len + 1:\n",
    "        words = words + [padding] * (max_len + 1 - seq_len)\n",
    "    #Tensorに変換して返す\n",
    "    return torch.tensor(words, dtype=torch.int64), seq_len"
   ]
  },
  {
   "cell_type": "code",
   "execution_count": 4,
   "metadata": {},
   "outputs": [],
   "source": [
    "class TranslationPairDataset(Dataset):\n",
    "    def __init__(self, path, max_len=15):\n",
    "        #単語数が多い文書をフィルタリングする関数\n",
    "        def filter_pair(p):\n",
    "            return not(len(p[0]) > max_len or len(p[1]) > max_len)\n",
    "        #ファイルを開き、パース/フィルタリングする\n",
    "        with open(path[\"train\"])as fp:\n",
    "            print(fp)\n",
    "            pairs = map(parse_line, fp)\n",
    "            pairs = filter(filter_pair, pairs)\n",
    "            pairs = list(pairs)\n",
    "        #文書のペアをソースとターゲットに分ける\n",
    "        src = [p for p in pairs]\n",
    "        with open(path[\"label\"])as fp:\n",
    "            pairs = map(parse_line, fp)\n",
    "            pairs = filter(filter_pair, pairs)\n",
    "            pairs = list(pairs)\n",
    "        trg = [p for p in pairs]\n",
    "        #それぞれの語彙集を作成する\n",
    "        self.src_word_list, self.src_word_dict = build_vocab(itertools.chain.from_iterable(src))\n",
    "        self.trg_word_list, self.trg_word_dict = build_vocab(itertools.chain.from_iterable(trg))\n",
    "        #語彙集を使用してTensorに変換する\n",
    "        self.src_data = [words2tensor(words, self.src_word_dict, max_len) for words in src]\n",
    "        self.trg_data = [words2tensor(words, self.trg_word_dict, max_len, -100) for words in trg]\n",
    "        \n",
    "    def __len__(self):\n",
    "        return len(self.src_data)\n",
    "    \n",
    "    def __getitem__(self, idx):\n",
    "        src, Isrc = self.src_data[idx]\n",
    "        trg, Itrg = self.trg_data[idx]\n",
    "        return src, Isrc, trg, Itrg"
   ]
  },
  {
   "cell_type": "code",
   "execution_count": 5,
   "metadata": {},
   "outputs": [],
   "source": [
    "class Encoder(nn.Module):\n",
    "    def __init__(self, num_embeddings, embedding_dim=50, hidden_size=50, num_layers=10, dropout=0.2):\n",
    "        super().__init__()\n",
    "        self.emb = nn.Embedding(num_embeddings, embedding_dim, padding_idx=0)\n",
    "        self.lstm = nn.LSTM(embedding_dim, hidden_size, num_layers, batch_first=True, dropout=dropout)\n",
    "    def forward(self, x, h0=None,l=None):\n",
    "        x = self.emb(x)\n",
    "        if l is not None:\n",
    "            x = nn.utils.rnn.pack_padded_sequence(x, l, batch_first=True)\n",
    "        _, h = self.lstm(x, h0)\n",
    "        return h"
   ]
  },
  {
   "cell_type": "code",
   "execution_count": 6,
   "metadata": {},
   "outputs": [],
   "source": [
    "class Decoder(nn.Module):\n",
    "    def __init__(self, num_embeddings, embedding_dim=50, hidden_size=50, num_layers=1, dropout=0.2):\n",
    "        super().__init__()\n",
    "        self.emb = nn.Embedding(num_embeddings, embedding_dim, padding_idx=0)\n",
    "        self.lstm = nn.LSTM(embedding_dim, hidden_size, num_layers, batch_first=True, dropout=dropout)\n",
    "        self.linear = nn.Linear(hidden_size, num_embeddings)\n",
    "        \n",
    "    def forward(self, x, h, l=None):\n",
    "        x = self.emb(x)\n",
    "        if l is not None:\n",
    "            x = nn.utils.rnn.pack_padded_sequence(x, l, batch_first=True)\n",
    "        x, h = self.lstm(x, h)\n",
    "        if l is not None:\n",
    "            x =nn.utils.rnn.pad_packed_sequence(x, batch_first=True, padding_value=0)[0]\n",
    "        x = self.linear(x)\n",
    "        return x, h"
   ]
  },
  {
   "cell_type": "code",
   "execution_count": 7,
   "metadata": {},
   "outputs": [],
   "source": [
    "def translate(input_str, enc, dec, max_len=15, device=\"cpu\"):\n",
    "    words = normalize(input_str).split()\n",
    "    input_tensor, seq_len = words2tensor(words, ds.src_word_dict, max_len=max_len)\n",
    "    input_tensor = input_tensor.unsqueeze(0)\n",
    "    #Encoderで使用するので入力の長さもリストにしておく\n",
    "    seq_len = [seq_len]\n",
    "    #開始トークン準備\n",
    "    sos_inputs = torch.tensor(sos, dtype=torch.int64)\n",
    "    input_tensor = input_tensor.to(device)\n",
    "    sos_inputs = sos_inputs.to(device)\n",
    "    #入力文字配列をEncoderに入れてコンテキストを得る\n",
    "    ctx = enc(input_tensor, l=seq_len)\n",
    "    #開始トークンとコンテキストをDecoderの初期値にセット\n",
    "    z = sos_inputs\n",
    "    h = ctx\n",
    "    results = []\n",
    "    for i in range(max_len):\n",
    "        #Decoderで次の単語を予測\n",
    "        o,h = dec(z.view(1,1), h)\n",
    "        #線形層の出力が最も大きい場所が次の単語のID\n",
    "        wi = o.detach().view(-1).max(0)[1]\n",
    "        if wi.item() == eos:\n",
    "            break\n",
    "        results.append(wi.item())\n",
    "        #次の入力は今回の出力のIDを使用する\n",
    "        z = wi\n",
    "    #記録しておいた出力のIDを文字列に変換\n",
    "    return \" \".join(ds.trg_word_list[i] for i in results)"
   ]
  },
  {
   "cell_type": "code",
   "execution_count": null,
   "metadata": {},
   "outputs": [
    {
     "name": "stdout",
     "output_type": "stream",
     "text": [
      "<_io.TextIOWrapper name='train_data/Text.txt' mode='r' encoding='UTF-8'>\n"
     ]
    }
   ],
   "source": [
    "batch_size = 1\n",
    "max_len = 200\n",
    "path = {\"train\":\"train_data/Text.txt\", \"label\":\"train_data/label.txt\"}\n",
    "ds = TranslationPairDataset(path, max_len=max_len)\n",
    "loder = DataLoader(ds, batch_size=batch_size, shuffle=True, num_workers=0)\n"
   ]
  },
  {
   "cell_type": "code",
   "execution_count": null,
   "metadata": {},
   "outputs": [],
   "source": [
    "print(len(ds.src_word_list))\n",
    "print(len(ds.trg_word_list))"
   ]
  },
  {
   "cell_type": "code",
   "execution_count": 9,
   "metadata": {},
   "outputs": [],
   "source": [
    "enc = Encoder(len(ds.src_word_list), 150, 150, 3)\n",
    "dec = Decoder(len(ds.trg_word_list), 150, 150, 3)\n",
    "enc.to(\"cuda:0\")\n",
    "dec.to(\"cuda:0\")\n",
    "opt_enc = optim.Adam(enc.parameters(), 0.009)\n",
    "opt_dec = optim.Adam(dec.parameters(), 0.009)\n",
    "loss_f =  nn.CrossEntropyLoss()"
   ]
  },
  {
   "cell_type": "code",
   "execution_count": null,
   "metadata": {},
   "outputs": [
    {
     "name": "stderr",
     "output_type": "stream",
     "text": [
      " 75%|███████▍  | 5520/7367 [08:03<02:31, 12.21it/s]"
     ]
    }
   ],
   "source": [
    "from statistics import mean\n",
    "\n",
    "def to2D(x):\n",
    "    shapes = x.shape\n",
    "    return x.reshape(shapes[0] * shapes[1], -1)\n",
    "\n",
    "for epoch in range(200):\n",
    "    enc.train(), dec.train()\n",
    "    losses = []\n",
    "    \n",
    "    for x, lx, y, ly in tqdm.tqdm(loder):\n",
    "        \n",
    "        #xのPackedSequenceを作るために翻訳元の長さで降順にソート\n",
    "        lx, sort_idx = lx.sort(descending = True)\n",
    "        x, y, ly = x[sort_idx], y[sort_idx], ly[sort_idx]\n",
    "        x = x.to(\"cuda:0\")\n",
    "        y = y.to(\"cuda:0\")\n",
    "        #翻訳元をEncoderに入れてコンテキストを得る\n",
    "        ctx = enc(x, l=lx)\n",
    "    \n",
    "        #yのpackedSequenceを作るために翻訳先の長さで降順にソート\n",
    "        ly, sort_idx = ly.sort(descending=True)\n",
    "        y = y[sort_idx]\n",
    "        #Decoderの初期値をセット\n",
    "        h0 = (ctx[0][:,sort_idx,:],ctx[1][:,sort_idx,:])\n",
    "        z = y[:,:-1].detach()\n",
    "        #-100のままだとEmbeddingの計算でエラーが出るので値を0にしておく\n",
    "        z[z==-100] = 0\n",
    "        #Decoderに通して損失関数を計算\n",
    "        o, _ = dec(z, h0,l=ly-1)\n",
    "        loss = loss_f(to2D(o[:]), to2D(y[:,1:max(ly)]).squeeze())\n",
    "        #誤差逆伝播\n",
    "        enc.zero_grad()\n",
    "        dec.zero_grad()\n",
    "        loss.backward()\n",
    "        opt_enc.step()\n",
    "        opt_dec.step()\n",
    "        losses.append(loss.item())\n",
    "       \n",
    "    enc.eval()\n",
    "    dec.eval()\n",
    "    print(epoch, mean(losses))\n",
    "    with torch.no_grad():\n",
    "        print(translate(\"I am student\", enc, dec, max_len=max_len, device=\"cuda:0\"))\n",
    "        print(translate(\"she is my mother\", enc, dec, max_len=max_len, device=\"cuda:0\"))\n",
    "        print(translate(\"Where is the registrar's office?\", enc, dec, max_len=max_len, device=\"cuda:0\"))\n",
    "        \n",
    "torch.save(enc.state_dict(), './enc.pth')\n",
    "torch.save(dec.state_dict(), './dec.pth')"
   ]
  },
  {
   "cell_type": "code",
   "execution_count": null,
   "metadata": {},
   "outputs": [],
   "source": []
  },
  {
   "cell_type": "code",
   "execution_count": null,
   "metadata": {},
   "outputs": [],
   "source": []
  }
 ],
 "metadata": {
  "kernelspec": {
   "display_name": "Python 3",
   "language": "python",
   "name": "python3"
  },
  "language_info": {
   "codemirror_mode": {
    "name": "ipython",
    "version": 3
   },
   "file_extension": ".py",
   "mimetype": "text/x-python",
   "name": "python",
   "nbconvert_exporter": "python",
   "pygments_lexer": "ipython3",
   "version": "3.7.6"
  }
 },
 "nbformat": 4,
 "nbformat_minor": 4
}
