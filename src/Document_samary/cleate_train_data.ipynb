{
 "cells": [
  {
   "cell_type": "code",
   "execution_count": 7,
   "metadata": {},
   "outputs": [],
   "source": [
    "import argparse\n",
    "import os\n",
    "import re\n",
    "\n",
    "# ファイル名規則\n",
    "# text/[category]/[category]-[num+].txt\n",
    "# これ以外に各カテゴリディレクトリにLICENSE.txtがある\n",
    "#\n",
    "# コンテンツ規則\n",
    "# 1: URL\n",
    "# 2: datetime\n",
    "# 3: abstract\n",
    "# 4+: article\n",
    "#\n",
    "# \"【.*】\"は削除したほうが良さそう\n",
    "\n",
    "def read_file(path):\n",
    "    with open(path, 'r') as f:\n",
    "        url = next(f)\n",
    "        timestamp = next(f)\n",
    "        abstract = next(f)[:-1]\n",
    "        article = ''\n",
    "        for line in f:\n",
    "            article += line[:-1]\n",
    "    return url, timestamp, abstract, article\n",
    "\n",
    "def get_dirs(path):\n",
    "    dirs = []\n",
    "    for p in os.listdir(path):\n",
    "        d = os.path.join(path, p)\n",
    "        if os.path.isdir(d):\n",
    "            dirs.append(d)\n",
    "    return dirs\n",
    "\n",
    "text_pattern = re.compile('[a-z-]+-\\d+.txt')\n",
    "\n",
    "def get_files(path):\n",
    "    files = []\n",
    "    for n in os.listdir(path):\n",
    "        if text_pattern.fullmatch(n):\n",
    "            files.append(n)\n",
    "    return files\n",
    "\n",
    "def make_pair(files_dir, art_fname):\n",
    "    max_abstract = 0\n",
    "    max_article = 0\n",
    "    with open(art_fname, 'w') as rf:\n",
    "#         rf.write(\"Text\" + \"\\t\" + \"label\" + \"\\n\")\n",
    "        for dname in get_dirs(files_dir):\n",
    "            for n in get_files(dname):\n",
    "                fname = os.path.join(dname, n)\n",
    "                _, _, abstract, article = read_file(fname)\n",
    "                rf.write(article.replace(\"\\t\", \" \") + \"\\t\" + abstract.replace(\"\\t\", \" \"))\n",
    "                rf.write('\\n')\n",
    "                if max_abstract < len(mecab.parse(abstract).split()):\n",
    "                    max_abstract = len(mecab.parse(abstract).split())\n",
    "                if max_article < len(mecab.parse(article).split()):\n",
    "                    max_article = len(mecab.parse(article).split())\n",
    "    return print(max_article, max_abstract)\n",
    "#         for n in get_files(files_dir):\n",
    "# #             rf.write(\"Text\" + \"\\t\" + \"label\" + \"\\n\")\n",
    "#             fname = os.path.join(files_dir, n)\n",
    "#             _, _, abstract, article = read_file(fname)\n",
    "#             rf.write(article.replace(\"\\t\", \" \") + \"\\t\" + abstract.replace(\"\\t\", \" \"))\n",
    "#             rf.write('\\n')\n",
    "#             if max_abstract < len(mecab.parse(abstract).split()):\n",
    "#                 max_abstract = len(mecab.parse(abstract).split())\n",
    "#             if max_article < len(mecab.parse(article).split()):\n",
    "#                 max_article = len(mecab.parse(article).split())\n",
    "#         return print(max_article, max_abstract)\n",
    "\n",
    "\n",
    "def get_args():\n",
    "    p = argparse.ArgumentParser()\n",
    "    p.add_argument('--input_dir', type=str, default=\"text\")\n",
    "    p.add_argument('--output_article', type=str, default='article.txt')\n",
    "    p.add_argument('--output_abstract', type=str, default='abstract.txt')\n",
    "    args = p.parse_args()\n",
    "    return args"
   ]
  },
  {
   "cell_type": "code",
   "execution_count": 8,
   "metadata": {},
   "outputs": [
    {
     "data": {
      "text/plain": [
       "'\\n'"
      ]
     },
     "execution_count": 8,
     "metadata": {},
     "output_type": "execute_result"
    }
   ],
   "source": [
    "import MeCab\n",
    "mecab = MeCab.Tagger('-Owakati -d /usr/lib/x86_64-linux-gnu/mecab/dic/mecab-ipadic-neologd')\n",
    "mecab.parse('')  # バグ対処"
   ]
  },
  {
   "cell_type": "code",
   "execution_count": 6,
   "metadata": {},
   "outputs": [
    {
     "name": "stdout",
     "output_type": "stream",
     "text": [
      "5815 50\n"
     ]
    }
   ],
   "source": [
    "make_pair(\"corpas\", \"train_data/Text.tsv\")"
   ]
  },
  {
   "cell_type": "code",
   "execution_count": null,
   "metadata": {},
   "outputs": [],
   "source": []
  }
 ],
 "metadata": {
  "kernelspec": {
   "display_name": "Python 3",
   "language": "python",
   "name": "python3"
  },
  "language_info": {
   "codemirror_mode": {
    "name": "ipython",
    "version": 3
   },
   "file_extension": ".py",
   "mimetype": "text/x-python",
   "name": "python",
   "nbconvert_exporter": "python",
   "pygments_lexer": "ipython3",
   "version": "3.7.6"
  }
 },
 "nbformat": 4,
 "nbformat_minor": 4
}
